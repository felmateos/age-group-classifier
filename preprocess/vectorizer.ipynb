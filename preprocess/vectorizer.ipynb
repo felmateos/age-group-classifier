{
 "cells": [
  {
   "cell_type": "code",
   "execution_count": 1,
   "metadata": {},
   "outputs": [],
   "source": [
    "from sklearn.feature_extraction.text import TfidfVectorizer\n",
    "from sklearn.model_selection import train_test_split\n",
    "from scipy.sparse import save_npz\n",
    "import pandas as pd\n",
    "import numpy as np"
   ]
  },
  {
   "cell_type": "code",
   "execution_count": 2,
   "metadata": {},
   "outputs": [],
   "source": [
    "seed = np.random.seed(777)"
   ]
  },
  {
   "cell_type": "code",
   "execution_count": 3,
   "metadata": {},
   "outputs": [
    {
     "data": {
      "text/html": [
       "<div>\n",
       "<style scoped>\n",
       "    .dataframe tbody tr th:only-of-type {\n",
       "        vertical-align: middle;\n",
       "    }\n",
       "\n",
       "    .dataframe tbody tr th {\n",
       "        vertical-align: top;\n",
       "    }\n",
       "\n",
       "    .dataframe thead th {\n",
       "        text-align: right;\n",
       "    }\n",
       "</style>\n",
       "<table border=\"1\" class=\"dataframe\">\n",
       "  <thead>\n",
       "    <tr style=\"text-align: right;\">\n",
       "      <th></th>\n",
       "      <th>req_text</th>\n",
       "      <th>age</th>\n",
       "      <th>age_encoded</th>\n",
       "      <th>word_tokens</th>\n",
       "      <th>lemma</th>\n",
       "    </tr>\n",
       "  </thead>\n",
       "  <tbody>\n",
       "    <tr>\n",
       "      <th>0</th>\n",
       "      <td>quantos empregados em cada um dos atuais níve...</td>\n",
       "      <td>a2</td>\n",
       "      <td>1</td>\n",
       "      <td>['quantos', 'empregados', 'em', 'cada', 'um', ...</td>\n",
       "      <td>quanto empregado em cada um de o atual nível s...</td>\n",
       "    </tr>\n",
       "    <tr>\n",
       "      <th>1</th>\n",
       "      <td>solicito cópia das atas do conselho de admini...</td>\n",
       "      <td>a2</td>\n",
       "      <td>1</td>\n",
       "      <td>['solicito', 'cópia', 'das', 'atas', 'do', 'co...</td>\n",
       "      <td>solicito cópia de o ata de o conselho de admin...</td>\n",
       "    </tr>\n",
       "    <tr>\n",
       "      <th>2</th>\n",
       "      <td>solicito informar a norma lei decreto portari...</td>\n",
       "      <td>a2</td>\n",
       "      <td>1</td>\n",
       "      <td>['solicito', 'informar', 'a', 'norma', 'lei', ...</td>\n",
       "      <td>solicito informar o norma lei decreto portaria...</td>\n",
       "    </tr>\n",
       "    <tr>\n",
       "      <th>3</th>\n",
       "      <td>solicito por gentileza a informação sobre a q...</td>\n",
       "      <td>a2</td>\n",
       "      <td>1</td>\n",
       "      <td>['solicito', 'por', 'gentileza', 'a', 'informa...</td>\n",
       "      <td>solicito por gentileza o informação sobre o qu...</td>\n",
       "    </tr>\n",
       "    <tr>\n",
       "      <th>4</th>\n",
       "      <td>solicito por gentileza a informação sobre a q...</td>\n",
       "      <td>a2</td>\n",
       "      <td>1</td>\n",
       "      <td>['solicito', 'por', 'gentileza', 'a', 'informa...</td>\n",
       "      <td>solicito por gentileza o informação sobre o qu...</td>\n",
       "    </tr>\n",
       "  </tbody>\n",
       "</table>\n",
       "</div>"
      ],
      "text/plain": [
       "                                            req_text age  age_encoded  \\\n",
       "0   quantos empregados em cada um dos atuais níve...  a2            1   \n",
       "1   solicito cópia das atas do conselho de admini...  a2            1   \n",
       "2   solicito informar a norma lei decreto portari...  a2            1   \n",
       "3   solicito por gentileza a informação sobre a q...  a2            1   \n",
       "4   solicito por gentileza a informação sobre a q...  a2            1   \n",
       "\n",
       "                                         word_tokens  \\\n",
       "0  ['quantos', 'empregados', 'em', 'cada', 'um', ...   \n",
       "1  ['solicito', 'cópia', 'das', 'atas', 'do', 'co...   \n",
       "2  ['solicito', 'informar', 'a', 'norma', 'lei', ...   \n",
       "3  ['solicito', 'por', 'gentileza', 'a', 'informa...   \n",
       "4  ['solicito', 'por', 'gentileza', 'a', 'informa...   \n",
       "\n",
       "                                               lemma  \n",
       "0  quanto empregado em cada um de o atual nível s...  \n",
       "1  solicito cópia de o ata de o conselho de admin...  \n",
       "2  solicito informar o norma lei decreto portaria...  \n",
       "3  solicito por gentileza o informação sobre o qu...  \n",
       "4  solicito por gentileza o informação sobre o qu...  "
      ]
     },
     "execution_count": 3,
     "metadata": {},
     "output_type": "execute_result"
    }
   ],
   "source": [
    "df = pd.read_csv('../data/enc_tok_nopunct_lemm.csv')\n",
    "df.head()"
   ]
  },
  {
   "cell_type": "code",
   "execution_count": 62,
   "metadata": {},
   "outputs": [],
   "source": [
    "X_labels = [i for i in df.columns if (i != 'age' and i != 'age_encoded')]\n",
    "X = df['lemma']\n",
    "y = df['age_encoded']"
   ]
  },
  {
   "cell_type": "code",
   "execution_count": 63,
   "metadata": {},
   "outputs": [],
   "source": [
    "X_train, X_test, y_train, y_test = train_test_split(X, y, train_size=.8, stratify=df['age_encoded'], random_state=seed)"
   ]
  },
  {
   "cell_type": "code",
   "execution_count": 64,
   "metadata": {},
   "outputs": [],
   "source": [
    "tfidf_vect = TfidfVectorizer(max_features=5000)\n",
    "tfidf_vect.fit(X)\n",
    "\n",
    "X_train_tfidf = tfidf_vect.transform(X_train)\n",
    "X_test_tfidf = tfidf_vect.transform(X_test)"
   ]
  },
  {
   "cell_type": "code",
   "execution_count": 66,
   "metadata": {},
   "outputs": [],
   "source": [
    "save_npz('../vectors/tfidf_lemma/X_train_tfidf.npz', X_train_tfidf)\n",
    "save_npz('../vectors/tfidf_lemma/X_test_tfidf.npz', X_test_tfidf)\n",
    "\n",
    "np.save('../vectors/tfidf_lemma/y_train.npy', y_train)\n",
    "np.save('../vectors/tfidf_lemma/y_test.npy', y_test)"
   ]
  }
 ],
 "metadata": {
  "kernelspec": {
   "display_name": "Python 3",
   "language": "python",
   "name": "python3"
  },
  "language_info": {
   "codemirror_mode": {
    "name": "ipython",
    "version": 3
   },
   "file_extension": ".py",
   "mimetype": "text/x-python",
   "name": "python",
   "nbconvert_exporter": "python",
   "pygments_lexer": "ipython3",
   "version": "3.11.4"
  }
 },
 "nbformat": 4,
 "nbformat_minor": 2
}
