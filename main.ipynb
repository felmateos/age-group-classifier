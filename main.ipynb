{
 "cells": [
  {
   "cell_type": "markdown",
   "metadata": {},
   "source": [
    "# Instruções para reproduzir os resultados do modelo final"
   ]
  },
  {
   "cell_type": "code",
   "execution_count": null,
   "metadata": {},
   "outputs": [],
   "source": [
    "# instalar todas as bibliotecas utilizadas\n",
    "!pip install -r requirements.txt"
   ]
  },
  {
   "cell_type": "markdown",
   "metadata": {},
   "source": [
    "## 1. Pré-processar o conjunto de dados\n",
    "\n",
    "Execute as celulas abaixo para realizar o pré-processar os dados presentes no arquivo 'ep2-pln-train.xlsx' dentro da pasta 'data'. Você deve obter como resultado o arquivo 'enc_tok_nopunct_lemm.csv' que está armazenado em 'data'"
   ]
  },
  {
   "cell_type": "code",
   "execution_count": 86,
   "metadata": {},
   "outputs": [],
   "source": [
    "from preprocess import preprocess\n",
    "import pandas as pd\n",
    "import numpy as np\n",
    "from scipy.sparse import save_npz, load_npz\n",
    "\n",
    "from sklearn.svm import SVC\n",
    "from sklearn.ensemble import RandomForestClassifier, VotingClassifier\n",
    "\n",
    "from sklearn.model_selection import train_test_split, cross_val_score, KFold\n",
    "from sklearn.metrics import accuracy_score, confusion_matrix\n",
    "\n",
    "import matplotlib.pyplot as plt\n",
    "import seaborn as sns\n",
    "\n",
    "from sklearn.preprocessing import LabelEncoder\n",
    "\n",
    "from sklearn.feature_extraction.text import TfidfVectorizer\n",
    "\n",
    "import pickle\n",
    "import blosc\n",
    "\n",
    "import shap\n",
    "\n",
    "import warnings\n",
    "\n",
    "warnings.filterwarnings(\"ignore\")\n",
    "\n",
    "seed = np.random.seed(777)"
   ]
  },
  {
   "cell_type": "code",
   "execution_count": 4,
   "metadata": {},
   "outputs": [],
   "source": [
    "df = pd.read_excel('data/ep2-pln-train.xlsx')\n",
    "\n",
    "preprocess.encode_class(df, 'age')\n",
    "\n",
    "preprocess.tokenize(df, 'req_text', True, True)\n",
    "\n",
    "preprocess.lemmatize(df, 'word_tokens', True)\n",
    "\n",
    "df.to_csv('data/enc_tok_nopunct_lemm.csv', index=False)"
   ]
  },
  {
   "cell_type": "markdown",
   "metadata": {},
   "source": [
    "## 2. Vetorizar conjunto de dados limpo\n",
    "\n",
    "Execute o notebook jupyter 'vectorizer.ipynb' que está no diretório 'processing'. Você deve obter como resultado os arquivos {'X_train_Tfidf.npz', 'X_test_Tfidf.npz', 'y_train.npy', 'y_test.npy'} armazenado em 'vects'"
   ]
  },
  {
   "cell_type": "code",
   "execution_count": 5,
   "metadata": {},
   "outputs": [],
   "source": [
    "df = pd.read_csv('data/enc_tok_nopunct_lemm.csv')\n",
    "\n",
    "X_labels = [i for i in df.columns if (i != 'age' and i != 'age_encoded')]\n",
    "X = df['lemma']\n",
    "y = df['age_encoded']\n",
    "\n",
    "X_train, X_test, y_train, y_test = train_test_split(X, y, train_size=.8, stratify=df['age_encoded'], random_state=seed)\n",
    "\n",
    "tfidf_vect = TfidfVectorizer(max_features=5000)\n",
    "tfidf_vect.fit(X)\n",
    "\n",
    "X_train_tfidf = tfidf_vect.transform(X_train)\n",
    "X_test_tfidf = tfidf_vect.transform(X_test)\n",
    "\n",
    "save_npz('vectors/tfidf_lemma/X_train_tfidf.npz', X_train_tfidf)\n",
    "save_npz('vectors/tfidf_lemma/X_test_tfidf.npz', X_test_tfidf)\n",
    "\n",
    "np.save('vectors/tfidf_lemma/y_train.npy', y_train)\n",
    "np.save('vectors/tfidf_lemma/y_test.npy', y_test)"
   ]
  },
  {
   "cell_type": "markdown",
   "metadata": {},
   "source": [
    "## 3. Escolha dos hiperparâmetros dos modelos selecionados"
   ]
  },
  {
   "cell_type": "markdown",
   "metadata": {},
   "source": [
    "### 3.0 Carregar vetores de treino e teste"
   ]
  },
  {
   "cell_type": "code",
   "execution_count": 15,
   "metadata": {},
   "outputs": [],
   "source": [
    "X_train = load_npz('vectors/tfidf_lemma/X_train_tfidf.npz')\n",
    "X_test = load_npz('vectors/tfidf_lemma/X_test_tfidf.npz')\n",
    "\n",
    "y_train = np.load('vectors/tfidf_lemma/y_train.npy', allow_pickle=True)\n",
    "y_test = np.load('vectors/tfidf_lemma/y_test.npy', allow_pickle=True)"
   ]
  },
  {
   "cell_type": "markdown",
   "metadata": {},
   "source": [
    "### 3.1 Melhores hiperparâmetros\n",
    "\n",
    "Para encontrar os melhores hiperparâmetros utilizamos a biblioteca 'optuna', mais detatlhes de como essa busca foi feita estão no arquivo 'NB_SVM_RF_tfidf.ipynb' dentro do diretório 'classic_models'. Aqui apenas treinaremos os modelos usando os hiperparâmetros encontrados."
   ]
  },
  {
   "cell_type": "code",
   "execution_count": 16,
   "metadata": {},
   "outputs": [],
   "source": [
    "class_weights = dict(zip(range(len(np.unique(y_train))), 1 / np.bincount(y_train)))\n",
    "labels = ['0','1','2','3']\n",
    "\n",
    "SVM_params = {\n",
    "    'class_weight': 'balanced', \n",
    "    'probability': True,\n",
    "}\n",
    "\n",
    "RF_params = {\n",
    "    'n_estimators': 167,\n",
    "    'max_depth': 176,\n",
    "    'class_weight': class_weights,\n",
    "}"
   ]
  },
  {
   "cell_type": "code",
   "execution_count": 17,
   "metadata": {},
   "outputs": [],
   "source": [
    "SVM = SVC(**SVM_params)\n",
    "RF = RandomForestClassifier(**RF_params)"
   ]
  },
  {
   "cell_type": "code",
   "execution_count": 18,
   "metadata": {},
   "outputs": [
    {
     "data": {
      "text/html": [
       "<style>#sk-container-id-1 {color: black;}#sk-container-id-1 pre{padding: 0;}#sk-container-id-1 div.sk-toggleable {background-color: white;}#sk-container-id-1 label.sk-toggleable__label {cursor: pointer;display: block;width: 100%;margin-bottom: 0;padding: 0.3em;box-sizing: border-box;text-align: center;}#sk-container-id-1 label.sk-toggleable__label-arrow:before {content: \"▸\";float: left;margin-right: 0.25em;color: #696969;}#sk-container-id-1 label.sk-toggleable__label-arrow:hover:before {color: black;}#sk-container-id-1 div.sk-estimator:hover label.sk-toggleable__label-arrow:before {color: black;}#sk-container-id-1 div.sk-toggleable__content {max-height: 0;max-width: 0;overflow: hidden;text-align: left;background-color: #f0f8ff;}#sk-container-id-1 div.sk-toggleable__content pre {margin: 0.2em;color: black;border-radius: 0.25em;background-color: #f0f8ff;}#sk-container-id-1 input.sk-toggleable__control:checked~div.sk-toggleable__content {max-height: 200px;max-width: 100%;overflow: auto;}#sk-container-id-1 input.sk-toggleable__control:checked~label.sk-toggleable__label-arrow:before {content: \"▾\";}#sk-container-id-1 div.sk-estimator input.sk-toggleable__control:checked~label.sk-toggleable__label {background-color: #d4ebff;}#sk-container-id-1 div.sk-label input.sk-toggleable__control:checked~label.sk-toggleable__label {background-color: #d4ebff;}#sk-container-id-1 input.sk-hidden--visually {border: 0;clip: rect(1px 1px 1px 1px);clip: rect(1px, 1px, 1px, 1px);height: 1px;margin: -1px;overflow: hidden;padding: 0;position: absolute;width: 1px;}#sk-container-id-1 div.sk-estimator {font-family: monospace;background-color: #f0f8ff;border: 1px dotted black;border-radius: 0.25em;box-sizing: border-box;margin-bottom: 0.5em;}#sk-container-id-1 div.sk-estimator:hover {background-color: #d4ebff;}#sk-container-id-1 div.sk-parallel-item::after {content: \"\";width: 100%;border-bottom: 1px solid gray;flex-grow: 1;}#sk-container-id-1 div.sk-label:hover label.sk-toggleable__label {background-color: #d4ebff;}#sk-container-id-1 div.sk-serial::before {content: \"\";position: absolute;border-left: 1px solid gray;box-sizing: border-box;top: 0;bottom: 0;left: 50%;z-index: 0;}#sk-container-id-1 div.sk-serial {display: flex;flex-direction: column;align-items: center;background-color: white;padding-right: 0.2em;padding-left: 0.2em;position: relative;}#sk-container-id-1 div.sk-item {position: relative;z-index: 1;}#sk-container-id-1 div.sk-parallel {display: flex;align-items: stretch;justify-content: center;background-color: white;position: relative;}#sk-container-id-1 div.sk-item::before, #sk-container-id-1 div.sk-parallel-item::before {content: \"\";position: absolute;border-left: 1px solid gray;box-sizing: border-box;top: 0;bottom: 0;left: 50%;z-index: -1;}#sk-container-id-1 div.sk-parallel-item {display: flex;flex-direction: column;z-index: 1;position: relative;background-color: white;}#sk-container-id-1 div.sk-parallel-item:first-child::after {align-self: flex-end;width: 50%;}#sk-container-id-1 div.sk-parallel-item:last-child::after {align-self: flex-start;width: 50%;}#sk-container-id-1 div.sk-parallel-item:only-child::after {width: 0;}#sk-container-id-1 div.sk-dashed-wrapped {border: 1px dashed gray;margin: 0 0.4em 0.5em 0.4em;box-sizing: border-box;padding-bottom: 0.4em;background-color: white;}#sk-container-id-1 div.sk-label label {font-family: monospace;font-weight: bold;display: inline-block;line-height: 1.2em;}#sk-container-id-1 div.sk-label-container {text-align: center;}#sk-container-id-1 div.sk-container {/* jupyter's `normalize.less` sets `[hidden] { display: none; }` but bootstrap.min.css set `[hidden] { display: none !important; }` so we also need the `!important` here to be able to override the default hidden behavior on the sphinx rendered scikit-learn.org. See: https://github.com/scikit-learn/scikit-learn/issues/21755 */display: inline-block !important;position: relative;}#sk-container-id-1 div.sk-text-repr-fallback {display: none;}</style><div id=\"sk-container-id-1\" class=\"sk-top-container\"><div class=\"sk-text-repr-fallback\"><pre>RandomForestClassifier(class_weight={0: 0.0010416666666666667, 1: 0.000625,\n",
       "                                     2: 0.0004166666666666667, 3: 0.000625},\n",
       "                       max_depth=176, n_estimators=167)</pre><b>In a Jupyter environment, please rerun this cell to show the HTML representation or trust the notebook. <br />On GitHub, the HTML representation is unable to render, please try loading this page with nbviewer.org.</b></div><div class=\"sk-container\" hidden><div class=\"sk-item\"><div class=\"sk-estimator sk-toggleable\"><input class=\"sk-toggleable__control sk-hidden--visually\" id=\"sk-estimator-id-1\" type=\"checkbox\" checked><label for=\"sk-estimator-id-1\" class=\"sk-toggleable__label sk-toggleable__label-arrow\">RandomForestClassifier</label><div class=\"sk-toggleable__content\"><pre>RandomForestClassifier(class_weight={0: 0.0010416666666666667, 1: 0.000625,\n",
       "                                     2: 0.0004166666666666667, 3: 0.000625},\n",
       "                       max_depth=176, n_estimators=167)</pre></div></div></div></div></div>"
      ],
      "text/plain": [
       "RandomForestClassifier(class_weight={0: 0.0010416666666666667, 1: 0.000625,\n",
       "                                     2: 0.0004166666666666667, 3: 0.000625},\n",
       "                       max_depth=176, n_estimators=167)"
      ]
     },
     "execution_count": 18,
     "metadata": {},
     "output_type": "execute_result"
    }
   ],
   "source": [
    "SVM.fit(X_train, y_train)\n",
    "RF.fit(X_train, y_train)"
   ]
  },
  {
   "cell_type": "code",
   "execution_count": 19,
   "metadata": {},
   "outputs": [],
   "source": [
    "SVM_y_pred = SVM.predict(X_test)\n",
    "RF_y_pred = RF.predict(X_test)"
   ]
  },
  {
   "cell_type": "code",
   "execution_count": 20,
   "metadata": {},
   "outputs": [],
   "source": [
    "cm_SVM = confusion_matrix(y_test, SVM_y_pred)\n",
    "cm_SVM = cm_SVM.astype('float') / cm_SVM.sum(axis=1)[:, np.newaxis]\n",
    "\n",
    "cm_RF = confusion_matrix(y_test, RF_y_pred)\n",
    "cm_RF = cm_RF.astype('float') / cm_RF.sum(axis=1)[:, np.newaxis]"
   ]
  },
  {
   "cell_type": "markdown",
   "metadata": {},
   "source": [
    "### 3.2 visualização dos resultados em cada classe\n",
    "optamos por gerar matrizes de confusão para verificar como os modelos estavam obtendo a sua acurácia média, dado que o conujunto de dados era desbalanceado."
   ]
  },
  {
   "cell_type": "code",
   "execution_count": 171,
   "metadata": {},
   "outputs": [
    {
     "data": {
      "image/png": "[encoded data removed]",
      "text/plain": [
       "<Figure size 1200x500 with 4 Axes>"
      ]
     },
     "metadata": {},
     "output_type": "display_data"
    }
   ],
   "source": [
    "fig, axes = plt.subplots(nrows=1, ncols=2, figsize=(12, 5))\n",
    "\n",
    "for i, (cm, model_name) in enumerate(zip([cm_SVM, cm_RF], ['SVM', 'RandomForest'])):\n",
    "    sns.heatmap(cm, annot=True, cmap=\"Purples\", xticklabels=labels, yticklabels=labels, ax=axes[i])\n",
    "    axes[i].set_title(f'{model_name}', color='#fff', size=24)\n",
    "    axes[i].set_xlabel('Valores Preditos', color='#fff')\n",
    "    axes[i].set_ylabel('Valores Reais', color='#fff')\n",
    "\n",
    "plt.tight_layout()\n",
    "plt.show()"
   ]
  },
  {
   "cell_type": "code",
   "execution_count": 22,
   "metadata": {},
   "outputs": [],
   "source": [
    "with open('models_dump/SVM_CV50_T50.pkl', 'wb') as file:\n",
    "    pickle.dump(SVM, file)\n",
    "\n",
    "with open('models_dump/RF_CV51_T51.pkl', 'wb') as file:\n",
    "    pickle.dump(RF, file)"
   ]
  },
  {
   "cell_type": "markdown",
   "metadata": {},
   "source": [
    "## 4. Gerando ensemble dos modelos selecionados"
   ]
  },
  {
   "cell_type": "code",
   "execution_count": 23,
   "metadata": {},
   "outputs": [],
   "source": [
    "weights = {'RF': [1,1,1,3], 'SVM': [3,2,2,1]}"
   ]
  },
  {
   "cell_type": "code",
   "execution_count": 24,
   "metadata": {},
   "outputs": [],
   "source": [
    "def get_weighted_probabilities(models, X, weights):\n",
    "    probabilities = [model.predict_proba(X) * weight for (model, weight) in zip(models, weights.values())]\n",
    "    return np.sum(probabilities, axis=0)"
   ]
  },
  {
   "cell_type": "code",
   "execution_count": 25,
   "metadata": {},
   "outputs": [],
   "source": [
    "ensemble_proba = get_weighted_probabilities([SVM, RF], X_test, weights)\n",
    "\n",
    "ensemble_model = VotingClassifier(estimators=[\n",
    "    ('RF', RF),\n",
    "    ('SVM', SVM)\n",
    "], voting='soft', weights=weights)"
   ]
  },
  {
   "cell_type": "code",
   "execution_count": 26,
   "metadata": {},
   "outputs": [
    {
     "data": {
      "text/html": [
       "<style>#sk-container-id-2 {color: black;}#sk-container-id-2 pre{padding: 0;}#sk-container-id-2 div.sk-toggleable {background-color: white;}#sk-container-id-2 label.sk-toggleable__label {cursor: pointer;display: block;width: 100%;margin-bottom: 0;padding: 0.3em;box-sizing: border-box;text-align: center;}#sk-container-id-2 label.sk-toggleable__label-arrow:before {content: \"▸\";float: left;margin-right: 0.25em;color: #696969;}#sk-container-id-2 label.sk-toggleable__label-arrow:hover:before {color: black;}#sk-container-id-2 div.sk-estimator:hover label.sk-toggleable__label-arrow:before {color: black;}#sk-container-id-2 div.sk-toggleable__content {max-height: 0;max-width: 0;overflow: hidden;text-align: left;background-color: #f0f8ff;}#sk-container-id-2 div.sk-toggleable__content pre {margin: 0.2em;color: black;border-radius: 0.25em;background-color: #f0f8ff;}#sk-container-id-2 input.sk-toggleable__control:checked~div.sk-toggleable__content {max-height: 200px;max-width: 100%;overflow: auto;}#sk-container-id-2 input.sk-toggleable__control:checked~label.sk-toggleable__label-arrow:before {content: \"▾\";}#sk-container-id-2 div.sk-estimator input.sk-toggleable__control:checked~label.sk-toggleable__label {background-color: #d4ebff;}#sk-container-id-2 div.sk-label input.sk-toggleable__control:checked~label.sk-toggleable__label {background-color: #d4ebff;}#sk-container-id-2 input.sk-hidden--visually {border: 0;clip: rect(1px 1px 1px 1px);clip: rect(1px, 1px, 1px, 1px);height: 1px;margin: -1px;overflow: hidden;padding: 0;position: absolute;width: 1px;}#sk-container-id-2 div.sk-estimator {font-family: monospace;background-color: #f0f8ff;border: 1px dotted black;border-radius: 0.25em;box-sizing: border-box;margin-bottom: 0.5em;}#sk-container-id-2 div.sk-estimator:hover {background-color: #d4ebff;}#sk-container-id-2 div.sk-parallel-item::after {content: \"\";width: 100%;border-bottom: 1px solid gray;flex-grow: 1;}#sk-container-id-2 div.sk-label:hover label.sk-toggleable__label {background-color: #d4ebff;}#sk-container-id-2 div.sk-serial::before {content: \"\";position: absolute;border-left: 1px solid gray;box-sizing: border-box;top: 0;bottom: 0;left: 50%;z-index: 0;}#sk-container-id-2 div.sk-serial {display: flex;flex-direction: column;align-items: center;background-color: white;padding-right: 0.2em;padding-left: 0.2em;position: relative;}#sk-container-id-2 div.sk-item {position: relative;z-index: 1;}#sk-container-id-2 div.sk-parallel {display: flex;align-items: stretch;justify-content: center;background-color: white;position: relative;}#sk-container-id-2 div.sk-item::before, #sk-container-id-2 div.sk-parallel-item::before {content: \"\";position: absolute;border-left: 1px solid gray;box-sizing: border-box;top: 0;bottom: 0;left: 50%;z-index: -1;}#sk-container-id-2 div.sk-parallel-item {display: flex;flex-direction: column;z-index: 1;position: relative;background-color: white;}#sk-container-id-2 div.sk-parallel-item:first-child::after {align-self: flex-end;width: 50%;}#sk-container-id-2 div.sk-parallel-item:last-child::after {align-self: flex-start;width: 50%;}#sk-container-id-2 div.sk-parallel-item:only-child::after {width: 0;}#sk-container-id-2 div.sk-dashed-wrapped {border: 1px dashed gray;margin: 0 0.4em 0.5em 0.4em;box-sizing: border-box;padding-bottom: 0.4em;background-color: white;}#sk-container-id-2 div.sk-label label {font-family: monospace;font-weight: bold;display: inline-block;line-height: 1.2em;}#sk-container-id-2 div.sk-label-container {text-align: center;}#sk-container-id-2 div.sk-container {/* jupyter's `normalize.less` sets `[hidden] { display: none; }` but bootstrap.min.css set `[hidden] { display: none !important; }` so we also need the `!important` here to be able to override the default hidden behavior on the sphinx rendered scikit-learn.org. See: https://github.com/scikit-learn/scikit-learn/issues/21755 */display: inline-block !important;position: relative;}#sk-container-id-2 div.sk-text-repr-fallback {display: none;}</style><div id=\"sk-container-id-2\" class=\"sk-top-container\"><div class=\"sk-text-repr-fallback\"><pre>VotingClassifier(estimators=[(&#x27;RF&#x27;,\n",
       "                              RandomForestClassifier(class_weight={0: 0.0010416666666666667,\n",
       "                                                                   1: 0.000625,\n",
       "                                                                   2: 0.0004166666666666667,\n",
       "                                                                   3: 0.000625},\n",
       "                                                     max_depth=176,\n",
       "                                                     n_estimators=167)),\n",
       "                             (&#x27;SVM&#x27;,\n",
       "                              SVC(class_weight=&#x27;balanced&#x27;, probability=True))],\n",
       "                 voting=&#x27;soft&#x27;,\n",
       "                 weights={&#x27;RF&#x27;: [1, 1, 1, 3], &#x27;SVM&#x27;: [3, 2, 2, 1]})</pre><b>In a Jupyter environment, please rerun this cell to show the HTML representation or trust the notebook. <br />On GitHub, the HTML representation is unable to render, please try loading this page with nbviewer.org.</b></div><div class=\"sk-container\" hidden><div class=\"sk-item sk-dashed-wrapped\"><div class=\"sk-label-container\"><div class=\"sk-label sk-toggleable\"><input class=\"sk-toggleable__control sk-hidden--visually\" id=\"sk-estimator-id-2\" type=\"checkbox\" ><label for=\"sk-estimator-id-2\" class=\"sk-toggleable__label sk-toggleable__label-arrow\">VotingClassifier</label><div class=\"sk-toggleable__content\"><pre>VotingClassifier(estimators=[(&#x27;RF&#x27;,\n",
       "                              RandomForestClassifier(class_weight={0: 0.0010416666666666667,\n",
       "                                                                   1: 0.000625,\n",
       "                                                                   2: 0.0004166666666666667,\n",
       "                                                                   3: 0.000625},\n",
       "                                                     max_depth=176,\n",
       "                                                     n_estimators=167)),\n",
       "                             (&#x27;SVM&#x27;,\n",
       "                              SVC(class_weight=&#x27;balanced&#x27;, probability=True))],\n",
       "                 voting=&#x27;soft&#x27;,\n",
       "                 weights={&#x27;RF&#x27;: [1, 1, 1, 3], &#x27;SVM&#x27;: [3, 2, 2, 1]})</pre></div></div></div><div class=\"sk-parallel\"><div class=\"sk-parallel-item\"><div class=\"sk-item\"><div class=\"sk-label-container\"><div class=\"sk-label sk-toggleable\"><label>RF</label></div></div><div class=\"sk-serial\"><div class=\"sk-item\"><div class=\"sk-estimator sk-toggleable\"><input class=\"sk-toggleable__control sk-hidden--visually\" id=\"sk-estimator-id-3\" type=\"checkbox\" ><label for=\"sk-estimator-id-3\" class=\"sk-toggleable__label sk-toggleable__label-arrow\">RandomForestClassifier</label><div class=\"sk-toggleable__content\"><pre>RandomForestClassifier(class_weight={0: 0.0010416666666666667, 1: 0.000625,\n",
       "                                     2: 0.0004166666666666667, 3: 0.000625},\n",
       "                       max_depth=176, n_estimators=167)</pre></div></div></div></div></div></div><div class=\"sk-parallel-item\"><div class=\"sk-item\"><div class=\"sk-label-container\"><div class=\"sk-label sk-toggleable\"><label>SVM</label></div></div><div class=\"sk-serial\"><div class=\"sk-item\"><div class=\"sk-estimator sk-toggleable\"><input class=\"sk-toggleable__control sk-hidden--visually\" id=\"sk-estimator-id-4\" type=\"checkbox\" ><label for=\"sk-estimator-id-4\" class=\"sk-toggleable__label sk-toggleable__label-arrow\">SVC</label><div class=\"sk-toggleable__content\"><pre>SVC(class_weight=&#x27;balanced&#x27;, probability=True)</pre></div></div></div></div></div></div></div></div></div></div>"
      ],
      "text/plain": [
       "VotingClassifier(estimators=[('RF',\n",
       "                              RandomForestClassifier(class_weight={0: 0.0010416666666666667,\n",
       "                                                                   1: 0.000625,\n",
       "                                                                   2: 0.0004166666666666667,\n",
       "                                                                   3: 0.000625},\n",
       "                                                     max_depth=176,\n",
       "                                                     n_estimators=167)),\n",
       "                             ('SVM',\n",
       "                              SVC(class_weight='balanced', probability=True))],\n",
       "                 voting='soft',\n",
       "                 weights={'RF': [1, 1, 1, 3], 'SVM': [3, 2, 2, 1]})"
      ]
     },
     "execution_count": 26,
     "metadata": {},
     "output_type": "execute_result"
    }
   ],
   "source": [
    "ensemble_model.fit(X_train, y_train)"
   ]
  },
  {
   "cell_type": "markdown",
   "metadata": {},
   "source": [
    "### 4.1 Acurácia do ensemble no conjunto de teste"
   ]
  },
  {
   "cell_type": "code",
   "execution_count": 89,
   "metadata": {},
   "outputs": [
    {
     "name": "stdout",
     "output_type": "stream",
     "text": [
      "Acurácia do Ensemble: 0.5231707317073171\n"
     ]
    }
   ],
   "source": [
    "ensemble_predictions = np.argmax(ensemble_proba, axis=1)\n",
    "print(f'Acurácia do Ensemble: {accuracy_score(y_test, ensemble_predictions)}')"
   ]
  },
  {
   "cell_type": "markdown",
   "metadata": {},
   "source": [
    "### 4.2 Acurácia média do ensemble em um cross validation com 10 folds\n",
    "Obs.: Criamos uma função para esse ensemble, pois a função 'cross_validation_score' do sklearn não suporta os modelos que usamos. Entretanto, vale ressaltar que utilizamos a função 'Kfold' do 'sklearn' para manter a consistência."
   ]
  },
  {
   "cell_type": "code",
   "execution_count": 19,
   "metadata": {},
   "outputs": [],
   "source": [
    "def cv_scores(X, y):\n",
    "    kf = KFold(n_splits=10, shuffle=True, random_state=42)\n",
    "\n",
    "    # Inicializando listas para armazenar pontuações\n",
    "    cross_val_scores = []\n",
    "\n",
    "    # Realizando a validação cruzada manualmente\n",
    "    for train_index, test_index in kf.split(X):\n",
    "        X_train, X_test = X[train_index], X[test_index]\n",
    "        y_train, y_test = y[train_index], y[test_index]\n",
    "\n",
    "        # Treinando os modelos com pesos\n",
    "        SVM.fit(X_train, y_train)\n",
    "        RF.fit(X_train, y_train)\n",
    "\n",
    "        # Calculando probabilidades ponderadas usando a função personalizada\n",
    "        weighted_probabilities = get_weighted_probabilities([SVM, RF], X_test, weights)\n",
    "\n",
    "        # Convertendo probabilidades para previsões\n",
    "        ensemble_predictions = np.argmax(weighted_probabilities, axis=1)\n",
    "\n",
    "        # Calculando a acurácia e armazenando\n",
    "        accuracy = np.sum(ensemble_predictions == y_test) / len(y_test)\n",
    "        cross_val_scores.append(accuracy)\n",
    "    return cross_val_scores"
   ]
  },
  {
   "cell_type": "code",
   "execution_count": 169,
   "metadata": {},
   "outputs": [
    {
     "data": {
      "image/png": "[encoded data removed]",
      "text/plain": [
       "<Figure size 800x600 with 2 Axes>"
      ]
     },
     "metadata": {},
     "output_type": "display_data"
    }
   ],
   "source": [
    "cm = confusion_matrix(y_test, ensemble_predictions)\n",
    "\n",
    "cm = cm.astype('float') / cm.sum(axis=1)[:, np.newaxis]\n",
    "\n",
    "plt.figure(figsize=(8, 6))\n",
    "sns.heatmap(cm, annot=True, cmap=\"Purples\", xticklabels=labels, yticklabels=labels)\n",
    "sns.set(rc={'ytick.labelcolor':'white','xtick.labelcolor':'white'})\n",
    "plt.rcParams['figure.facecolor'] = '#26173c' \n",
    "plt.title('Ensemble: SVM + RF', color='#fff', size=24)\n",
    "plt.xlabel('Valores Preditos', color='#fff')\n",
    "plt.ylabel('Valores Reais', color='#fff')\n",
    "\n",
    "plt.show()"
   ]
  },
  {
   "cell_type": "code",
   "execution_count": 21,
   "metadata": {},
   "outputs": [
    {
     "name": "stdout",
     "output_type": "stream",
     "text": [
      "Pontuações da validação cruzada: [0.5213414634146342, 0.5015243902439024, 0.5320121951219512, 0.5228658536585366, 0.5213414634146342, 0.5060975609756098, 0.48628048780487804, 0.5228658536585366, 0.4817073170731707, 0.5320121951219512]\n",
      "Média das pontuações da validação cruzada: 0.5128048780487804\n"
     ]
    }
   ],
   "source": [
    "cross_val_scores = cv_scores(X_train, y_train)\n",
    "\n",
    "# Exibindo as pontuações para cada fold\n",
    "print(\"Pontuações da validação cruzada:\", cross_val_scores)\n",
    "\n",
    "# Exibindo a média das pontuações\n",
    "print(\"Média das pontuações da validação cruzada:\", np.mean(cross_val_scores))"
   ]
  },
  {
   "cell_type": "code",
   "execution_count": 87,
   "metadata": {},
   "outputs": [],
   "source": [
    "pickle_model = pickle.dumps(ensemble_model)\n",
    "\n",
    "compressed_pickle_model = blosc.compress(pickle_model)\n",
    "\n",
    "with open('./models_dump/SVM+RF_CV51_T52.dat', 'wb') as file:\n",
    "    file.write(compressed_pickle_model)"
   ]
  },
  {
   "cell_type": "code",
   "execution_count": 88,
   "metadata": {},
   "outputs": [],
   "source": [
    "with open(\"./models_dump/SVM+RF_CV51_T52.dat\", \"rb\") as file:\n",
    "    compressed_pickle_model = file.read()\n",
    "\n",
    "depressed_pickle_model = blosc.decompress(compressed_pickle_model)\n",
    "ensemble_model = pickle.loads(depressed_pickle_model) "
   ]
  },
  {
   "cell_type": "markdown",
   "metadata": {},
   "source": [
    "# Classificando os casos de teste"
   ]
  },
  {
   "cell_type": "code",
   "execution_count": 91,
   "metadata": {},
   "outputs": [
    {
     "data": {
      "text/html": [
       "<div>\n",
       "<style scoped>\n",
       "    .dataframe tbody tr th:only-of-type {\n",
       "        vertical-align: middle;\n",
       "    }\n",
       "\n",
       "    .dataframe tbody tr th {\n",
       "        vertical-align: top;\n",
       "    }\n",
       "\n",
       "    .dataframe thead th {\n",
       "        text-align: right;\n",
       "    }\n",
       "</style>\n",
       "<table border=\"1\" class=\"dataframe\">\n",
       "  <thead>\n",
       "    <tr style=\"text-align: right;\">\n",
       "      <th></th>\n",
       "      <th>req_text</th>\n",
       "      <th>age</th>\n",
       "    </tr>\n",
       "  </thead>\n",
       "  <tbody>\n",
       "    <tr>\n",
       "      <th>0</th>\n",
       "      <td>Prezados Senhores, Solicito cópia, completa, d...</td>\n",
       "      <td>NaN</td>\n",
       "    </tr>\n",
       "    <tr>\n",
       "      <th>1</th>\n",
       "      <td>BOM DIA. GOSTARIA DE SABER SE HÁ IMPEDIMENTO L...</td>\n",
       "      <td>NaN</td>\n",
       "    </tr>\n",
       "    <tr>\n",
       "      <th>2</th>\n",
       "      <td>Bom dia. Para fins de pesquisa, estou em busca...</td>\n",
       "      <td>NaN</td>\n",
       "    </tr>\n",
       "    <tr>\n",
       "      <th>3</th>\n",
       "      <td>É OBRIGATÓRIO A EMISSÃO DO DOF PELO FORNECEDOR...</td>\n",
       "      <td>NaN</td>\n",
       "    </tr>\n",
       "    <tr>\n",
       "      <th>4</th>\n",
       "      <td>Bom dia. Sou advogado e meu cliente está receb...</td>\n",
       "      <td>NaN</td>\n",
       "    </tr>\n",
       "  </tbody>\n",
       "</table>\n",
       "</div>"
      ],
      "text/plain": [
       "                                            req_text  age\n",
       "0  Prezados Senhores, Solicito cópia, completa, d...  NaN\n",
       "1  BOM DIA. GOSTARIA DE SABER SE HÁ IMPEDIMENTO L...  NaN\n",
       "2  Bom dia. Para fins de pesquisa, estou em busca...  NaN\n",
       "3  É OBRIGATÓRIO A EMISSÃO DO DOF PELO FORNECEDOR...  NaN\n",
       "4  Bom dia. Sou advogado e meu cliente está receb...  NaN"
      ]
     },
     "execution_count": 91,
     "metadata": {},
     "output_type": "execute_result"
    }
   ],
   "source": [
    "ep2_teste = pd.read_excel('./data/ep2-pln-test.xlsx')\n",
    "ep2_teste_original = ep2_teste.copy()\n",
    "ep2_teste.head()"
   ]
  },
  {
   "cell_type": "code",
   "execution_count": 92,
   "metadata": {},
   "outputs": [
    {
     "data": {
      "text/html": [
       "<div>\n",
       "<style scoped>\n",
       "    .dataframe tbody tr th:only-of-type {\n",
       "        vertical-align: middle;\n",
       "    }\n",
       "\n",
       "    .dataframe tbody tr th {\n",
       "        vertical-align: top;\n",
       "    }\n",
       "\n",
       "    .dataframe thead th {\n",
       "        text-align: right;\n",
       "    }\n",
       "</style>\n",
       "<table border=\"1\" class=\"dataframe\">\n",
       "  <thead>\n",
       "    <tr style=\"text-align: right;\">\n",
       "      <th></th>\n",
       "      <th>req_text</th>\n",
       "      <th>age</th>\n",
       "      <th>age_encoded</th>\n",
       "      <th>word_tokens</th>\n",
       "      <th>lemma</th>\n",
       "    </tr>\n",
       "  </thead>\n",
       "  <tbody>\n",
       "    <tr>\n",
       "      <th>0</th>\n",
       "      <td>prezados senhores solicito cópia completa do p...</td>\n",
       "      <td>NaN</td>\n",
       "      <td>0</td>\n",
       "      <td>[prezados, senhores, solicito, cópia, completa...</td>\n",
       "      <td>prezar senhor solicito cópia completo de o pro...</td>\n",
       "    </tr>\n",
       "    <tr>\n",
       "      <th>1</th>\n",
       "      <td>bom dia gostaria de saber se há impedimento le...</td>\n",
       "      <td>NaN</td>\n",
       "      <td>0</td>\n",
       "      <td>[bom, dia, gostaria, de, saber, se, há, impedi...</td>\n",
       "      <td>bom dia gostar de saber se haver impedimento l...</td>\n",
       "    </tr>\n",
       "    <tr>\n",
       "      <th>2</th>\n",
       "      <td>bom dia para fins de pesquisa estou em busca d...</td>\n",
       "      <td>NaN</td>\n",
       "      <td>0</td>\n",
       "      <td>[bom, dia, para, fins, de, pesquisa, estou, em...</td>\n",
       "      <td>bom dia para fim de pesquisa estar em busca de...</td>\n",
       "    </tr>\n",
       "    <tr>\n",
       "      <th>3</th>\n",
       "      <td>é obrigatório a emissão do dof pelo fornecedor...</td>\n",
       "      <td>NaN</td>\n",
       "      <td>0</td>\n",
       "      <td>[é, obrigatório, a, emissão, do, dof, pelo, fo...</td>\n",
       "      <td>ser obrigatório o emissão de o dof por o forne...</td>\n",
       "    </tr>\n",
       "    <tr>\n",
       "      <th>4</th>\n",
       "      <td>bom dia sou advogado e meu cliente está recebe...</td>\n",
       "      <td>NaN</td>\n",
       "      <td>0</td>\n",
       "      <td>[bom, dia, sou, advogado, e, meu, cliente, est...</td>\n",
       "      <td>bom dia ser advogado e meu cliente estar receb...</td>\n",
       "    </tr>\n",
       "  </tbody>\n",
       "</table>\n",
       "</div>"
      ],
      "text/plain": [
       "                                            req_text  age  age_encoded  \\\n",
       "0  prezados senhores solicito cópia completa do p...  NaN            0   \n",
       "1  bom dia gostaria de saber se há impedimento le...  NaN            0   \n",
       "2  bom dia para fins de pesquisa estou em busca d...  NaN            0   \n",
       "3  é obrigatório a emissão do dof pelo fornecedor...  NaN            0   \n",
       "4  bom dia sou advogado e meu cliente está recebe...  NaN            0   \n",
       "\n",
       "                                         word_tokens  \\\n",
       "0  [prezados, senhores, solicito, cópia, completa...   \n",
       "1  [bom, dia, gostaria, de, saber, se, há, impedi...   \n",
       "2  [bom, dia, para, fins, de, pesquisa, estou, em...   \n",
       "3  [é, obrigatório, a, emissão, do, dof, pelo, fo...   \n",
       "4  [bom, dia, sou, advogado, e, meu, cliente, est...   \n",
       "\n",
       "                                               lemma  \n",
       "0  prezar senhor solicito cópia completo de o pro...  \n",
       "1  bom dia gostar de saber se haver impedimento l...  \n",
       "2  bom dia para fim de pesquisa estar em busca de...  \n",
       "3  ser obrigatório o emissão de o dof por o forne...  \n",
       "4  bom dia ser advogado e meu cliente estar receb...  "
      ]
     },
     "execution_count": 92,
     "metadata": {},
     "output_type": "execute_result"
    }
   ],
   "source": [
    "preprocess.encode_class(ep2_teste, 'age')\n",
    "\n",
    "preprocess.tokenize(ep2_teste, 'req_text', True, True)\n",
    "\n",
    "preprocess.lemmatize(ep2_teste, 'word_tokens', True)\n",
    "ep2_teste.head()"
   ]
  },
  {
   "cell_type": "code",
   "execution_count": 93,
   "metadata": {},
   "outputs": [
    {
     "data": {
      "text/html": [
       "<div>\n",
       "<style scoped>\n",
       "    .dataframe tbody tr th:only-of-type {\n",
       "        vertical-align: middle;\n",
       "    }\n",
       "\n",
       "    .dataframe tbody tr th {\n",
       "        vertical-align: top;\n",
       "    }\n",
       "\n",
       "    .dataframe thead th {\n",
       "        text-align: right;\n",
       "    }\n",
       "</style>\n",
       "<table border=\"1\" class=\"dataframe\">\n",
       "  <thead>\n",
       "    <tr style=\"text-align: right;\">\n",
       "      <th></th>\n",
       "      <th>req_text</th>\n",
       "      <th>age</th>\n",
       "      <th>age_encoded</th>\n",
       "      <th>word_tokens</th>\n",
       "      <th>lemma</th>\n",
       "    </tr>\n",
       "  </thead>\n",
       "  <tbody>\n",
       "    <tr>\n",
       "      <th>0</th>\n",
       "      <td>quantos empregados em cada um dos atuais níve...</td>\n",
       "      <td>a2</td>\n",
       "      <td>1</td>\n",
       "      <td>['quantos', 'empregados', 'em', 'cada', 'um', ...</td>\n",
       "      <td>quanto empregado em cada um de o atual nível s...</td>\n",
       "    </tr>\n",
       "    <tr>\n",
       "      <th>1</th>\n",
       "      <td>solicito cópia das atas do conselho de admini...</td>\n",
       "      <td>a2</td>\n",
       "      <td>1</td>\n",
       "      <td>['solicito', 'cópia', 'das', 'atas', 'do', 'co...</td>\n",
       "      <td>solicito cópia de o ata de o conselho de admin...</td>\n",
       "    </tr>\n",
       "    <tr>\n",
       "      <th>2</th>\n",
       "      <td>solicito informar a norma lei decreto portari...</td>\n",
       "      <td>a2</td>\n",
       "      <td>1</td>\n",
       "      <td>['solicito', 'informar', 'a', 'norma', 'lei', ...</td>\n",
       "      <td>solicito informar o norma lei decreto portaria...</td>\n",
       "    </tr>\n",
       "    <tr>\n",
       "      <th>3</th>\n",
       "      <td>solicito por gentileza a informação sobre a q...</td>\n",
       "      <td>a2</td>\n",
       "      <td>1</td>\n",
       "      <td>['solicito', 'por', 'gentileza', 'a', 'informa...</td>\n",
       "      <td>solicito por gentileza o informação sobre o qu...</td>\n",
       "    </tr>\n",
       "    <tr>\n",
       "      <th>4</th>\n",
       "      <td>solicito por gentileza a informação sobre a q...</td>\n",
       "      <td>a2</td>\n",
       "      <td>1</td>\n",
       "      <td>['solicito', 'por', 'gentileza', 'a', 'informa...</td>\n",
       "      <td>solicito por gentileza o informação sobre o qu...</td>\n",
       "    </tr>\n",
       "    <tr>\n",
       "      <th>72</th>\n",
       "      <td> quantos cargos para engenheiro agrônomo exis...</td>\n",
       "      <td>a1</td>\n",
       "      <td>0</td>\n",
       "      <td>['\\x96', 'quantos', 'cargos', 'para', 'engenhe...</td>\n",
       "      <td>\\x96 quanto cargo para engenheiro agrônomo exi...</td>\n",
       "    </tr>\n",
       "    <tr>\n",
       "      <th>74</th>\n",
       "      <td>gostaria de solicitar a lista dos servidores ...</td>\n",
       "      <td>a1</td>\n",
       "      <td>0</td>\n",
       "      <td>['\\x91gostaria', 'de', 'solicitar', 'a', 'list...</td>\n",
       "      <td>\\x91gostaria de solicitar o lista de o servido...</td>\n",
       "    </tr>\n",
       "    <tr>\n",
       "      <th>75</th>\n",
       "      <td>01 quando o mec definirá o novo piso nacional ...</td>\n",
       "      <td>a3</td>\n",
       "      <td>2</td>\n",
       "      <td>['01', 'quando', 'o', 'mec', 'definirá', 'o', ...</td>\n",
       "      <td>01 quando o mec definir o novo piso nacional d...</td>\n",
       "    </tr>\n",
       "    <tr>\n",
       "      <th>78</th>\n",
       "      <td>1  acesso ao inquérito já concluído de número ...</td>\n",
       "      <td>a1</td>\n",
       "      <td>0</td>\n",
       "      <td>['1', 'acesso', 'ao', 'inquérito', 'já', 'conc...</td>\n",
       "      <td>1 acesso a o inquérito já concluir de número 6...</td>\n",
       "    </tr>\n",
       "    <tr>\n",
       "      <th>79</th>\n",
       "      <td>1  além do salário quais são os benefícios dos...</td>\n",
       "      <td>a3</td>\n",
       "      <td>2</td>\n",
       "      <td>['1', 'além', 'do', 'salário', 'quais', 'são',...</td>\n",
       "      <td>1 além de o salário qual ser o benefício de o ...</td>\n",
       "    </tr>\n",
       "    <tr>\n",
       "      <th>83</th>\n",
       "      <td>1  gostaria de saber a quantidade de gdasus va...</td>\n",
       "      <td>a1</td>\n",
       "      <td>0</td>\n",
       "      <td>['1', 'gostaria', 'de', 'saber', 'a', 'quantid...</td>\n",
       "      <td>1 gostar de saber o quantidade de gdasus vaga ...</td>\n",
       "    </tr>\n",
       "    <tr>\n",
       "      <th>85</th>\n",
       "      <td>1  gostaria de saber quantos administradores c...</td>\n",
       "      <td>a3</td>\n",
       "      <td>2</td>\n",
       "      <td>['1', 'gostaria', 'de', 'saber', 'quantos', 'a...</td>\n",
       "      <td>1 gostar de saber quanto administrador contado...</td>\n",
       "    </tr>\n",
       "    <tr>\n",
       "      <th>86</th>\n",
       "      <td>1  gostaria de saber quantos desligamentos de ...</td>\n",
       "      <td>a3</td>\n",
       "      <td>2</td>\n",
       "      <td>['1', 'gostaria', 'de', 'saber', 'quantos', 'd...</td>\n",
       "      <td>1 gostar de saber quanto desligamento de funci...</td>\n",
       "    </tr>\n",
       "    <tr>\n",
       "      <th>89</th>\n",
       "      <td>1  número de trabalhadores empregados no cbo 7...</td>\n",
       "      <td>a3</td>\n",
       "      <td>2</td>\n",
       "      <td>['1', 'número', 'de', 'trabalhadores', 'empreg...</td>\n",
       "      <td>1 número de trabalhador empregado em o cbo 711...</td>\n",
       "    </tr>\n",
       "    <tr>\n",
       "      <th>100</th>\n",
       "      <td>1  quais as atribuições do comando de operaçõe...</td>\n",
       "      <td>a1</td>\n",
       "      <td>0</td>\n",
       "      <td>['1', 'quais', 'as', 'atribuições', 'do', 'com...</td>\n",
       "      <td>1 qual o atribuição de o comando de operação a...</td>\n",
       "    </tr>\n",
       "    <tr>\n",
       "      <th>3075</th>\n",
       "      <td>boa tarde um trabalhador com duas contribuiçõe...</td>\n",
       "      <td>a4</td>\n",
       "      <td>3</td>\n",
       "      <td>['boa', 'tarde', 'um', 'trabalhador', 'com', '...</td>\n",
       "      <td>bom tarde um trabalhador com dois contribuição...</td>\n",
       "    </tr>\n",
       "    <tr>\n",
       "      <th>3084</th>\n",
       "      <td>boa tarde venho por meio deste solicitar foto ...</td>\n",
       "      <td>a4</td>\n",
       "      <td>3</td>\n",
       "      <td>['boa', 'tarde', 'venho', 'por', 'meio', 'dest...</td>\n",
       "      <td>bom tarde venho por meio de este solicitar fot...</td>\n",
       "    </tr>\n",
       "    <tr>\n",
       "      <th>3088</th>\n",
       "      <td>boa tarde venho solicitar encarecidamente uma ...</td>\n",
       "      <td>a4</td>\n",
       "      <td>3</td>\n",
       "      <td>['boa', 'tarde', 'venho', 'solicitar', 'encare...</td>\n",
       "      <td>bom tarde venho solicitar encarecidamente um r...</td>\n",
       "    </tr>\n",
       "    <tr>\n",
       "      <th>3092</th>\n",
       "      <td>boa tarde voltei ao falar novamente com o sr m...</td>\n",
       "      <td>a4</td>\n",
       "      <td>3</td>\n",
       "      <td>['boa', 'tarde', 'voltei', 'ao', 'falar', 'nov...</td>\n",
       "      <td>bom tarde voltei a o falar novamente com o sr ...</td>\n",
       "    </tr>\n",
       "    <tr>\n",
       "      <th>3103</th>\n",
       "      <td>boa tarde gostaria de saber como conseguir aut...</td>\n",
       "      <td>a4</td>\n",
       "      <td>3</td>\n",
       "      <td>['boa', 'tarde', 'gostaria', 'de', 'saber', 'c...</td>\n",
       "      <td>bom tarde gostar de saber como conseguir autor...</td>\n",
       "    </tr>\n",
       "  </tbody>\n",
       "</table>\n",
       "</div>"
      ],
      "text/plain": [
       "                                               req_text age  age_encoded  \\\n",
       "0      quantos empregados em cada um dos atuais níve...  a2            1   \n",
       "1      solicito cópia das atas do conselho de admini...  a2            1   \n",
       "2      solicito informar a norma lei decreto portari...  a2            1   \n",
       "3      solicito por gentileza a informação sobre a q...  a2            1   \n",
       "4      solicito por gentileza a informação sobre a q...  a2            1   \n",
       "72     quantos cargos para engenheiro agrônomo exis...  a1            0   \n",
       "74    gostaria de solicitar a lista dos servidores ...  a1            0   \n",
       "75    01 quando o mec definirá o novo piso nacional ...  a3            2   \n",
       "78    1  acesso ao inquérito já concluído de número ...  a1            0   \n",
       "79    1  além do salário quais são os benefícios dos...  a3            2   \n",
       "83    1  gostaria de saber a quantidade de gdasus va...  a1            0   \n",
       "85    1  gostaria de saber quantos administradores c...  a3            2   \n",
       "86    1  gostaria de saber quantos desligamentos de ...  a3            2   \n",
       "89    1  número de trabalhadores empregados no cbo 7...  a3            2   \n",
       "100   1  quais as atribuições do comando de operaçõe...  a1            0   \n",
       "3075  boa tarde um trabalhador com duas contribuiçõe...  a4            3   \n",
       "3084  boa tarde venho por meio deste solicitar foto ...  a4            3   \n",
       "3088  boa tarde venho solicitar encarecidamente uma ...  a4            3   \n",
       "3092  boa tarde voltei ao falar novamente com o sr m...  a4            3   \n",
       "3103  boa tarde gostaria de saber como conseguir aut...  a4            3   \n",
       "\n",
       "                                            word_tokens  \\\n",
       "0     ['quantos', 'empregados', 'em', 'cada', 'um', ...   \n",
       "1     ['solicito', 'cópia', 'das', 'atas', 'do', 'co...   \n",
       "2     ['solicito', 'informar', 'a', 'norma', 'lei', ...   \n",
       "3     ['solicito', 'por', 'gentileza', 'a', 'informa...   \n",
       "4     ['solicito', 'por', 'gentileza', 'a', 'informa...   \n",
       "72    ['\\x96', 'quantos', 'cargos', 'para', 'engenhe...   \n",
       "74    ['\\x91gostaria', 'de', 'solicitar', 'a', 'list...   \n",
       "75    ['01', 'quando', 'o', 'mec', 'definirá', 'o', ...   \n",
       "78    ['1', 'acesso', 'ao', 'inquérito', 'já', 'conc...   \n",
       "79    ['1', 'além', 'do', 'salário', 'quais', 'são',...   \n",
       "83    ['1', 'gostaria', 'de', 'saber', 'a', 'quantid...   \n",
       "85    ['1', 'gostaria', 'de', 'saber', 'quantos', 'a...   \n",
       "86    ['1', 'gostaria', 'de', 'saber', 'quantos', 'd...   \n",
       "89    ['1', 'número', 'de', 'trabalhadores', 'empreg...   \n",
       "100   ['1', 'quais', 'as', 'atribuições', 'do', 'com...   \n",
       "3075  ['boa', 'tarde', 'um', 'trabalhador', 'com', '...   \n",
       "3084  ['boa', 'tarde', 'venho', 'por', 'meio', 'dest...   \n",
       "3088  ['boa', 'tarde', 'venho', 'solicitar', 'encare...   \n",
       "3092  ['boa', 'tarde', 'voltei', 'ao', 'falar', 'nov...   \n",
       "3103  ['boa', 'tarde', 'gostaria', 'de', 'saber', 'c...   \n",
       "\n",
       "                                                  lemma  \n",
       "0     quanto empregado em cada um de o atual nível s...  \n",
       "1     solicito cópia de o ata de o conselho de admin...  \n",
       "2     solicito informar o norma lei decreto portaria...  \n",
       "3     solicito por gentileza o informação sobre o qu...  \n",
       "4     solicito por gentileza o informação sobre o qu...  \n",
       "72    \\x96 quanto cargo para engenheiro agrônomo exi...  \n",
       "74    \\x91gostaria de solicitar o lista de o servido...  \n",
       "75    01 quando o mec definir o novo piso nacional d...  \n",
       "78    1 acesso a o inquérito já concluir de número 6...  \n",
       "79    1 além de o salário qual ser o benefício de o ...  \n",
       "83    1 gostar de saber o quantidade de gdasus vaga ...  \n",
       "85    1 gostar de saber quanto administrador contado...  \n",
       "86    1 gostar de saber quanto desligamento de funci...  \n",
       "89    1 número de trabalhador empregado em o cbo 711...  \n",
       "100   1 qual o atribuição de o comando de operação a...  \n",
       "3075  bom tarde um trabalhador com dois contribuição...  \n",
       "3084  bom tarde venho por meio de este solicitar fot...  \n",
       "3088  bom tarde venho solicitar encarecidamente um r...  \n",
       "3092  bom tarde voltei a o falar novamente com o sr ...  \n",
       "3103  bom tarde gostar de saber como conseguir autor...  "
      ]
     },
     "execution_count": 93,
     "metadata": {},
     "output_type": "execute_result"
    }
   ],
   "source": [
    "df = pd.read_csv('data/enc_tok_nopunct_lemm.csv')\n",
    "df.groupby('age').head()"
   ]
  },
  {
   "cell_type": "code",
   "execution_count": 94,
   "metadata": {},
   "outputs": [],
   "source": [
    "X = df['lemma']\n",
    "tfidf_vect = TfidfVectorizer(max_features=5000)\n",
    "tfidf_vect.fit(X)\n",
    "\n",
    "ep2_teste_tfidf = tfidf_vect.transform(ep2_teste['lemma'])"
   ]
  },
  {
   "cell_type": "code",
   "execution_count": 95,
   "metadata": {},
   "outputs": [],
   "source": [
    "ensemble_proba_teste = get_weighted_probabilities([SVM, RF], ep2_teste_tfidf, weights)\n",
    "\n",
    "ensemble_predictions_teste = np.argmax(ensemble_proba_teste, axis=1)\n",
    "\n",
    "ensemble_predictions_teste_series = pd.Series(ensemble_predictions_teste)"
   ]
  },
  {
   "cell_type": "code",
   "execution_count": 96,
   "metadata": {},
   "outputs": [
    {
     "data": {
      "text/plain": [
       "0      3\n",
       "1      3\n",
       "2      2\n",
       "3      3\n",
       "4      2\n",
       "      ..\n",
       "395    3\n",
       "396    2\n",
       "397    2\n",
       "398    2\n",
       "399    1\n",
       "Length: 400, dtype: int64"
      ]
     },
     "execution_count": 96,
     "metadata": {},
     "output_type": "execute_result"
    }
   ],
   "source": [
    "ensemble_predictions_teste_series"
   ]
  },
  {
   "cell_type": "code",
   "execution_count": 97,
   "metadata": {},
   "outputs": [],
   "source": [
    "ep2_teste_original['age'] = ensemble_predictions_teste_series\n",
    "ep2_teste_final = ep2_teste_original.copy()"
   ]
  },
  {
   "cell_type": "code",
   "execution_count": 98,
   "metadata": {},
   "outputs": [],
   "source": [
    "mapeamento = {\n",
    "    0: 'a1',\n",
    "    1: 'a2',\n",
    "    2: 'a3',\n",
    "    3: 'a4'\n",
    "}"
   ]
  },
  {
   "cell_type": "code",
   "execution_count": 99,
   "metadata": {},
   "outputs": [
    {
     "data": {
      "text/html": [
       "<div>\n",
       "<style scoped>\n",
       "    .dataframe tbody tr th:only-of-type {\n",
       "        vertical-align: middle;\n",
       "    }\n",
       "\n",
       "    .dataframe tbody tr th {\n",
       "        vertical-align: top;\n",
       "    }\n",
       "\n",
       "    .dataframe thead th {\n",
       "        text-align: right;\n",
       "    }\n",
       "</style>\n",
       "<table border=\"1\" class=\"dataframe\">\n",
       "  <thead>\n",
       "    <tr style=\"text-align: right;\">\n",
       "      <th></th>\n",
       "      <th>req_text</th>\n",
       "      <th>age</th>\n",
       "    </tr>\n",
       "  </thead>\n",
       "  <tbody>\n",
       "    <tr>\n",
       "      <th>0</th>\n",
       "      <td>Prezados Senhores, Solicito cópia, completa, d...</td>\n",
       "      <td>3</td>\n",
       "    </tr>\n",
       "    <tr>\n",
       "      <th>1</th>\n",
       "      <td>BOM DIA. GOSTARIA DE SABER SE HÁ IMPEDIMENTO L...</td>\n",
       "      <td>3</td>\n",
       "    </tr>\n",
       "    <tr>\n",
       "      <th>2</th>\n",
       "      <td>Bom dia. Para fins de pesquisa, estou em busca...</td>\n",
       "      <td>2</td>\n",
       "    </tr>\n",
       "    <tr>\n",
       "      <th>3</th>\n",
       "      <td>É OBRIGATÓRIO A EMISSÃO DO DOF PELO FORNECEDOR...</td>\n",
       "      <td>3</td>\n",
       "    </tr>\n",
       "    <tr>\n",
       "      <th>4</th>\n",
       "      <td>Bom dia. Sou advogado e meu cliente está receb...</td>\n",
       "      <td>2</td>\n",
       "    </tr>\n",
       "  </tbody>\n",
       "</table>\n",
       "</div>"
      ],
      "text/plain": [
       "                                            req_text  age\n",
       "0  Prezados Senhores, Solicito cópia, completa, d...    3\n",
       "1  BOM DIA. GOSTARIA DE SABER SE HÁ IMPEDIMENTO L...    3\n",
       "2  Bom dia. Para fins de pesquisa, estou em busca...    2\n",
       "3  É OBRIGATÓRIO A EMISSÃO DO DOF PELO FORNECEDOR...    3\n",
       "4  Bom dia. Sou advogado e meu cliente está receb...    2"
      ]
     },
     "execution_count": 99,
     "metadata": {},
     "output_type": "execute_result"
    }
   ],
   "source": [
    "ep2_teste_final.head()"
   ]
  },
  {
   "cell_type": "code",
   "execution_count": 100,
   "metadata": {},
   "outputs": [],
   "source": [
    "ep2_teste_final['age'] = ep2_teste_final['age'].map(mapeamento)"
   ]
  },
  {
   "cell_type": "code",
   "execution_count": 101,
   "metadata": {},
   "outputs": [
    {
     "data": {
      "text/html": [
       "<div>\n",
       "<style scoped>\n",
       "    .dataframe tbody tr th:only-of-type {\n",
       "        vertical-align: middle;\n",
       "    }\n",
       "\n",
       "    .dataframe tbody tr th {\n",
       "        vertical-align: top;\n",
       "    }\n",
       "\n",
       "    .dataframe thead th {\n",
       "        text-align: right;\n",
       "    }\n",
       "</style>\n",
       "<table border=\"1\" class=\"dataframe\">\n",
       "  <thead>\n",
       "    <tr style=\"text-align: right;\">\n",
       "      <th></th>\n",
       "      <th>req_text</th>\n",
       "      <th>age</th>\n",
       "    </tr>\n",
       "  </thead>\n",
       "  <tbody>\n",
       "    <tr>\n",
       "      <th>0</th>\n",
       "      <td>Prezados Senhores, Solicito cópia, completa, d...</td>\n",
       "      <td>a4</td>\n",
       "    </tr>\n",
       "    <tr>\n",
       "      <th>1</th>\n",
       "      <td>BOM DIA. GOSTARIA DE SABER SE HÁ IMPEDIMENTO L...</td>\n",
       "      <td>a4</td>\n",
       "    </tr>\n",
       "    <tr>\n",
       "      <th>2</th>\n",
       "      <td>Bom dia. Para fins de pesquisa, estou em busca...</td>\n",
       "      <td>a3</td>\n",
       "    </tr>\n",
       "    <tr>\n",
       "      <th>3</th>\n",
       "      <td>É OBRIGATÓRIO A EMISSÃO DO DOF PELO FORNECEDOR...</td>\n",
       "      <td>a4</td>\n",
       "    </tr>\n",
       "    <tr>\n",
       "      <th>4</th>\n",
       "      <td>Bom dia. Sou advogado e meu cliente está receb...</td>\n",
       "      <td>a3</td>\n",
       "    </tr>\n",
       "  </tbody>\n",
       "</table>\n",
       "</div>"
      ],
      "text/plain": [
       "                                            req_text age\n",
       "0  Prezados Senhores, Solicito cópia, completa, d...  a4\n",
       "1  BOM DIA. GOSTARIA DE SABER SE HÁ IMPEDIMENTO L...  a4\n",
       "2  Bom dia. Para fins de pesquisa, estou em busca...  a3\n",
       "3  É OBRIGATÓRIO A EMISSÃO DO DOF PELO FORNECEDOR...  a4\n",
       "4  Bom dia. Sou advogado e meu cliente está receb...  a3"
      ]
     },
     "execution_count": 101,
     "metadata": {},
     "output_type": "execute_result"
    }
   ],
   "source": [
    "ep2_teste_final.head()"
   ]
  },
  {
   "cell_type": "code",
   "execution_count": 102,
   "metadata": {},
   "outputs": [
    {
     "name": "stdout",
     "output_type": "stream",
     "text": [
      "<class 'pandas.core.frame.DataFrame'>\n",
      "RangeIndex: 400 entries, 0 to 399\n",
      "Data columns (total 2 columns):\n",
      " #   Column    Non-Null Count  Dtype \n",
      "---  ------    --------------  ----- \n",
      " 0   req_text  400 non-null    object\n",
      " 1   age       400 non-null    object\n",
      "dtypes: object(2)\n",
      "memory usage: 6.4+ KB\n"
     ]
    }
   ],
   "source": [
    "ep2_teste_final.info()"
   ]
  },
  {
   "cell_type": "code",
   "execution_count": 103,
   "metadata": {},
   "outputs": [],
   "source": [
    "ep2_teste_final.to_excel('results/ep2-pln-test-resultados.xlsx')"
   ]
  },
  {
   "cell_type": "code",
   "execution_count": 104,
   "metadata": {},
   "outputs": [
    {
     "data": {
      "text/plain": [
       "(array([  4.,   0.,   0.,  40.,   0.,   0., 220.,   0.,   0., 136.]),\n",
       " array([0. , 0.3, 0.6, 0.9, 1.2, 1.5, 1.8, 2.1, 2.4, 2.7, 3. ]),\n",
       " <BarContainer object of 10 artists>)"
      ]
     },
     "execution_count": 104,
     "metadata": {},
     "output_type": "execute_result"
    },
    {
     "data": {
      "image/png": "[encoded data removed]",
      "text/plain": [
       "<Figure size 640x480 with 1 Axes>"
      ]
     },
     "metadata": {},
     "output_type": "display_data"
    }
   ],
   "source": [
    "plt.hist(ensemble_predictions_teste)"
   ]
  }
 ],
 "metadata": {
  "kernelspec": {
   "display_name": "Python 3",
   "language": "python",
   "name": "python3"
  },
  "language_info": {
   "codemirror_mode": {
    "name": "ipython",
    "version": 3
   },
   "file_extension": ".py",
   "mimetype": "text/x-python",
   "name": "python",
   "nbconvert_exporter": "python",
   "pygments_lexer": "ipython3",
   "version": "3.11.4"
  }
 },
 "nbformat": 4,
 "nbformat_minor": 2
}
