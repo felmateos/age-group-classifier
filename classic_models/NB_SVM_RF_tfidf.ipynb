{
 "cells": [
  {
   "cell_type": "code",
   "execution_count": 1,
   "metadata": {},
   "outputs": [],
   "source": [
    "import numpy as np\n",
    "from scipy.sparse import load_npz"
   ]
  },
  {
   "cell_type": "code",
   "execution_count": 2,
   "metadata": {},
   "outputs": [],
   "source": [
    "X_train = load_npz('../vectors/tfidf_lemma/X_train_tfidf.npz')\n",
    "y_train = np.load('../vectors/tfidf_lemma/y_train.npy')"
   ]
  },
  {
   "cell_type": "code",
   "execution_count": 3,
   "metadata": {},
   "outputs": [],
   "source": [
    "from sklearn.model_selection import cross_val_score"
   ]
  },
  {
   "cell_type": "code",
   "execution_count": 17,
   "metadata": {},
   "outputs": [
    {
     "name": "stdout",
     "output_type": "stream",
     "text": [
      "[0.44359756 0.47256098 0.4222561  0.44207317 0.44359756 0.43597561\n",
      " 0.42835366 0.44817073 0.4527439  0.46189024]\n"
     ]
    },
    {
     "data": {
      "text/plain": [
       "0.4451219512195122"
      ]
     },
     "execution_count": 17,
     "metadata": {},
     "output_type": "execute_result"
    }
   ],
   "source": [
    "from sklearn import naive_bayes\n",
    "\n",
    "NB = naive_bayes.MultinomialNB()\n",
    "\n",
    "scores = cross_val_score(NB, X_train, y_train, cv=10)\n",
    "\n",
    "print(scores)\n",
    "scores.mean()"
   ]
  },
  {
   "cell_type": "code",
   "execution_count": 18,
   "metadata": {},
   "outputs": [
    {
     "name": "stdout",
     "output_type": "stream",
     "text": [
      "[0.51981707 0.51676829 0.48932927 0.49847561 0.50304878 0.50304878\n",
      " 0.49390244 0.51829268 0.52896341 0.49695122]\n"
     ]
    },
    {
     "data": {
      "text/plain": [
       "0.5068597560975611"
      ]
     },
     "execution_count": 18,
     "metadata": {},
     "output_type": "execute_result"
    }
   ],
   "source": [
    "from sklearn.svm import SVC\n",
    "\n",
    "SVM = SVC()\n",
    "\n",
    "scores = cross_val_score(SVM, X_train, y_train, cv=10)\n",
    "\n",
    "print(scores)\n",
    "scores.mean()"
   ]
  },
  {
   "cell_type": "code",
   "execution_count": 19,
   "metadata": {},
   "outputs": [
    {
     "name": "stdout",
     "output_type": "stream",
     "text": [
      "[0.49085366 0.5320122  0.49847561 0.49390244 0.50914634 0.51219512\n",
      " 0.52591463 0.52286585 0.50762195 0.5304878 ]\n"
     ]
    },
    {
     "data": {
      "text/plain": [
       "0.5123475609756099"
      ]
     },
     "execution_count": 19,
     "metadata": {},
     "output_type": "execute_result"
    }
   ],
   "source": [
    "from sklearn.ensemble import RandomForestClassifier\n",
    "\n",
    "RF = RandomForestClassifier()\n",
    "\n",
    "RF_scores = cross_val_score(RF, X_train, y_train, cv=10)\n",
    "\n",
    "print(RF_scores)\n",
    "RF_scores.mean()"
   ]
  },
  {
   "cell_type": "markdown",
   "metadata": {},
   "source": [
    "## Encontrando melhores hiperparametros para o RFC"
   ]
  },
  {
   "cell_type": "code",
   "execution_count": 4,
   "metadata": {},
   "outputs": [
    {
     "name": "stderr",
     "output_type": "stream",
     "text": [
      "c:\\Users\\felma\\AppData\\Local\\Programs\\Python\\Python311\\Lib\\site-packages\\tqdm\\auto.py:21: TqdmWarning: IProgress not found. Please update jupyter and ipywidgets. See https://ipywidgets.readthedocs.io/en/stable/user_install.html\n",
      "  from .autonotebook import tqdm as notebook_tqdm\n"
     ]
    }
   ],
   "source": [
    "import optuna\n",
    "from sklearn.ensemble import RandomForestClassifier"
   ]
  },
  {
   "cell_type": "code",
   "execution_count": 7,
   "metadata": {},
   "outputs": [],
   "source": [
    "def objective(trial):\n",
    "    params = {\n",
    "        'n_estimators': trial.suggest_int('n_estimators', 50, 200),\n",
    "        'max_depth': trial.suggest_int('max_depth', 50, 200),\n",
    "    }\n",
    "\n",
    "    model = RandomForestClassifier(**params)\n",
    "\n",
    "    score = cross_val_score(model, X_train, y_train, scoring='accuracy', cv=5).mean()\n",
    "\n",
    "    return score"
   ]
  },
  {
   "cell_type": "code",
   "execution_count": 8,
   "metadata": {},
   "outputs": [
    {
     "name": "stderr",
     "output_type": "stream",
     "text": [
      "[I 2023-12-14 19:10:33,164] A new study created in memory with name: no-name-dbc6fa88-993d-48b1-b539-04a45ad1e7e8\n",
      "[I 2023-12-14 19:11:17,743] Trial 0 finished with value: 0.5010670731707317 and parameters: {'n_estimators': 64, 'max_depth': 136}. Best is trial 0 with value: 0.5010670731707317.\n",
      "[I 2023-12-14 19:12:23,332] Trial 1 finished with value: 0.5057926829268292 and parameters: {'n_estimators': 88, 'max_depth': 176}. Best is trial 1 with value: 0.5057926829268292.\n",
      "[I 2023-12-14 19:13:33,002] Trial 2 finished with value: 0.5091463414634146 and parameters: {'n_estimators': 82, 'max_depth': 79}. Best is trial 2 with value: 0.5091463414634146.\n",
      "[I 2023-12-14 19:15:05,376] Trial 3 finished with value: 0.5091463414634146 and parameters: {'n_estimators': 138, 'max_depth': 200}. Best is trial 2 with value: 0.5091463414634146.\n",
      "[I 2023-12-14 19:17:17,574] Trial 4 finished with value: 0.50625 and parameters: {'n_estimators': 175, 'max_depth': 109}. Best is trial 2 with value: 0.5091463414634146.\n",
      "[I 2023-12-14 19:19:16,016] Trial 5 finished with value: 0.5103658536585366 and parameters: {'n_estimators': 178, 'max_depth': 109}. Best is trial 5 with value: 0.5103658536585366.\n",
      "[I 2023-12-14 19:22:16,692] Trial 6 finished with value: 0.5060975609756098 and parameters: {'n_estimators': 196, 'max_depth': 127}. Best is trial 5 with value: 0.5103658536585366.\n",
      "[I 2023-12-14 19:23:02,861] Trial 7 finished with value: 0.500609756097561 and parameters: {'n_estimators': 54, 'max_depth': 189}. Best is trial 5 with value: 0.5103658536585366.\n",
      "[I 2023-12-14 19:25:04,125] Trial 8 finished with value: 0.5134146341463415 and parameters: {'n_estimators': 140, 'max_depth': 191}. Best is trial 8 with value: 0.5134146341463415.\n",
      "[I 2023-12-14 19:27:16,967] Trial 9 finished with value: 0.5089939024390244 and parameters: {'n_estimators': 153, 'max_depth': 116}. Best is trial 8 with value: 0.5134146341463415.\n",
      "[I 2023-12-14 19:28:54,680] Trial 10 finished with value: 0.5067073170731707 and parameters: {'n_estimators': 111, 'max_depth': 161}. Best is trial 8 with value: 0.5134146341463415.\n",
      "[I 2023-12-14 19:30:32,800] Trial 11 finished with value: 0.49588414634146344 and parameters: {'n_estimators': 156, 'max_depth': 53}. Best is trial 8 with value: 0.5134146341463415.\n",
      "[I 2023-12-14 19:33:13,619] Trial 12 finished with value: 0.5115853658536585 and parameters: {'n_estimators': 192, 'max_depth': 150}. Best is trial 8 with value: 0.5134146341463415.\n",
      "[I 2023-12-14 19:34:45,330] Trial 13 finished with value: 0.5050304878048781 and parameters: {'n_estimators': 116, 'max_depth': 156}. Best is trial 8 with value: 0.5134146341463415.\n",
      "[I 2023-12-14 19:36:36,654] Trial 14 finished with value: 0.5070121951219512 and parameters: {'n_estimators': 180, 'max_depth': 153}. Best is trial 8 with value: 0.5134146341463415.\n",
      "[I 2023-12-14 19:38:04,946] Trial 15 finished with value: 0.5091463414634146 and parameters: {'n_estimators': 143, 'max_depth': 179}. Best is trial 8 with value: 0.5134146341463415.\n",
      "[I 2023-12-14 19:40:25,034] Trial 16 finished with value: 0.5109756097560976 and parameters: {'n_estimators': 192, 'max_depth': 139}. Best is trial 8 with value: 0.5134146341463415.\n",
      "[I 2023-12-14 19:42:12,048] Trial 17 finished with value: 0.5077743902439025 and parameters: {'n_estimators': 128, 'max_depth': 172}. Best is trial 8 with value: 0.5134146341463415.\n",
      "[I 2023-12-14 19:43:35,880] Trial 18 finished with value: 0.5073170731707316 and parameters: {'n_estimators': 105, 'max_depth': 198}. Best is trial 8 with value: 0.5134146341463415.\n",
      "[I 2023-12-14 19:45:40,681] Trial 19 finished with value: 0.5089939024390244 and parameters: {'n_estimators': 164, 'max_depth': 148}. Best is trial 8 with value: 0.5134146341463415.\n",
      "[I 2023-12-14 19:48:50,501] Trial 20 finished with value: 0.5077743902439025 and parameters: {'n_estimators': 199, 'max_depth': 170}. Best is trial 8 with value: 0.5134146341463415.\n",
      "[I 2023-12-14 19:50:40,593] Trial 21 finished with value: 0.5073170731707317 and parameters: {'n_estimators': 183, 'max_depth': 136}. Best is trial 8 with value: 0.5134146341463415.\n",
      "[I 2023-12-14 19:52:16,739] Trial 22 finished with value: 0.5064024390243902 and parameters: {'n_estimators': 165, 'max_depth': 97}. Best is trial 8 with value: 0.5134146341463415.\n",
      "[I 2023-12-14 19:54:20,933] Trial 23 finished with value: 0.5135670731707317 and parameters: {'n_estimators': 194, 'max_depth': 142}. Best is trial 23 with value: 0.5135670731707317.\n",
      "[I 2023-12-14 19:56:19,367] Trial 24 finished with value: 0.5074695121951219 and parameters: {'n_estimators': 169, 'max_depth': 183}. Best is trial 23 with value: 0.5135670731707317.\n",
      "[I 2023-12-14 20:17:41,814] Trial 25 finished with value: 0.5088414634146342 and parameters: {'n_estimators': 187, 'max_depth': 162}. Best is trial 23 with value: 0.5135670731707317.\n",
      "[I 2023-12-14 20:19:03,723] Trial 26 finished with value: 0.5128048780487805 and parameters: {'n_estimators': 143, 'max_depth': 91}. Best is trial 23 with value: 0.5135670731707317.\n",
      "[I 2023-12-14 20:20:17,640] Trial 27 finished with value: 0.5086890243902439 and parameters: {'n_estimators': 130, 'max_depth': 87}. Best is trial 23 with value: 0.5135670731707317.\n",
      "[I 2023-12-14 20:21:30,526] Trial 28 finished with value: 0.5016768292682927 and parameters: {'n_estimators': 143, 'max_depth': 65}. Best is trial 23 with value: 0.5135670731707317.\n",
      "[I 2023-12-14 20:22:43,557] Trial 29 finished with value: 0.5021341463414635 and parameters: {'n_estimators': 97, 'max_depth': 92}. Best is trial 23 with value: 0.5135670731707317.\n",
      "[I 2023-12-14 20:24:27,993] Trial 30 finished with value: 0.5015243902439025 and parameters: {'n_estimators': 152, 'max_depth': 72}. Best is trial 23 with value: 0.5135670731707317.\n",
      "[I 2023-12-14 20:26:02,727] Trial 31 finished with value: 0.5089939024390244 and parameters: {'n_estimators': 118, 'max_depth': 143}. Best is trial 23 with value: 0.5135670731707317.\n",
      "[I 2023-12-14 20:27:00,953] Trial 32 finished with value: 0.5025914634146341 and parameters: {'n_estimators': 74, 'max_depth': 122}. Best is trial 23 with value: 0.5135670731707317.\n",
      "[I 2023-12-14 20:28:46,132] Trial 33 finished with value: 0.5053353658536586 and parameters: {'n_estimators': 137, 'max_depth': 103}. Best is trial 23 with value: 0.5135670731707317.\n",
      "[I 2023-12-14 20:31:13,499] Trial 34 finished with value: 0.5071646341463415 and parameters: {'n_estimators': 188, 'max_depth': 132}. Best is trial 23 with value: 0.5135670731707317.\n",
      "[I 2023-12-14 20:33:26,254] Trial 35 finished with value: 0.5153963414634146 and parameters: {'n_estimators': 171, 'max_depth': 118}. Best is trial 35 with value: 0.5153963414634146.\n",
      "[I 2023-12-14 20:35:32,083] Trial 36 finished with value: 0.5074695121951219 and parameters: {'n_estimators': 173, 'max_depth': 80}. Best is trial 35 with value: 0.5153963414634146.\n",
      "[I 2023-12-14 20:37:33,056] Trial 37 finished with value: 0.50625 and parameters: {'n_estimators': 156, 'max_depth': 104}. Best is trial 35 with value: 0.5153963414634146.\n",
      "[I 2023-12-14 20:39:27,097] Trial 38 finished with value: 0.506859756097561 and parameters: {'n_estimators': 145, 'max_depth': 116}. Best is trial 35 with value: 0.5153963414634146.\n",
      "[I 2023-12-14 20:41:42,665] Trial 39 finished with value: 0.510670731707317 and parameters: {'n_estimators': 161, 'max_depth': 123}. Best is trial 35 with value: 0.5153963414634146.\n",
      "[I 2023-12-14 20:44:16,542] Trial 40 finished with value: 0.5117378048780488 and parameters: {'n_estimators': 175, 'max_depth': 113}. Best is trial 35 with value: 0.5153963414634146.\n",
      "[I 2023-12-14 20:46:42,232] Trial 41 finished with value: 0.5092987804878047 and parameters: {'n_estimators': 175, 'max_depth': 112}. Best is trial 35 with value: 0.5153963414634146.\n",
      "[I 2023-12-14 20:49:40,767] Trial 42 finished with value: 0.513109756097561 and parameters: {'n_estimators': 200, 'max_depth': 129}. Best is trial 35 with value: 0.5153963414634146.\n",
      "[I 2023-12-14 20:52:52,475] Trial 43 finished with value: 0.5121951219512195 and parameters: {'n_estimators': 200, 'max_depth': 130}. Best is trial 35 with value: 0.5153963414634146.\n",
      "[I 2023-12-14 20:54:51,626] Trial 44 finished with value: 0.5135670731707317 and parameters: {'n_estimators': 184, 'max_depth': 102}. Best is trial 35 with value: 0.5153963414634146.\n",
      "[I 2023-12-14 20:56:40,469] Trial 45 finished with value: 0.5114329268292683 and parameters: {'n_estimators': 187, 'max_depth': 119}. Best is trial 35 with value: 0.5153963414634146.\n",
      "[I 2023-12-14 21:00:28,695] Trial 46 finished with value: 0.5065548780487805 and parameters: {'n_estimators': 195, 'max_depth': 106}. Best is trial 35 with value: 0.5153963414634146.\n",
      "[I 2023-12-14 21:03:21,607] Trial 47 finished with value: 0.5099085365853658 and parameters: {'n_estimators': 181, 'max_depth': 192}. Best is trial 35 with value: 0.5153963414634146.\n",
      "[I 2023-12-14 21:06:05,207] Trial 48 finished with value: 0.5128048780487805 and parameters: {'n_estimators': 191, 'max_depth': 126}. Best is trial 35 with value: 0.5153963414634146.\n",
      "[I 2023-12-14 21:08:36,969] Trial 49 finished with value: 0.5085365853658537 and parameters: {'n_estimators': 183, 'max_depth': 163}. Best is trial 35 with value: 0.5153963414634146.\n"
     ]
    }
   ],
   "source": [
    "study = optuna.create_study(direction='maximize')  # Estamos maximizando a acurácia\n",
    "study.optimize(objective, n_trials=50)"
   ]
  },
  {
   "cell_type": "code",
   "execution_count": 9,
   "metadata": {},
   "outputs": [
    {
     "name": "stdout",
     "output_type": "stream",
     "text": [
      "Melhores Hiperparâmetros: {'n_estimators': 171, 'max_depth': 118}\n",
      "Melhor Acurácia Encontrada: 0.5153963414634146\n"
     ]
    }
   ],
   "source": [
    "print(\"Melhores Hiperparâmetros:\", study.best_params)\n",
    "print(\"Melhor Acurácia Encontrada:\", study.best_value)"
   ]
  },
  {
   "cell_type": "code",
   "execution_count": 13,
   "metadata": {},
   "outputs": [
    {
     "name": "stdout",
     "output_type": "stream",
     "text": [
      "[0.51981707 0.51371951 0.52439024 0.52896341 0.51219512 0.51981707\n",
      " 0.52439024 0.52134146 0.51067073 0.5304878 ]\n"
     ]
    },
    {
     "data": {
      "text/plain": [
       "0.520579268292683"
      ]
     },
     "execution_count": 13,
     "metadata": {},
     "output_type": "execute_result"
    }
   ],
   "source": [
    "from sklearn.ensemble import RandomForestClassifier\n",
    "\n",
    "RF = RandomForestClassifier(n_estimators=118, max_depth=143)\n",
    "\n",
    "RF_scores = cross_val_score(RF, X_train, y_train, cv=10)\n",
    "\n",
    "print(RF_scores)\n",
    "RF_scores.mean()"
   ]
  },
  {
   "cell_type": "code",
   "execution_count": 14,
   "metadata": {},
   "outputs": [
    {
     "data": {
      "text/plain": [
       "0.5128048780487805"
      ]
     },
     "execution_count": 14,
     "metadata": {},
     "output_type": "execute_result"
    }
   ],
   "source": [
    "from sklearn.metrics import accuracy_score\n",
    "\n",
    "X_test = load_npz('../vectors/tfidf_lemma/X_test_tfidf.npz')\n",
    "y_test = np.load('../vectors/tfidf_lemma/y_test.npy')\n",
    "\n",
    "RF.fit(X_train, y_train)\n",
    "\n",
    "y_pred = RF.predict(X_test)\n",
    "\n",
    "accuracy_score(y_test, y_pred)"
   ]
  }
 ],
 "metadata": {
  "kernelspec": {
   "display_name": "Python 3",
   "language": "python",
   "name": "python3"
  },
  "language_info": {
   "codemirror_mode": {
    "name": "ipython",
    "version": 3
   },
   "file_extension": ".py",
   "mimetype": "text/x-python",
   "name": "python",
   "nbconvert_exporter": "python",
   "pygments_lexer": "ipython3",
   "version": "3.11.4"
  }
 },
 "nbformat": 4,
 "nbformat_minor": 2
}
