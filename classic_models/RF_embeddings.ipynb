{
 "cells": [
  {
   "cell_type": "code",
   "execution_count": 107,
   "metadata": {},
   "outputs": [],
   "source": [
    "import pandas as pd\n",
    "import numpy as np\n",
    "\n",
    "from sklearn.ensemble import RandomForestClassifier\n",
    "from sklearn.model_selection import train_test_split\n",
    "from sklearn.metrics import accuracy_score\n",
    "from sklearn.model_selection import cross_val_score\n",
    "\n",
    "from sklearn.utils.class_weight import compute_class_weight\n",
    "\n",
    "import optuna\n",
    "\n",
    "from sklearn.metrics import confusion_matrix\n",
    "import matplotlib.pyplot as plt\n",
    "import seaborn as sns"
   ]
  },
  {
   "cell_type": "code",
   "execution_count": 98,
   "metadata": {},
   "outputs": [],
   "source": [
    "seed = np.random.seed(777)"
   ]
  },
  {
   "cell_type": "code",
   "execution_count": 124,
   "metadata": {},
   "outputs": [
    {
     "data": {
      "text/html": [
       "<div>\n",
       "<style scoped>\n",
       "    .dataframe tbody tr th:only-of-type {\n",
       "        vertical-align: middle;\n",
       "    }\n",
       "\n",
       "    .dataframe tbody tr th {\n",
       "        vertical-align: top;\n",
       "    }\n",
       "\n",
       "    .dataframe thead th {\n",
       "        text-align: right;\n",
       "    }\n",
       "</style>\n",
       "<table border=\"1\" class=\"dataframe\">\n",
       "  <thead>\n",
       "    <tr style=\"text-align: right;\">\n",
       "      <th></th>\n",
       "      <th>Unnamed: 0</th>\n",
       "      <th>req_text</th>\n",
       "      <th>age</th>\n",
       "      <th>age_encoded</th>\n",
       "      <th>word_tokens</th>\n",
       "      <th>lemma</th>\n",
       "      <th>w2v_embeddings</th>\n",
       "      <th>0</th>\n",
       "      <th>1</th>\n",
       "      <th>2</th>\n",
       "      <th>...</th>\n",
       "      <th>190</th>\n",
       "      <th>191</th>\n",
       "      <th>192</th>\n",
       "      <th>193</th>\n",
       "      <th>194</th>\n",
       "      <th>195</th>\n",
       "      <th>196</th>\n",
       "      <th>197</th>\n",
       "      <th>198</th>\n",
       "      <th>199</th>\n",
       "    </tr>\n",
       "  </thead>\n",
       "  <tbody>\n",
       "    <tr>\n",
       "      <th>0</th>\n",
       "      <td>0</td>\n",
       "      <td>quantos empregados em cada um dos atuais níve...</td>\n",
       "      <td>a2</td>\n",
       "      <td>1</td>\n",
       "      <td>['quantos', 'empregados', 'em', 'cada', 'um', ...</td>\n",
       "      <td>quanto empregado em cada um de o atual nível s...</td>\n",
       "      <td>[ 1.25785102e-03 -1.59721210e-04  7.59971736e-...</td>\n",
       "      <td>0.001258</td>\n",
       "      <td>-0.000160</td>\n",
       "      <td>0.000076</td>\n",
       "      <td>...</td>\n",
       "      <td>0.000542</td>\n",
       "      <td>0.000067</td>\n",
       "      <td>-0.001371</td>\n",
       "      <td>-0.001145</td>\n",
       "      <td>0.001311</td>\n",
       "      <td>0.001010</td>\n",
       "      <td>0.000784</td>\n",
       "      <td>-0.001450</td>\n",
       "      <td>-0.000183</td>\n",
       "      <td>-0.000933</td>\n",
       "    </tr>\n",
       "    <tr>\n",
       "      <th>1</th>\n",
       "      <td>1</td>\n",
       "      <td>solicito cópia das atas do conselho de admini...</td>\n",
       "      <td>a2</td>\n",
       "      <td>1</td>\n",
       "      <td>['solicito', 'cópia', 'das', 'atas', 'do', 'co...</td>\n",
       "      <td>solicito cópia de o ata de o conselho de admin...</td>\n",
       "      <td>[ 1.11805391e-03 -1.34598173e-04  4.17785224e-...</td>\n",
       "      <td>0.001118</td>\n",
       "      <td>-0.000135</td>\n",
       "      <td>0.000418</td>\n",
       "      <td>...</td>\n",
       "      <td>0.001067</td>\n",
       "      <td>0.000445</td>\n",
       "      <td>-0.001352</td>\n",
       "      <td>-0.001493</td>\n",
       "      <td>0.001146</td>\n",
       "      <td>0.001347</td>\n",
       "      <td>0.000644</td>\n",
       "      <td>-0.001100</td>\n",
       "      <td>-0.000065</td>\n",
       "      <td>-0.000674</td>\n",
       "    </tr>\n",
       "    <tr>\n",
       "      <th>2</th>\n",
       "      <td>2</td>\n",
       "      <td>solicito informar a norma lei decreto portari...</td>\n",
       "      <td>a2</td>\n",
       "      <td>1</td>\n",
       "      <td>['solicito', 'informar', 'a', 'norma', 'lei', ...</td>\n",
       "      <td>solicito informar o norma lei decreto portaria...</td>\n",
       "      <td>[ 1.32721674e-03 -6.32910349e-04  3.62002029e-...</td>\n",
       "      <td>0.001327</td>\n",
       "      <td>-0.000633</td>\n",
       "      <td>0.000362</td>\n",
       "      <td>...</td>\n",
       "      <td>0.000936</td>\n",
       "      <td>-0.000007</td>\n",
       "      <td>-0.001224</td>\n",
       "      <td>-0.000946</td>\n",
       "      <td>0.001299</td>\n",
       "      <td>0.001010</td>\n",
       "      <td>0.000490</td>\n",
       "      <td>-0.001523</td>\n",
       "      <td>-0.000188</td>\n",
       "      <td>-0.001091</td>\n",
       "    </tr>\n",
       "    <tr>\n",
       "      <th>3</th>\n",
       "      <td>3</td>\n",
       "      <td>solicito por gentileza a informação sobre a q...</td>\n",
       "      <td>a2</td>\n",
       "      <td>1</td>\n",
       "      <td>['solicito', 'por', 'gentileza', 'a', 'informa...</td>\n",
       "      <td>solicito por gentileza o informação sobre o qu...</td>\n",
       "      <td>[ 1.1066387e-03 -1.0445345e-04  3.3743048e-04 ...</td>\n",
       "      <td>0.001107</td>\n",
       "      <td>-0.000104</td>\n",
       "      <td>0.000337</td>\n",
       "      <td>...</td>\n",
       "      <td>0.000794</td>\n",
       "      <td>0.000169</td>\n",
       "      <td>-0.001312</td>\n",
       "      <td>-0.001441</td>\n",
       "      <td>0.000919</td>\n",
       "      <td>0.001189</td>\n",
       "      <td>0.000863</td>\n",
       "      <td>-0.001287</td>\n",
       "      <td>-0.000390</td>\n",
       "      <td>-0.000561</td>\n",
       "    </tr>\n",
       "    <tr>\n",
       "      <th>4</th>\n",
       "      <td>4</td>\n",
       "      <td>solicito por gentileza a informação sobre a q...</td>\n",
       "      <td>a2</td>\n",
       "      <td>1</td>\n",
       "      <td>['solicito', 'por', 'gentileza', 'a', 'informa...</td>\n",
       "      <td>solicito por gentileza o informação sobre o qu...</td>\n",
       "      <td>[ 1.14656042e-03 -1.44141202e-04  2.36450564e-...</td>\n",
       "      <td>0.001147</td>\n",
       "      <td>-0.000144</td>\n",
       "      <td>0.000236</td>\n",
       "      <td>...</td>\n",
       "      <td>0.000841</td>\n",
       "      <td>0.000188</td>\n",
       "      <td>-0.001445</td>\n",
       "      <td>-0.001300</td>\n",
       "      <td>0.000967</td>\n",
       "      <td>0.001169</td>\n",
       "      <td>0.000776</td>\n",
       "      <td>-0.001339</td>\n",
       "      <td>-0.000236</td>\n",
       "      <td>-0.000677</td>\n",
       "    </tr>\n",
       "  </tbody>\n",
       "</table>\n",
       "<p>5 rows × 207 columns</p>\n",
       "</div>"
      ],
      "text/plain": [
       "   Unnamed: 0                                           req_text age  \\\n",
       "0           0   quantos empregados em cada um dos atuais níve...  a2   \n",
       "1           1   solicito cópia das atas do conselho de admini...  a2   \n",
       "2           2   solicito informar a norma lei decreto portari...  a2   \n",
       "3           3   solicito por gentileza a informação sobre a q...  a2   \n",
       "4           4   solicito por gentileza a informação sobre a q...  a2   \n",
       "\n",
       "   age_encoded                                        word_tokens  \\\n",
       "0            1  ['quantos', 'empregados', 'em', 'cada', 'um', ...   \n",
       "1            1  ['solicito', 'cópia', 'das', 'atas', 'do', 'co...   \n",
       "2            1  ['solicito', 'informar', 'a', 'norma', 'lei', ...   \n",
       "3            1  ['solicito', 'por', 'gentileza', 'a', 'informa...   \n",
       "4            1  ['solicito', 'por', 'gentileza', 'a', 'informa...   \n",
       "\n",
       "                                               lemma  \\\n",
       "0  quanto empregado em cada um de o atual nível s...   \n",
       "1  solicito cópia de o ata de o conselho de admin...   \n",
       "2  solicito informar o norma lei decreto portaria...   \n",
       "3  solicito por gentileza o informação sobre o qu...   \n",
       "4  solicito por gentileza o informação sobre o qu...   \n",
       "\n",
       "                                      w2v_embeddings         0         1  \\\n",
       "0  [ 1.25785102e-03 -1.59721210e-04  7.59971736e-...  0.001258 -0.000160   \n",
       "1  [ 1.11805391e-03 -1.34598173e-04  4.17785224e-...  0.001118 -0.000135   \n",
       "2  [ 1.32721674e-03 -6.32910349e-04  3.62002029e-...  0.001327 -0.000633   \n",
       "3  [ 1.1066387e-03 -1.0445345e-04  3.3743048e-04 ...  0.001107 -0.000104   \n",
       "4  [ 1.14656042e-03 -1.44141202e-04  2.36450564e-...  0.001147 -0.000144   \n",
       "\n",
       "          2  ...       190       191       192       193       194       195  \\\n",
       "0  0.000076  ...  0.000542  0.000067 -0.001371 -0.001145  0.001311  0.001010   \n",
       "1  0.000418  ...  0.001067  0.000445 -0.001352 -0.001493  0.001146  0.001347   \n",
       "2  0.000362  ...  0.000936 -0.000007 -0.001224 -0.000946  0.001299  0.001010   \n",
       "3  0.000337  ...  0.000794  0.000169 -0.001312 -0.001441  0.000919  0.001189   \n",
       "4  0.000236  ...  0.000841  0.000188 -0.001445 -0.001300  0.000967  0.001169   \n",
       "\n",
       "        196       197       198       199  \n",
       "0  0.000784 -0.001450 -0.000183 -0.000933  \n",
       "1  0.000644 -0.001100 -0.000065 -0.000674  \n",
       "2  0.000490 -0.001523 -0.000188 -0.001091  \n",
       "3  0.000863 -0.001287 -0.000390 -0.000561  \n",
       "4  0.000776 -0.001339 -0.000236 -0.000677  \n",
       "\n",
       "[5 rows x 207 columns]"
      ]
     },
     "execution_count": 124,
     "metadata": {},
     "output_type": "execute_result"
    }
   ],
   "source": [
    "embeddings = pd.read_csv('../embeddings/W2V_Embeddings_full.csv')\n",
    "embeddings.head()"
   ]
  },
  {
   "cell_type": "code",
   "execution_count": 125,
   "metadata": {},
   "outputs": [],
   "source": [
    "labels = ['0','1','2','3']\n",
    "columns = [str(i) for i in range(200)]\n",
    "X = embeddings[columns]\n",
    "y = np.array(embeddings['age_encoded'])"
   ]
  },
  {
   "cell_type": "code",
   "execution_count": 126,
   "metadata": {},
   "outputs": [],
   "source": [
    "X_train, X_test, y_train, y_test = train_test_split(X, y, train_size=.8, stratify=y, random_state=seed)"
   ]
  },
  {
   "cell_type": "code",
   "execution_count": 127,
   "metadata": {},
   "outputs": [],
   "source": [
    "class_weights = compute_class_weight('balanced', classes=np.unique(y_train), y=y_train)"
   ]
  },
  {
   "cell_type": "code",
   "execution_count": 119,
   "metadata": {},
   "outputs": [
    {
     "name": "stdout",
     "output_type": "stream",
     "text": [
      "[0.38719512 0.38262195 0.38871951 0.37652439 0.38414634 0.33689024\n",
      " 0.37957317 0.38719512 0.39786585 0.36585366]\n",
      "0.37865853658536586\n"
     ]
    }
   ],
   "source": [
    "RF_std = RandomForestClassifier(class_weight=dict(enumerate(class_weights)))\n",
    "\n",
    "scores = cross_val_score(RF_std, X_train, y_train, cv=10)\n",
    "\n",
    "print(scores)\n",
    "\n",
    "print(scores.mean())"
   ]
  },
  {
   "cell_type": "code",
   "execution_count": 128,
   "metadata": {},
   "outputs": [
    {
     "data": {
      "text/plain": [
       "0.3603658536585366"
      ]
     },
     "execution_count": 128,
     "metadata": {},
     "output_type": "execute_result"
    }
   ],
   "source": [
    "RF_bst = RandomForestClassifier(class_weight=dict(enumerate(class_weights)))\n",
    "RF_bst.fit(X_train, y_train)\n",
    "\n",
    "RF_y_pred = RF_bst.predict(X_test)\n",
    "\n",
    "accuracy_score(y_test, RF_y_pred)"
   ]
  },
  {
   "cell_type": "code",
   "execution_count": 129,
   "metadata": {},
   "outputs": [
    {
     "data": {
      "image/png": "[encoded data removed]",
      "text/plain": [
       "<Figure size 800x600 with 2 Axes>"
      ]
     },
     "metadata": {},
     "output_type": "display_data"
    }
   ],
   "source": [
    "cm_RF = confusion_matrix(y_test, RF_y_pred)\n",
    "\n",
    "cm_RF = cm_RF.astype('float') / cm_RF.sum(axis=1)[:, np.newaxis]\n",
    "\n",
    "plt.figure(figsize=(8, 6))\n",
    "sns.heatmap(cm_RF, annot=True, cmap=\"Blues\", xticklabels=labels, yticklabels=labels)\n",
    "plt.title('Matriz de Confusão')\n",
    "plt.xlabel('Valores Preditos')\n",
    "plt.ylabel('Valores Reais')\n",
    "plt.show()"
   ]
  }
 ],
 "metadata": {
  "kernelspec": {
   "display_name": "Python 3",
   "language": "python",
   "name": "python3"
  },
  "language_info": {
   "codemirror_mode": {
    "name": "ipython",
    "version": 3
   },
   "file_extension": ".py",
   "mimetype": "text/x-python",
   "name": "python",
   "nbconvert_exporter": "python",
   "pygments_lexer": "ipython3",
   "version": "3.11.4"
  }
 },
 "nbformat": 4,
 "nbformat_minor": 2
}
