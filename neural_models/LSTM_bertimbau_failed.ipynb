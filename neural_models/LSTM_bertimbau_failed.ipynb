{
 "cells": [
  {
   "cell_type": "markdown",
   "metadata": {},
   "source": [
    "## LTSM"
   ]
  },
  {
   "cell_type": "markdown",
   "metadata": {},
   "source": [
    "## BERTimbau"
   ]
  },
  {
   "cell_type": "code",
   "execution_count": 1,
   "metadata": {},
   "outputs": [],
   "source": [
    "import pandas as pd\n",
    "import numpy as np"
   ]
  },
  {
   "cell_type": "code",
   "execution_count": 2,
   "metadata": {},
   "outputs": [
    {
     "data": {
      "text/html": [
       "<div>\n",
       "<style scoped>\n",
       "    .dataframe tbody tr th:only-of-type {\n",
       "        vertical-align: middle;\n",
       "    }\n",
       "\n",
       "    .dataframe tbody tr th {\n",
       "        vertical-align: top;\n",
       "    }\n",
       "\n",
       "    .dataframe thead th {\n",
       "        text-align: right;\n",
       "    }\n",
       "</style>\n",
       "<table border=\"1\" class=\"dataframe\">\n",
       "  <thead>\n",
       "    <tr style=\"text-align: right;\">\n",
       "      <th></th>\n",
       "      <th>Unnamed: 0</th>\n",
       "      <th>req_text</th>\n",
       "      <th>age</th>\n",
       "      <th>age_encoded</th>\n",
       "      <th>word_tokens</th>\n",
       "      <th>lemma</th>\n",
       "    </tr>\n",
       "  </thead>\n",
       "  <tbody>\n",
       "    <tr>\n",
       "      <th>0</th>\n",
       "      <td>0</td>\n",
       "      <td>quantos empregados em cada um dos atuais níve...</td>\n",
       "      <td>a2</td>\n",
       "      <td>1</td>\n",
       "      <td>['quantos', 'empregados', 'cada', 'atuais', 'n...</td>\n",
       "      <td>quanto empregado cada atual nível salarial pca...</td>\n",
       "    </tr>\n",
       "    <tr>\n",
       "      <th>1</th>\n",
       "      <td>1</td>\n",
       "      <td>solicito cópia das atas do conselho de admini...</td>\n",
       "      <td>a2</td>\n",
       "      <td>1</td>\n",
       "      <td>['solicito', 'cópia', 'atas', 'conselho', 'adm...</td>\n",
       "      <td>solicito cópia ata conselho administração bnde...</td>\n",
       "    </tr>\n",
       "    <tr>\n",
       "      <th>2</th>\n",
       "      <td>2</td>\n",
       "      <td>solicito informar a norma lei decreto portari...</td>\n",
       "      <td>a2</td>\n",
       "      <td>1</td>\n",
       "      <td>['solicito', 'informar', 'norma', 'lei', 'decr...</td>\n",
       "      <td>solicito informar norma lei decreto portaria i...</td>\n",
       "    </tr>\n",
       "    <tr>\n",
       "      <th>3</th>\n",
       "      <td>3</td>\n",
       "      <td>solicito por gentileza a informação sobre a q...</td>\n",
       "      <td>a2</td>\n",
       "      <td>1</td>\n",
       "      <td>['solicito', 'gentileza', 'informação', 'sobre...</td>\n",
       "      <td>solicito gentileza informação sobre quantidade...</td>\n",
       "    </tr>\n",
       "    <tr>\n",
       "      <th>4</th>\n",
       "      <td>4</td>\n",
       "      <td>solicito por gentileza a informação sobre a q...</td>\n",
       "      <td>a2</td>\n",
       "      <td>1</td>\n",
       "      <td>['solicito', 'gentileza', 'informação', 'sobre...</td>\n",
       "      <td>solicito gentileza informação sobre quantidade...</td>\n",
       "    </tr>\n",
       "  </tbody>\n",
       "</table>\n",
       "</div>"
      ],
      "text/plain": [
       "   Unnamed: 0                                           req_text age  \\\n",
       "0           0   quantos empregados em cada um dos atuais níve...  a2   \n",
       "1           1   solicito cópia das atas do conselho de admini...  a2   \n",
       "2           2   solicito informar a norma lei decreto portari...  a2   \n",
       "3           3   solicito por gentileza a informação sobre a q...  a2   \n",
       "4           4   solicito por gentileza a informação sobre a q...  a2   \n",
       "\n",
       "   age_encoded                                        word_tokens  \\\n",
       "0            1  ['quantos', 'empregados', 'cada', 'atuais', 'n...   \n",
       "1            1  ['solicito', 'cópia', 'atas', 'conselho', 'adm...   \n",
       "2            1  ['solicito', 'informar', 'norma', 'lei', 'decr...   \n",
       "3            1  ['solicito', 'gentileza', 'informação', 'sobre...   \n",
       "4            1  ['solicito', 'gentileza', 'informação', 'sobre...   \n",
       "\n",
       "                                               lemma  \n",
       "0  quanto empregado cada atual nível salarial pca...  \n",
       "1  solicito cópia ata conselho administração bnde...  \n",
       "2  solicito informar norma lei decreto portaria i...  \n",
       "3  solicito gentileza informação sobre quantidade...  \n",
       "4  solicito gentileza informação sobre quantidade...  "
      ]
     },
     "execution_count": 2,
     "metadata": {},
     "output_type": "execute_result"
    }
   ],
   "source": [
    "df_plain = pd.read_csv('../data/enc_tok_nostopword_nopunct_lemm.csv')\n",
    "df_plain.head()"
   ]
  },
  {
   "cell_type": "code",
   "execution_count": 3,
   "metadata": {},
   "outputs": [],
   "source": [
    "# BERT Large\n",
    "# tokenizer = AutoTokenizer.from_pretrained('neuralmind/bert-large-portuguese-cased')\n",
    "# model = AutoModel.from_pretrained('neuralmind/bert-large-portuguese-cased')\n",
    "\n"
   ]
  },
  {
   "cell_type": "code",
   "execution_count": 4,
   "metadata": {},
   "outputs": [],
   "source": [
    "from sklearn.model_selection import train_test_split\n"
   ]
  },
  {
   "cell_type": "code",
   "execution_count": 5,
   "metadata": {},
   "outputs": [],
   "source": [
    "X = df_plain['lemma']\n",
    "y = df_plain['age_encoded']"
   ]
  },
  {
   "cell_type": "code",
   "execution_count": 6,
   "metadata": {},
   "outputs": [],
   "source": [
    "X_train, X_test, y_train, y_test = train_test_split(X, y, test_size=0.2, random_state=24)\n",
    "\n"
   ]
  },
  {
   "cell_type": "code",
   "execution_count": 7,
   "metadata": {},
   "outputs": [],
   "source": [
    "import  torch\n",
    "from  transformers  import  AutoModel\n",
    "\n"
   ]
  },
  {
   "cell_type": "code",
   "execution_count": 8,
   "metadata": {},
   "outputs": [],
   "source": [
    "model = AutoModel.from_pretrained('rufimelo/Legal-BERTimbau-large-TSDAE')"
   ]
  },
  {
   "cell_type": "code",
   "execution_count": 9,
   "metadata": {},
   "outputs": [],
   "source": [
    "from  transformers  import  AutoTokenizer, AutoModelForMaskedLM"
   ]
  },
  {
   "cell_type": "code",
   "execution_count": 10,
   "metadata": {},
   "outputs": [],
   "source": [
    "tokenizer = AutoTokenizer.from_pretrained(\"rufimelo/Legal-BERTimbau-large-TSDAE\")"
   ]
  },
  {
   "cell_type": "code",
   "execution_count": 11,
   "metadata": {},
   "outputs": [],
   "source": [
    "input_ids = tokenizer.encode('O advogado apresentou recurso para o juíz', return_tensors='pt')\n",
    "\n",
    "with  torch.no_grad():\n",
    "    outs = model(input_ids)\n",
    "    encoded = outs[0][0, 1:-1]"
   ]
  },
  {
   "cell_type": "code",
   "execution_count": 14,
   "metadata": {},
   "outputs": [
    {
     "name": "stderr",
     "output_type": "stream",
     "text": [
      "Truncation was not explicitly activated but `max_length` is provided a specific value, please use `truncation=True` to explicitly truncate examples to max length. Defaulting to 'longest_first' truncation strategy. If you encode pairs of sequences (GLUE-style) with the tokenizer you can select this strategy more precisely by providing a specific strategy to `truncation`.\n"
     ]
    }
   ],
   "source": [
    "embeddings = []\n",
    "for text in df_plain['lemma']:\n",
    "    input_ids = tokenizer(text, return_tensors=\"pt\", max_length=512)\n",
    "\n",
    "    with  torch.no_grad():\n",
    "        outs = model(**input_ids)\n",
    "        encoded = outs[0][0, 1:-1]\n",
    "\n",
    "    embeddings.append(encoded)\n",
    " "
   ]
  },
  {
   "cell_type": "code",
   "execution_count": null,
   "metadata": {},
   "outputs": [],
   "source": [
    "emb = []\n",
    "for text in embeddings:\n",
    "    print(text)\n",
    "    aux = np.array(text, dtype=object)\n",
    "    emb.append(aux)"
   ]
  },
  {
   "cell_type": "code",
   "execution_count": null,
   "metadata": {},
   "outputs": [],
   "source": [
    "df = pd.DataFrame(emb)"
   ]
  },
  {
   "cell_type": "code",
   "execution_count": null,
   "metadata": {},
   "outputs": [],
   "source": [
    "df.to_csv('../embeddings/BERT_newmodel.csv')"
   ]
  },
  {
   "cell_type": "code",
   "execution_count": 16,
   "metadata": {},
   "outputs": [
    {
     "ename": "AttributeError",
     "evalue": "'list' object has no attribute 'to_csv'",
     "output_type": "error",
     "traceback": [
      "\u001b[0;31m---------------------------------------------------------------------------\u001b[0m",
      "\u001b[0;31mAttributeError\u001b[0m                            Traceback (most recent call last)",
      "Cell \u001b[0;32mIn[16], line 1\u001b[0m\n\u001b[0;32m----> 1\u001b[0m embeddings\u001b[38;5;241m.\u001b[39mto_csv()\n",
      "\u001b[0;31mAttributeError\u001b[0m: 'list' object has no attribute 'to_csv'"
     ]
    }
   ],
   "source": [
    "embeddings.to_csv()"
   ]
  },
  {
   "cell_type": "code",
   "execution_count": null,
   "metadata": {},
   "outputs": [
    {
     "data": {
      "text/html": [
       "<div>\n",
       "<style scoped>\n",
       "    .dataframe tbody tr th:only-of-type {\n",
       "        vertical-align: middle;\n",
       "    }\n",
       "\n",
       "    .dataframe tbody tr th {\n",
       "        vertical-align: top;\n",
       "    }\n",
       "\n",
       "    .dataframe thead th {\n",
       "        text-align: right;\n",
       "    }\n",
       "</style>\n",
       "<table border=\"1\" class=\"dataframe\">\n",
       "  <thead>\n",
       "    <tr style=\"text-align: right;\">\n",
       "      <th></th>\n",
       "      <th>Unnamed: 0</th>\n",
       "      <th>req_text</th>\n",
       "      <th>age</th>\n",
       "      <th>age_encoded</th>\n",
       "      <th>word_tokens</th>\n",
       "      <th>lemma</th>\n",
       "      <th>bert</th>\n",
       "    </tr>\n",
       "  </thead>\n",
       "  <tbody>\n",
       "    <tr>\n",
       "      <th>0</th>\n",
       "      <td>0</td>\n",
       "      <td>quantos empregados em cada um dos atuais níve...</td>\n",
       "      <td>a2</td>\n",
       "      <td>1</td>\n",
       "      <td>['quantos', 'empregados', 'cada', 'atuais', 'n...</td>\n",
       "      <td>quanto empregado cada atual nível salarial pca...</td>\n",
       "      <td>None</td>\n",
       "    </tr>\n",
       "    <tr>\n",
       "      <th>1</th>\n",
       "      <td>1</td>\n",
       "      <td>solicito cópia das atas do conselho de admini...</td>\n",
       "      <td>a2</td>\n",
       "      <td>1</td>\n",
       "      <td>['solicito', 'cópia', 'atas', 'conselho', 'adm...</td>\n",
       "      <td>solicito cópia ata conselho administração bnde...</td>\n",
       "      <td>None</td>\n",
       "    </tr>\n",
       "    <tr>\n",
       "      <th>2</th>\n",
       "      <td>2</td>\n",
       "      <td>solicito informar a norma lei decreto portari...</td>\n",
       "      <td>a2</td>\n",
       "      <td>1</td>\n",
       "      <td>['solicito', 'informar', 'norma', 'lei', 'decr...</td>\n",
       "      <td>solicito informar norma lei decreto portaria i...</td>\n",
       "      <td>None</td>\n",
       "    </tr>\n",
       "    <tr>\n",
       "      <th>3</th>\n",
       "      <td>3</td>\n",
       "      <td>solicito por gentileza a informação sobre a q...</td>\n",
       "      <td>a2</td>\n",
       "      <td>1</td>\n",
       "      <td>['solicito', 'gentileza', 'informação', 'sobre...</td>\n",
       "      <td>solicito gentileza informação sobre quantidade...</td>\n",
       "      <td>None</td>\n",
       "    </tr>\n",
       "    <tr>\n",
       "      <th>4</th>\n",
       "      <td>4</td>\n",
       "      <td>solicito por gentileza a informação sobre a q...</td>\n",
       "      <td>a2</td>\n",
       "      <td>1</td>\n",
       "      <td>['solicito', 'gentileza', 'informação', 'sobre...</td>\n",
       "      <td>solicito gentileza informação sobre quantidade...</td>\n",
       "      <td>None</td>\n",
       "    </tr>\n",
       "    <tr>\n",
       "      <th>...</th>\n",
       "      <td>...</td>\n",
       "      <td>...</td>\n",
       "      <td>...</td>\n",
       "      <td>...</td>\n",
       "      <td>...</td>\n",
       "      <td>...</td>\n",
       "      <td>...</td>\n",
       "    </tr>\n",
       "    <tr>\n",
       "      <th>8195</th>\n",
       "      <td>8195</td>\n",
       "      <td>desejo saber se meu nome consta na relação de ...</td>\n",
       "      <td>a4</td>\n",
       "      <td>3</td>\n",
       "      <td>['desejo', 'saber', 'nome', 'consta', 'relação...</td>\n",
       "      <td>desejo saber nome constar relação restituição ...</td>\n",
       "      <td>None</td>\n",
       "    </tr>\n",
       "    <tr>\n",
       "      <th>8196</th>\n",
       "      <td>8196</td>\n",
       "      <td>desejo saber se posso utilizar o nome fantasia...</td>\n",
       "      <td>a4</td>\n",
       "      <td>3</td>\n",
       "      <td>['desejo', 'saber', 'posso', 'utilizar', 'nome...</td>\n",
       "      <td>desejo saber poder utilizar nome fantasia sant...</td>\n",
       "      <td>None</td>\n",
       "    </tr>\n",
       "    <tr>\n",
       "      <th>8197</th>\n",
       "      <td>8197</td>\n",
       "      <td>desejo saber se tem e quantas vagas desocupada...</td>\n",
       "      <td>a4</td>\n",
       "      <td>3</td>\n",
       "      <td>['desejo', 'saber', 'quantas', 'vagas', 'desoc...</td>\n",
       "      <td>desejo saber quanta vaga desocupar ufrb cargo ...</td>\n",
       "      <td>None</td>\n",
       "    </tr>\n",
       "    <tr>\n",
       "      <th>8198</th>\n",
       "      <td>8198</td>\n",
       "      <td>desejo saber se tenho alguma pendência na rece...</td>\n",
       "      <td>a4</td>\n",
       "      <td>3</td>\n",
       "      <td>['desejo', 'saber', 'alguma', 'pendência', 're...</td>\n",
       "      <td>desejo saber algum pendência receitar federal ...</td>\n",
       "      <td>None</td>\n",
       "    </tr>\n",
       "    <tr>\n",
       "      <th>8199</th>\n",
       "      <td>8199</td>\n",
       "      <td>desejo saber se tenho contas em bancosque ja f...</td>\n",
       "      <td>a4</td>\n",
       "      <td>3</td>\n",
       "      <td>['desejo', 'saber', 'contas', 'bancosque', 'ja...</td>\n",
       "      <td>desejo saber conta bancosque ja fechar</td>\n",
       "      <td>None</td>\n",
       "    </tr>\n",
       "  </tbody>\n",
       "</table>\n",
       "<p>8200 rows × 7 columns</p>\n",
       "</div>"
      ],
      "text/plain": [
       "      Unnamed: 0                                           req_text age  \\\n",
       "0              0   quantos empregados em cada um dos atuais níve...  a2   \n",
       "1              1   solicito cópia das atas do conselho de admini...  a2   \n",
       "2              2   solicito informar a norma lei decreto portari...  a2   \n",
       "3              3   solicito por gentileza a informação sobre a q...  a2   \n",
       "4              4   solicito por gentileza a informação sobre a q...  a2   \n",
       "...          ...                                                ...  ..   \n",
       "8195        8195  desejo saber se meu nome consta na relação de ...  a4   \n",
       "8196        8196  desejo saber se posso utilizar o nome fantasia...  a4   \n",
       "8197        8197  desejo saber se tem e quantas vagas desocupada...  a4   \n",
       "8198        8198  desejo saber se tenho alguma pendência na rece...  a4   \n",
       "8199        8199  desejo saber se tenho contas em bancosque ja f...  a4   \n",
       "\n",
       "      age_encoded                                        word_tokens  \\\n",
       "0               1  ['quantos', 'empregados', 'cada', 'atuais', 'n...   \n",
       "1               1  ['solicito', 'cópia', 'atas', 'conselho', 'adm...   \n",
       "2               1  ['solicito', 'informar', 'norma', 'lei', 'decr...   \n",
       "3               1  ['solicito', 'gentileza', 'informação', 'sobre...   \n",
       "4               1  ['solicito', 'gentileza', 'informação', 'sobre...   \n",
       "...           ...                                                ...   \n",
       "8195            3  ['desejo', 'saber', 'nome', 'consta', 'relação...   \n",
       "8196            3  ['desejo', 'saber', 'posso', 'utilizar', 'nome...   \n",
       "8197            3  ['desejo', 'saber', 'quantas', 'vagas', 'desoc...   \n",
       "8198            3  ['desejo', 'saber', 'alguma', 'pendência', 're...   \n",
       "8199            3  ['desejo', 'saber', 'contas', 'bancosque', 'ja...   \n",
       "\n",
       "                                                  lemma  bert  \n",
       "0     quanto empregado cada atual nível salarial pca...  None  \n",
       "1     solicito cópia ata conselho administração bnde...  None  \n",
       "2     solicito informar norma lei decreto portaria i...  None  \n",
       "3     solicito gentileza informação sobre quantidade...  None  \n",
       "4     solicito gentileza informação sobre quantidade...  None  \n",
       "...                                                 ...   ...  \n",
       "8195  desejo saber nome constar relação restituição ...  None  \n",
       "8196  desejo saber poder utilizar nome fantasia sant...  None  \n",
       "8197  desejo saber quanta vaga desocupar ufrb cargo ...  None  \n",
       "8198  desejo saber algum pendência receitar federal ...  None  \n",
       "8199             desejo saber conta bancosque ja fechar  None  \n",
       "\n",
       "[8200 rows x 7 columns]"
      ]
     },
     "execution_count": 24,
     "metadata": {},
     "output_type": "execute_result"
    }
   ],
   "source": [
    "df_plain['bert'] = embeddings\n",
    "df_plain"
   ]
  },
  {
   "cell_type": "code",
   "execution_count": null,
   "metadata": {},
   "outputs": [
    {
     "data": {
      "text/plain": [
       "array([None], dtype=object)"
      ]
     },
     "execution_count": 25,
     "metadata": {},
     "output_type": "execute_result"
    }
   ],
   "source": [
    "df_plain['bert'].unique()"
   ]
  },
  {
   "cell_type": "code",
   "execution_count": null,
   "metadata": {},
   "outputs": [
    {
     "ename": "TypeError",
     "evalue": "object of type 'NoneType' has no len()",
     "output_type": "error",
     "traceback": [
      "\u001b[0;31m---------------------------------------------------------------------------\u001b[0m",
      "\u001b[0;31mTypeError\u001b[0m                                 Traceback (most recent call last)",
      "Cell \u001b[0;32mIn[12], line 1\u001b[0m\n\u001b[0;32m----> 1\u001b[0m labels \u001b[38;5;241m=\u001b[39m [\u001b[38;5;124m'\u001b[39m\u001b[38;5;124memb_\u001b[39m\u001b[38;5;124m'\u001b[39m \u001b[38;5;241m+\u001b[39m \u001b[38;5;28mstr\u001b[39m(i) \u001b[38;5;28;01mfor\u001b[39;00m i \u001b[38;5;129;01min\u001b[39;00m \u001b[38;5;28mrange\u001b[39m(\u001b[38;5;28mlen\u001b[39m(embeddings[\u001b[38;5;241m0\u001b[39m]))]\n",
      "\u001b[0;31mTypeError\u001b[0m: object of type 'NoneType' has no len()"
     ]
    }
   ],
   "source": [
    "labels = ['emb_' + str(i) for i in range(len(embeddings[0]))]"
   ]
  },
  {
   "cell_type": "code",
   "execution_count": null,
   "metadata": {},
   "outputs": [],
   "source": [
    "df_embeddings = pd.DataFrame(embeddings, columns=labels)\n",
    "df_embeddings"
   ]
  },
  {
   "cell_type": "code",
   "execution_count": null,
   "metadata": {},
   "outputs": [],
   "source": [
    "df_embeddings.to_csv('../embeddings/BERT_Embeddings_new.csv', index=False)"
   ]
  },
  {
   "cell_type": "code",
   "execution_count": null,
   "metadata": {},
   "outputs": [],
   "source": [
    "# Obtenha embeddings BERTimbau\n",
    "# bert_model = TFBertModel.from_pretrained(\"neuralmind/bert-base-portuguese-cased\")\n",
    "# tokenized_inputs = tokenizer(df_plain['lemma'].tolist(), return_tensors=\"tf\", padding=True, truncation=True, max_length=512)\n",
    "# bert_outputs = bert_model(tokenized_inputs)\n",
    "# embeddings = bert_outputs['last_hidden_state']"
   ]
  },
  {
   "cell_type": "code",
   "execution_count": null,
   "metadata": {},
   "outputs": [],
   "source": [
    "\n",
    "label_encoder = LabelEncoder()\n",
    "labels = label_encoder.fit_transform(df_plain['age'])"
   ]
  },
  {
   "cell_type": "code",
   "execution_count": null,
   "metadata": {},
   "outputs": [
    {
     "ename": "AttributeError",
     "evalue": "'list' object has no attribute 'numpy'",
     "output_type": "error",
     "traceback": [
      "\u001b[0;31m---------------------------------------------------------------------------\u001b[0m",
      "\u001b[0;31mAttributeError\u001b[0m                            Traceback (most recent call last)",
      "Cell \u001b[0;32mIn[11], line 1\u001b[0m\n\u001b[0;32m----> 1\u001b[0m X_train, X_test, y_train, y_test \u001b[38;5;241m=\u001b[39m train_test_split(embeddings\u001b[38;5;241m.\u001b[39mnumpy(), labels, test_size\u001b[38;5;241m=\u001b[39m\u001b[38;5;241m0.2\u001b[39m, random_state\u001b[38;5;241m=\u001b[39m\u001b[38;5;241m42\u001b[39m)\n",
      "\u001b[0;31mAttributeError\u001b[0m: 'list' object has no attribute 'numpy'"
     ]
    }
   ],
   "source": [
    "X_train, X_test, y_train, y_test = train_test_split(embeddings.numpy(), labels, test_size=0.2, random_state=42)"
   ]
  },
  {
   "cell_type": "markdown",
   "metadata": {},
   "source": [
    "### Model"
   ]
  },
  {
   "cell_type": "markdown",
   "metadata": {},
   "source": [
    "##"
   ]
  },
  {
   "cell_type": "code",
   "execution_count": null,
   "metadata": {},
   "outputs": [],
   "source": [
    "model = tf.keras.Sequential([\n",
    "    tf.keras.layers.LSTM(64),\n",
    "    tf.keras.layers.Dense(32, activation='relu'),\n",
    "    tf.keras.layers.Dense(4, activation='softmax')\n",
    "])\n",
    "\n",
    "\n",
    "model.compile(optimizer='adam', loss='sparse_categorical_crossentropy', metrics=['accuracy'])"
   ]
  },
  {
   "cell_type": "code",
   "execution_count": null,
   "metadata": {},
   "outputs": [],
   "source": [
    "model.fit(X_train, y_train, epochs=10, validation_data=(X_test, y_test))\n",
    "\n",
    "loss, accuracy = model.evaluate(X_test, y_test)\n",
    "print(f'Acurácia do modelo: {accuracy}')"
   ]
  }
 ],
 "metadata": {
  "kernelspec": {
   "display_name": "base",
   "language": "python",
   "name": "python3"
  },
  "language_info": {
   "codemirror_mode": {
    "name": "ipython",
    "version": 3
   },
   "file_extension": ".py",
   "mimetype": "text/x-python",
   "name": "python",
   "nbconvert_exporter": "python",
   "pygments_lexer": "ipython3",
   "version": "3.11.5"
  }
 },
 "nbformat": 4,
 "nbformat_minor": 2
}
