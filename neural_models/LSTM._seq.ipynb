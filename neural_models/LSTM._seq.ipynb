{
 "cells": [
  {
   "cell_type": "markdown",
   "metadata": {},
   "source": [
    "## LTSM"
   ]
  },
  {
   "cell_type": "markdown",
   "metadata": {},
   "source": [
    "## Failed: BERT embedding estranho \n"
   ]
  },
  {
   "cell_type": "code",
   "execution_count": 4,
   "metadata": {},
   "outputs": [],
   "source": [
    "import pandas as pd\n",
    "import numpy as np"
   ]
  },
  {
   "cell_type": "code",
   "execution_count": 78,
   "metadata": {},
   "outputs": [
    {
     "data": {
      "text/html": [
       "<div>\n",
       "<style scoped>\n",
       "    .dataframe tbody tr th:only-of-type {\n",
       "        vertical-align: middle;\n",
       "    }\n",
       "\n",
       "    .dataframe tbody tr th {\n",
       "        vertical-align: top;\n",
       "    }\n",
       "\n",
       "    .dataframe thead th {\n",
       "        text-align: right;\n",
       "    }\n",
       "</style>\n",
       "<table border=\"1\" class=\"dataframe\">\n",
       "  <thead>\n",
       "    <tr style=\"text-align: right;\">\n",
       "      <th></th>\n",
       "      <th>age</th>\n",
       "      <th>age_encoded</th>\n",
       "      <th>word_tokens</th>\n",
       "      <th>lemma</th>\n",
       "      <th>0</th>\n",
       "      <th>1</th>\n",
       "      <th>2</th>\n",
       "      <th>3</th>\n",
       "      <th>4</th>\n",
       "      <th>5</th>\n",
       "      <th>...</th>\n",
       "      <th>758</th>\n",
       "      <th>759</th>\n",
       "      <th>760</th>\n",
       "      <th>761</th>\n",
       "      <th>762</th>\n",
       "      <th>763</th>\n",
       "      <th>764</th>\n",
       "      <th>765</th>\n",
       "      <th>766</th>\n",
       "      <th>767</th>\n",
       "    </tr>\n",
       "  </thead>\n",
       "  <tbody>\n",
       "    <tr>\n",
       "      <th>0</th>\n",
       "      <td>a2</td>\n",
       "      <td>1</td>\n",
       "      <td>['quantos', 'empregados', 'em', 'cada', 'um', ...</td>\n",
       "      <td>quanto empregado em cada um de o atual nível s...</td>\n",
       "      <td>0.564466</td>\n",
       "      <td>0.815525</td>\n",
       "      <td>0.107565</td>\n",
       "      <td>0.319572</td>\n",
       "      <td>0.101842</td>\n",
       "      <td>0.105100</td>\n",
       "      <td>...</td>\n",
       "      <td>0.275671</td>\n",
       "      <td>0.219380</td>\n",
       "      <td>0.934174</td>\n",
       "      <td>0.909270</td>\n",
       "      <td>0.090046</td>\n",
       "      <td>0.897560</td>\n",
       "      <td>0.590714</td>\n",
       "      <td>0.291341</td>\n",
       "      <td>0.416531</td>\n",
       "      <td>0.900556</td>\n",
       "    </tr>\n",
       "    <tr>\n",
       "      <th>1</th>\n",
       "      <td>a2</td>\n",
       "      <td>1</td>\n",
       "      <td>['solicito', 'cópia', 'das', 'atas', 'do', 'co...</td>\n",
       "      <td>solicito cópia de o ata de o conselho de admin...</td>\n",
       "      <td>0.520970</td>\n",
       "      <td>0.815053</td>\n",
       "      <td>0.120955</td>\n",
       "      <td>0.300525</td>\n",
       "      <td>0.079995</td>\n",
       "      <td>0.149684</td>\n",
       "      <td>...</td>\n",
       "      <td>0.282352</td>\n",
       "      <td>0.235483</td>\n",
       "      <td>0.916027</td>\n",
       "      <td>0.947861</td>\n",
       "      <td>0.102334</td>\n",
       "      <td>0.876205</td>\n",
       "      <td>0.603262</td>\n",
       "      <td>0.254797</td>\n",
       "      <td>0.394609</td>\n",
       "      <td>0.841805</td>\n",
       "    </tr>\n",
       "    <tr>\n",
       "      <th>2</th>\n",
       "      <td>a2</td>\n",
       "      <td>1</td>\n",
       "      <td>['solicito', 'informar', 'a', 'norma', 'lei', ...</td>\n",
       "      <td>solicito informar o norma lei decreto portaria...</td>\n",
       "      <td>0.535018</td>\n",
       "      <td>0.845178</td>\n",
       "      <td>0.106620</td>\n",
       "      <td>0.330766</td>\n",
       "      <td>0.061033</td>\n",
       "      <td>0.094648</td>\n",
       "      <td>...</td>\n",
       "      <td>0.288288</td>\n",
       "      <td>0.232071</td>\n",
       "      <td>0.927528</td>\n",
       "      <td>0.953746</td>\n",
       "      <td>0.102037</td>\n",
       "      <td>0.927873</td>\n",
       "      <td>0.533769</td>\n",
       "      <td>0.266102</td>\n",
       "      <td>0.429789</td>\n",
       "      <td>0.895740</td>\n",
       "    </tr>\n",
       "    <tr>\n",
       "      <th>3</th>\n",
       "      <td>a2</td>\n",
       "      <td>1</td>\n",
       "      <td>['solicito', 'por', 'gentileza', 'a', 'informa...</td>\n",
       "      <td>solicito por gentileza o informação sobre o qu...</td>\n",
       "      <td>0.548547</td>\n",
       "      <td>0.784378</td>\n",
       "      <td>0.057764</td>\n",
       "      <td>0.275971</td>\n",
       "      <td>0.123137</td>\n",
       "      <td>0.096042</td>\n",
       "      <td>...</td>\n",
       "      <td>0.306542</td>\n",
       "      <td>0.244469</td>\n",
       "      <td>0.954206</td>\n",
       "      <td>0.941051</td>\n",
       "      <td>0.075034</td>\n",
       "      <td>0.899374</td>\n",
       "      <td>0.585249</td>\n",
       "      <td>0.279545</td>\n",
       "      <td>0.380809</td>\n",
       "      <td>0.939743</td>\n",
       "    </tr>\n",
       "    <tr>\n",
       "      <th>4</th>\n",
       "      <td>a2</td>\n",
       "      <td>1</td>\n",
       "      <td>['solicito', 'por', 'gentileza', 'a', 'informa...</td>\n",
       "      <td>solicito por gentileza o informação sobre o qu...</td>\n",
       "      <td>0.559063</td>\n",
       "      <td>0.799921</td>\n",
       "      <td>0.060454</td>\n",
       "      <td>0.274691</td>\n",
       "      <td>0.135161</td>\n",
       "      <td>0.079634</td>\n",
       "      <td>...</td>\n",
       "      <td>0.304113</td>\n",
       "      <td>0.247853</td>\n",
       "      <td>0.955085</td>\n",
       "      <td>0.938762</td>\n",
       "      <td>0.081348</td>\n",
       "      <td>0.894296</td>\n",
       "      <td>0.595016</td>\n",
       "      <td>0.278718</td>\n",
       "      <td>0.383074</td>\n",
       "      <td>0.934677</td>\n",
       "    </tr>\n",
       "  </tbody>\n",
       "</table>\n",
       "<p>5 rows × 772 columns</p>\n",
       "</div>"
      ],
      "text/plain": [
       "  age  age_encoded                                        word_tokens  \\\n",
       "0  a2            1  ['quantos', 'empregados', 'em', 'cada', 'um', ...   \n",
       "1  a2            1  ['solicito', 'cópia', 'das', 'atas', 'do', 'co...   \n",
       "2  a2            1  ['solicito', 'informar', 'a', 'norma', 'lei', ...   \n",
       "3  a2            1  ['solicito', 'por', 'gentileza', 'a', 'informa...   \n",
       "4  a2            1  ['solicito', 'por', 'gentileza', 'a', 'informa...   \n",
       "\n",
       "                                               lemma         0         1  \\\n",
       "0  quanto empregado em cada um de o atual nível s...  0.564466  0.815525   \n",
       "1  solicito cópia de o ata de o conselho de admin...  0.520970  0.815053   \n",
       "2  solicito informar o norma lei decreto portaria...  0.535018  0.845178   \n",
       "3  solicito por gentileza o informação sobre o qu...  0.548547  0.784378   \n",
       "4  solicito por gentileza o informação sobre o qu...  0.559063  0.799921   \n",
       "\n",
       "          2         3         4         5  ...       758       759       760  \\\n",
       "0  0.107565  0.319572  0.101842  0.105100  ...  0.275671  0.219380  0.934174   \n",
       "1  0.120955  0.300525  0.079995  0.149684  ...  0.282352  0.235483  0.916027   \n",
       "2  0.106620  0.330766  0.061033  0.094648  ...  0.288288  0.232071  0.927528   \n",
       "3  0.057764  0.275971  0.123137  0.096042  ...  0.306542  0.244469  0.954206   \n",
       "4  0.060454  0.274691  0.135161  0.079634  ...  0.304113  0.247853  0.955085   \n",
       "\n",
       "        761       762       763       764       765       766       767  \n",
       "0  0.909270  0.090046  0.897560  0.590714  0.291341  0.416531  0.900556  \n",
       "1  0.947861  0.102334  0.876205  0.603262  0.254797  0.394609  0.841805  \n",
       "2  0.953746  0.102037  0.927873  0.533769  0.266102  0.429789  0.895740  \n",
       "3  0.941051  0.075034  0.899374  0.585249  0.279545  0.380809  0.939743  \n",
       "4  0.938762  0.081348  0.894296  0.595016  0.278718  0.383074  0.934677  \n",
       "\n",
       "[5 rows x 772 columns]"
      ]
     },
     "execution_count": 78,
     "metadata": {},
     "output_type": "execute_result"
    }
   ],
   "source": [
    "df = pd.read_csv('../embeddings/BERT_Embeddings_full.csv')\n",
    "df.head()"
   ]
  },
  {
   "cell_type": "code",
   "execution_count": 79,
   "metadata": {},
   "outputs": [
    {
     "data": {
      "text/plain": [
       "age\n",
       "a1    1200\n",
       "a2    2000\n",
       "a3    3000\n",
       "a4    2000\n",
       "Name: age_encoded, dtype: int64"
      ]
     },
     "execution_count": 79,
     "metadata": {},
     "output_type": "execute_result"
    }
   ],
   "source": [
    "df.groupby('age')['age_encoded'].count()"
   ]
  },
  {
   "cell_type": "code",
   "execution_count": 80,
   "metadata": {},
   "outputs": [],
   "source": [
    "df_label = pd.get_dummies(df['age'])\n",
    "df_text = df.drop(['word_tokens', 'lemma', 'age', 'age_encoded'], axis = 1)"
   ]
  },
  {
   "cell_type": "markdown",
   "metadata": {},
   "source": [
    "## Model"
   ]
  },
  {
   "cell_type": "code",
   "execution_count": 3,
   "metadata": {},
   "outputs": [],
   "source": [
    "import tensorflow as tf\n",
    "#from tensorflow import keras\n",
    "from tensorflow.keras import Sequential\n",
    "from tensorflow.keras import layers\n",
    "from tensorflow.keras.preprocessing.sequence import pad_sequences\n",
    "from keras.preprocessing.text import Tokenizer\n",
    "from tensorflow.keras.callbacks import EarlyStopping\n",
    "from tensorflow.keras.layers import LSTM, Dense\n",
    "from tensorflow.keras.optimizers import Adam"
   ]
  },
  {
   "cell_type": "code",
   "execution_count": 7,
   "metadata": {},
   "outputs": [],
   "source": [
    "max_features = 700\n",
    "embed_dim = 32"
   ]
  },
  {
   "cell_type": "code",
   "execution_count": 8,
   "metadata": {},
   "outputs": [],
   "source": [
    "batch_size = 32\n",
    "early_stopping = EarlyStopping(monitor='val_loss', patience= 3)"
   ]
  },
  {
   "cell_type": "code",
   "execution_count": 85,
   "metadata": {},
   "outputs": [],
   "source": [
    "def modelLSTMPos(df_shape):\n",
    "    \n",
    "    model = Sequential([\n",
    "        layers.Embedding(max_features, embed_dim, input_length= df_shape.shape[1]),\n",
    "        #layers.Conv1D(filters=32, kernel_size=3, padding='same', activation= 'relu'),\n",
    "        #layers.MaxPooling1D(pool_size=2),\n",
    "        layers.LSTM(64, dropout=0.4, recurrent_dropout=0.2),\n",
    "        layers.Dense(64, activation='relu'),\n",
    "        layers.Dense(4, activation='softmax')\n",
    "    ])\n",
    "\n",
    "    #optimizer = Adam(learning_rate=3e-4)\n",
    "    model.compile(loss='binary_crossentropy', optimizer='adam', metrics=['accuracy'])\n",
    "\n",
    "    return model"
   ]
  },
  {
   "cell_type": "code",
   "execution_count": 86,
   "metadata": {},
   "outputs": [],
   "source": [
    "model = modelLSTMPos(df)"
   ]
  },
  {
   "cell_type": "code",
   "execution_count": 87,
   "metadata": {},
   "outputs": [
    {
     "name": "stdout",
     "output_type": "stream",
     "text": [
      "Model: \"sequential_8\"\n",
      "_________________________________________________________________\n",
      " Layer (type)                Output Shape              Param #   \n",
      "=================================================================\n",
      " embedding_8 (Embedding)     (None, 772, 32)           22400     \n",
      "                                                                 \n",
      " lstm_8 (LSTM)               (None, 64)                24832     \n",
      "                                                                 \n",
      " dense_16 (Dense)            (None, 64)                4160      \n",
      "                                                                 \n",
      " dense_17 (Dense)            (None, 4)                 260       \n",
      "                                                                 \n",
      "=================================================================\n",
      "Total params: 51652 (201.77 KB)\n",
      "Trainable params: 51652 (201.77 KB)\n",
      "Non-trainable params: 0 (0.00 Byte)\n",
      "_________________________________________________________________\n"
     ]
    }
   ],
   "source": [
    "model.summary()"
   ]
  },
  {
   "cell_type": "markdown",
   "metadata": {},
   "source": [
    "### BERT - Train, Test split"
   ]
  },
  {
   "cell_type": "code",
   "execution_count": 2,
   "metadata": {},
   "outputs": [
    {
     "name": "stderr",
     "output_type": "stream",
     "text": [
      "2023-12-17 11:52:11.219679: I tensorflow/tsl/cuda/cudart_stub.cc:28] Could not find cuda drivers on your machine, GPU will not be used.\n",
      "2023-12-17 11:52:11.259893: E tensorflow/compiler/xla/stream_executor/cuda/cuda_dnn.cc:9342] Unable to register cuDNN factory: Attempting to register factory for plugin cuDNN when one has already been registered\n",
      "2023-12-17 11:52:11.259939: E tensorflow/compiler/xla/stream_executor/cuda/cuda_fft.cc:609] Unable to register cuFFT factory: Attempting to register factory for plugin cuFFT when one has already been registered\n",
      "2023-12-17 11:52:11.259974: E tensorflow/compiler/xla/stream_executor/cuda/cuda_blas.cc:1518] Unable to register cuBLAS factory: Attempting to register factory for plugin cuBLAS when one has already been registered\n",
      "2023-12-17 11:52:11.269165: I tensorflow/tsl/cuda/cudart_stub.cc:28] Could not find cuda drivers on your machine, GPU will not be used.\n",
      "2023-12-17 11:52:11.269904: I tensorflow/core/platform/cpu_feature_guard.cc:182] This TensorFlow binary is optimized to use available CPU instructions in performance-critical operations.\n",
      "To enable the following instructions: AVX2 FMA, in other operations, rebuild TensorFlow with the appropriate compiler flags.\n",
      "2023-12-17 11:52:12.237688: W tensorflow/compiler/tf2tensorrt/utils/py_utils.cc:38] TF-TRT Warning: Could not find TensorRT\n"
     ]
    }
   ],
   "source": [
    "from sklearn.model_selection import train_test_split\n",
    "from sklearn.model_selection import cross_val_score\n",
    "#from tensorflow.keras.wrappers.scikit_learn import KerasClassifier\n",
    "from scikeras.wrappers import KerasClassifier"
   ]
  },
  {
   "cell_type": "code",
   "execution_count": 89,
   "metadata": {},
   "outputs": [
    {
     "data": {
      "text/plain": [
       "(6560, 768)"
      ]
     },
     "execution_count": 89,
     "metadata": {},
     "output_type": "execute_result"
    }
   ],
   "source": [
    "X_train, X_test, y_train, y_test = train_test_split(df_text, df_label, train_size=0.8, random_state=42 )\n",
    "X_train.shape\n"
   ]
  },
  {
   "cell_type": "code",
   "execution_count": 90,
   "metadata": {},
   "outputs": [],
   "source": [
    "model = modelLSTMPos(df_text)"
   ]
  },
  {
   "cell_type": "code",
   "execution_count": null,
   "metadata": {},
   "outputs": [],
   "source": [
    "history = model.fit(X_train, y_train, epochs=10, validation_data=(X_test, y_test))"
   ]
  },
  {
   "cell_type": "markdown",
   "metadata": {},
   "source": [
    "### BERT - K-fold"
   ]
  },
  {
   "cell_type": "code",
   "execution_count": 33,
   "metadata": {},
   "outputs": [],
   "source": [
    "from sklearn.model_selection import KFold"
   ]
  },
  {
   "cell_type": "code",
   "execution_count": 34,
   "metadata": {},
   "outputs": [],
   "source": [
    "# clf = KerasClassifier(build_fn=modelLSTMPos(df_text), epochs=10, batch_size=32, verbose=1)\n",
    "# resultPos = cross_val_score(clf, X_train, y_train, scoring='accuracy', cv=10)\n",
    "# print(resultPos)\n",
    "# resultPos.mean()"
   ]
  },
  {
   "cell_type": "markdown",
   "metadata": {},
   "source": [
    "### Plain text - Train, test"
   ]
  },
  {
   "cell_type": "code",
   "execution_count": 5,
   "metadata": {},
   "outputs": [
    {
     "data": {
      "text/html": [
       "<div>\n",
       "<style scoped>\n",
       "    .dataframe tbody tr th:only-of-type {\n",
       "        vertical-align: middle;\n",
       "    }\n",
       "\n",
       "    .dataframe tbody tr th {\n",
       "        vertical-align: top;\n",
       "    }\n",
       "\n",
       "    .dataframe thead th {\n",
       "        text-align: right;\n",
       "    }\n",
       "</style>\n",
       "<table border=\"1\" class=\"dataframe\">\n",
       "  <thead>\n",
       "    <tr style=\"text-align: right;\">\n",
       "      <th></th>\n",
       "      <th>Unnamed: 0</th>\n",
       "      <th>req_text</th>\n",
       "      <th>age</th>\n",
       "      <th>age_encoded</th>\n",
       "      <th>word_tokens</th>\n",
       "      <th>lemma</th>\n",
       "    </tr>\n",
       "  </thead>\n",
       "  <tbody>\n",
       "    <tr>\n",
       "      <th>0</th>\n",
       "      <td>0</td>\n",
       "      <td>quantos empregados em cada um dos atuais níve...</td>\n",
       "      <td>a2</td>\n",
       "      <td>1</td>\n",
       "      <td>['quantos', 'empregados', 'cada', 'atuais', 'n...</td>\n",
       "      <td>quanto empregado cada atual nível salarial pca...</td>\n",
       "    </tr>\n",
       "    <tr>\n",
       "      <th>1</th>\n",
       "      <td>1</td>\n",
       "      <td>solicito cópia das atas do conselho de admini...</td>\n",
       "      <td>a2</td>\n",
       "      <td>1</td>\n",
       "      <td>['solicito', 'cópia', 'atas', 'conselho', 'adm...</td>\n",
       "      <td>solicito cópia ata conselho administração bnde...</td>\n",
       "    </tr>\n",
       "    <tr>\n",
       "      <th>2</th>\n",
       "      <td>2</td>\n",
       "      <td>solicito informar a norma lei decreto portari...</td>\n",
       "      <td>a2</td>\n",
       "      <td>1</td>\n",
       "      <td>['solicito', 'informar', 'norma', 'lei', 'decr...</td>\n",
       "      <td>solicito informar norma lei decreto portaria i...</td>\n",
       "    </tr>\n",
       "    <tr>\n",
       "      <th>3</th>\n",
       "      <td>3</td>\n",
       "      <td>solicito por gentileza a informação sobre a q...</td>\n",
       "      <td>a2</td>\n",
       "      <td>1</td>\n",
       "      <td>['solicito', 'gentileza', 'informação', 'sobre...</td>\n",
       "      <td>solicito gentileza informação sobre quantidade...</td>\n",
       "    </tr>\n",
       "    <tr>\n",
       "      <th>4</th>\n",
       "      <td>4</td>\n",
       "      <td>solicito por gentileza a informação sobre a q...</td>\n",
       "      <td>a2</td>\n",
       "      <td>1</td>\n",
       "      <td>['solicito', 'gentileza', 'informação', 'sobre...</td>\n",
       "      <td>solicito gentileza informação sobre quantidade...</td>\n",
       "    </tr>\n",
       "  </tbody>\n",
       "</table>\n",
       "</div>"
      ],
      "text/plain": [
       "   Unnamed: 0                                           req_text age  \\\n",
       "0           0   quantos empregados em cada um dos atuais níve...  a2   \n",
       "1           1   solicito cópia das atas do conselho de admini...  a2   \n",
       "2           2   solicito informar a norma lei decreto portari...  a2   \n",
       "3           3   solicito por gentileza a informação sobre a q...  a2   \n",
       "4           4   solicito por gentileza a informação sobre a q...  a2   \n",
       "\n",
       "   age_encoded                                        word_tokens  \\\n",
       "0            1  ['quantos', 'empregados', 'cada', 'atuais', 'n...   \n",
       "1            1  ['solicito', 'cópia', 'atas', 'conselho', 'adm...   \n",
       "2            1  ['solicito', 'informar', 'norma', 'lei', 'decr...   \n",
       "3            1  ['solicito', 'gentileza', 'informação', 'sobre...   \n",
       "4            1  ['solicito', 'gentileza', 'informação', 'sobre...   \n",
       "\n",
       "                                               lemma  \n",
       "0  quanto empregado cada atual nível salarial pca...  \n",
       "1  solicito cópia ata conselho administração bnde...  \n",
       "2  solicito informar norma lei decreto portaria i...  \n",
       "3  solicito gentileza informação sobre quantidade...  \n",
       "4  solicito gentileza informação sobre quantidade...  "
      ]
     },
     "execution_count": 5,
     "metadata": {},
     "output_type": "execute_result"
    }
   ],
   "source": [
    "\n",
    "df_plain = pd.read_csv('../data/enc_tok_nostopword_nopunct_lemm.csv')\n",
    "df_plain.head()"
   ]
  },
  {
   "cell_type": "code",
   "execution_count": 9,
   "metadata": {},
   "outputs": [],
   "source": [
    "tokenizer = Tokenizer(num_words= max_features, split= ' ')\n",
    "tokenizer.fit_on_texts(df_plain['lemma'].values)\n",
    "x = tokenizer.texts_to_sequences(df_plain['lemma'].values)\n",
    "x = pad_sequences(x)"
   ]
  },
  {
   "cell_type": "code",
   "execution_count": 37,
   "metadata": {},
   "outputs": [],
   "source": [
    "y = pd.get_dummies(df_plain['age'])"
   ]
  },
  {
   "cell_type": "code",
   "execution_count": 38,
   "metadata": {},
   "outputs": [],
   "source": [
    "X_treino, X_teste, y_treino, y_teste = train_test_split(x, y, train_size=0.8, random_state=42 )\n"
   ]
  },
  {
   "cell_type": "code",
   "execution_count": 39,
   "metadata": {},
   "outputs": [],
   "source": [
    "model_plain = modelLSTMPos(x)"
   ]
  },
  {
   "cell_type": "code",
   "execution_count": 40,
   "metadata": {},
   "outputs": [
    {
     "name": "stdout",
     "output_type": "stream",
     "text": [
      "Epoch 1/20\n",
      "205/205 [==============================] - 10s 40ms/step - loss: 0.5499 - accuracy: 0.3718 - val_loss: 0.5286 - val_accuracy: 0.3799\n",
      "Epoch 2/20\n",
      "205/205 [==============================] - 8s 39ms/step - loss: 0.5121 - accuracy: 0.4187 - val_loss: 0.5043 - val_accuracy: 0.4299\n",
      "Epoch 3/20\n",
      "205/205 [==============================] - 9s 44ms/step - loss: 0.4838 - accuracy: 0.4701 - val_loss: 0.4968 - val_accuracy: 0.4433\n",
      "Epoch 4/20\n",
      "205/205 [==============================] - 8s 39ms/step - loss: 0.4644 - accuracy: 0.4983 - val_loss: 0.5023 - val_accuracy: 0.4421\n",
      "Epoch 5/20\n",
      "205/205 [==============================] - 8s 41ms/step - loss: 0.4494 - accuracy: 0.5265 - val_loss: 0.5068 - val_accuracy: 0.4439\n",
      "Epoch 6/20\n",
      "205/205 [==============================] - 9s 45ms/step - loss: 0.4364 - accuracy: 0.5477 - val_loss: 0.5126 - val_accuracy: 0.4323\n",
      "Epoch 7/20\n",
      "205/205 [==============================] - 9s 42ms/step - loss: 0.4215 - accuracy: 0.5739 - val_loss: 0.5214 - val_accuracy: 0.4378\n",
      "Epoch 8/20\n",
      "205/205 [==============================] - 8s 40ms/step - loss: 0.4077 - accuracy: 0.5878 - val_loss: 0.5449 - val_accuracy: 0.4451\n",
      "Epoch 9/20\n",
      "205/205 [==============================] - 8s 39ms/step - loss: 0.3918 - accuracy: 0.6181 - val_loss: 0.5520 - val_accuracy: 0.4421\n",
      "Epoch 10/20\n",
      "205/205 [==============================] - 8s 39ms/step - loss: 0.3777 - accuracy: 0.6287 - val_loss: 0.5611 - val_accuracy: 0.4311\n",
      "Epoch 11/20\n",
      "205/205 [==============================] - 9s 45ms/step - loss: 0.3609 - accuracy: 0.6514 - val_loss: 0.5890 - val_accuracy: 0.4274\n",
      "Epoch 12/20\n",
      "205/205 [==============================] - 9s 43ms/step - loss: 0.3483 - accuracy: 0.6687 - val_loss: 0.6024 - val_accuracy: 0.4213\n",
      "Epoch 13/20\n",
      "205/205 [==============================] - 9s 43ms/step - loss: 0.3281 - accuracy: 0.6883 - val_loss: 0.6217 - val_accuracy: 0.4274\n",
      "Epoch 14/20\n",
      "205/205 [==============================] - 9s 44ms/step - loss: 0.3162 - accuracy: 0.7067 - val_loss: 0.6548 - val_accuracy: 0.4274\n",
      "Epoch 15/20\n",
      "205/205 [==============================] - 9s 46ms/step - loss: 0.2985 - accuracy: 0.7261 - val_loss: 0.6744 - val_accuracy: 0.4268\n",
      "Epoch 16/20\n",
      "205/205 [==============================] - 9s 44ms/step - loss: 0.2875 - accuracy: 0.7412 - val_loss: 0.7169 - val_accuracy: 0.4159\n",
      "Epoch 17/20\n",
      "205/205 [==============================] - 8s 38ms/step - loss: 0.2767 - accuracy: 0.7549 - val_loss: 0.7283 - val_accuracy: 0.4171\n",
      "Epoch 18/20\n",
      "205/205 [==============================] - 8s 39ms/step - loss: 0.2615 - accuracy: 0.7684 - val_loss: 0.7607 - val_accuracy: 0.4183\n",
      "Epoch 19/20\n",
      "205/205 [==============================] - 8s 38ms/step - loss: 0.2518 - accuracy: 0.7834 - val_loss: 0.8033 - val_accuracy: 0.4244\n",
      "Epoch 20/20\n",
      "205/205 [==============================] - 8s 39ms/step - loss: 0.2378 - accuracy: 0.7965 - val_loss: 0.8237 - val_accuracy: 0.4098\n"
     ]
    }
   ],
   "source": [
    "history = model_plain.fit(X_treino, y_treino, epochs=20, validation_data=(X_teste, y_teste))"
   ]
  },
  {
   "cell_type": "code",
   "execution_count": 41,
   "metadata": {},
   "outputs": [
    {
     "name": "stdout",
     "output_type": "stream",
     "text": [
      "INFO:tensorflow:Assets written to: ram://a7e13287b0b04e69b7a416cc7bb2cfc8/assets\n"
     ]
    },
    {
     "name": "stderr",
     "output_type": "stream",
     "text": [
      "INFO:tensorflow:Assets written to: ram://a7e13287b0b04e69b7a416cc7bb2cfc8/assets\n"
     ]
    },
    {
     "name": "stdout",
     "output_type": "stream",
     "text": [
      "Epoch 1/5\n"
     ]
    },
    {
     "name": "stderr",
     "output_type": "stream",
     "text": [
      "2023-12-15 11:11:03.034306: W tensorflow/core/util/tensor_slice_reader.cc:98] Could not open ram://db2feb9001c14d0e8a5258e0b8f27651: INVALID_ARGUMENT: ram://db2feb9001c14d0e8a5258e0b8f27651 is a directory.\n",
      "/home/chocomenta/anaconda3/lib/python3.11/site-packages/scikeras/wrappers.py:915: UserWarning: ``build_fn`` will be renamed to ``model`` in a future release, at which point use of ``build_fn`` will raise an Error instead.\n",
      "  X, y = self._initialize(X, y)\n"
     ]
    },
    {
     "name": "stdout",
     "output_type": "stream",
     "text": [
      "231/231 [==============================] - 14s 54ms/step - loss: 0.3203 - accuracy: 0.7322\n",
      "Epoch 2/5\n",
      "231/231 [==============================] - 13s 56ms/step - loss: 0.2899 - accuracy: 0.7526\n",
      "Epoch 3/5\n",
      "231/231 [==============================] - 12s 54ms/step - loss: 0.2679 - accuracy: 0.7760\n",
      "Epoch 4/5\n",
      "231/231 [==============================] - 13s 54ms/step - loss: 0.2574 - accuracy: 0.7812\n",
      "Epoch 5/5\n",
      "231/231 [==============================] - 13s 55ms/step - loss: 0.2443 - accuracy: 0.7953\n",
      "26/26 [==============================] - 0s 7ms/step\n",
      "INFO:tensorflow:Assets written to: ram://a27895eb6a624885836f761f2bf5d601/assets\n"
     ]
    },
    {
     "name": "stderr",
     "output_type": "stream",
     "text": [
      "INFO:tensorflow:Assets written to: ram://a27895eb6a624885836f761f2bf5d601/assets\n"
     ]
    },
    {
     "name": "stdout",
     "output_type": "stream",
     "text": [
      "Epoch 1/5\n"
     ]
    },
    {
     "name": "stderr",
     "output_type": "stream",
     "text": [
      "2023-12-15 11:12:10.905081: W tensorflow/core/util/tensor_slice_reader.cc:98] Could not open ram://394b53441ed34a948156a39b3653b4a1: INVALID_ARGUMENT: ram://394b53441ed34a948156a39b3653b4a1 is a directory.\n",
      "/home/chocomenta/anaconda3/lib/python3.11/site-packages/scikeras/wrappers.py:915: UserWarning: ``build_fn`` will be renamed to ``model`` in a future release, at which point use of ``build_fn`` will raise an Error instead.\n",
      "  X, y = self._initialize(X, y)\n"
     ]
    },
    {
     "name": "stdout",
     "output_type": "stream",
     "text": [
      "231/231 [==============================] - 14s 53ms/step - loss: 0.3242 - accuracy: 0.7331\n",
      "Epoch 2/5\n",
      "231/231 [==============================] - 13s 55ms/step - loss: 0.2879 - accuracy: 0.7562\n",
      "Epoch 3/5\n",
      "231/231 [==============================] - 13s 57ms/step - loss: 0.2716 - accuracy: 0.7724\n",
      "Epoch 4/5\n",
      "231/231 [==============================] - 13s 55ms/step - loss: 0.2568 - accuracy: 0.7883\n",
      "Epoch 5/5\n",
      "231/231 [==============================] - 13s 57ms/step - loss: 0.2420 - accuracy: 0.8016\n",
      "26/26 [==============================] - 0s 8ms/step\n",
      "INFO:tensorflow:Assets written to: ram://c0d3d74020f24ec6a42e11f553351d5b/assets\n"
     ]
    },
    {
     "name": "stderr",
     "output_type": "stream",
     "text": [
      "INFO:tensorflow:Assets written to: ram://c0d3d74020f24ec6a42e11f553351d5b/assets\n"
     ]
    },
    {
     "name": "stdout",
     "output_type": "stream",
     "text": [
      "Epoch 1/5\n"
     ]
    },
    {
     "name": "stderr",
     "output_type": "stream",
     "text": [
      "2023-12-15 11:13:20.236647: W tensorflow/core/util/tensor_slice_reader.cc:98] Could not open ram://0cb5a1c48cd749d29b3421d1125212b4: INVALID_ARGUMENT: ram://0cb5a1c48cd749d29b3421d1125212b4 is a directory.\n",
      "/home/chocomenta/anaconda3/lib/python3.11/site-packages/scikeras/wrappers.py:915: UserWarning: ``build_fn`` will be renamed to ``model`` in a future release, at which point use of ``build_fn`` will raise an Error instead.\n",
      "  X, y = self._initialize(X, y)\n"
     ]
    },
    {
     "name": "stdout",
     "output_type": "stream",
     "text": [
      "231/231 [==============================] - 15s 57ms/step - loss: 0.3249 - accuracy: 0.7347\n",
      "Epoch 2/5\n",
      "231/231 [==============================] - 13s 57ms/step - loss: 0.2924 - accuracy: 0.7519\n",
      "Epoch 3/5\n",
      "231/231 [==============================] - 13s 57ms/step - loss: 0.2767 - accuracy: 0.7701\n",
      "Epoch 4/5\n",
      "231/231 [==============================] - 13s 57ms/step - loss: 0.2622 - accuracy: 0.7852\n",
      "Epoch 5/5\n",
      "231/231 [==============================] - 14s 59ms/step - loss: 0.2457 - accuracy: 0.7978\n",
      "26/26 [==============================] - 1s 9ms/step\n",
      "INFO:tensorflow:Assets written to: ram://9cb8c43e0f8043d3b2f0e9b31245be2f/assets\n"
     ]
    },
    {
     "name": "stderr",
     "output_type": "stream",
     "text": [
      "INFO:tensorflow:Assets written to: ram://9cb8c43e0f8043d3b2f0e9b31245be2f/assets\n"
     ]
    },
    {
     "name": "stdout",
     "output_type": "stream",
     "text": [
      "Epoch 1/5\n"
     ]
    },
    {
     "name": "stderr",
     "output_type": "stream",
     "text": [
      "2023-12-15 11:14:32.245880: W tensorflow/core/util/tensor_slice_reader.cc:98] Could not open ram://35893831f61a43649bbb4e041222f296: INVALID_ARGUMENT: ram://35893831f61a43649bbb4e041222f296 is a directory.\n",
      "/home/chocomenta/anaconda3/lib/python3.11/site-packages/scikeras/wrappers.py:915: UserWarning: ``build_fn`` will be renamed to ``model`` in a future release, at which point use of ``build_fn`` will raise an Error instead.\n",
      "  X, y = self._initialize(X, y)\n"
     ]
    },
    {
     "name": "stdout",
     "output_type": "stream",
     "text": [
      "231/231 [==============================] - 15s 55ms/step - loss: 0.3292 - accuracy: 0.7290\n",
      "Epoch 2/5\n",
      "231/231 [==============================] - 13s 56ms/step - loss: 0.2899 - accuracy: 0.7550\n",
      "Epoch 3/5\n",
      "231/231 [==============================] - 13s 55ms/step - loss: 0.2736 - accuracy: 0.7733\n",
      "Epoch 4/5\n",
      "231/231 [==============================] - 13s 55ms/step - loss: 0.2573 - accuracy: 0.7886\n",
      "Epoch 5/5\n",
      "231/231 [==============================] - 13s 55ms/step - loss: 0.2445 - accuracy: 0.7986\n",
      "26/26 [==============================] - 0s 7ms/step\n",
      "INFO:tensorflow:Assets written to: ram://4a08745ccc934d19a62d5d63141dde97/assets\n"
     ]
    },
    {
     "name": "stderr",
     "output_type": "stream",
     "text": [
      "INFO:tensorflow:Assets written to: ram://4a08745ccc934d19a62d5d63141dde97/assets\n"
     ]
    },
    {
     "name": "stdout",
     "output_type": "stream",
     "text": [
      "Epoch 1/5\n"
     ]
    },
    {
     "name": "stderr",
     "output_type": "stream",
     "text": [
      "2023-12-15 11:15:41.295106: W tensorflow/core/util/tensor_slice_reader.cc:98] Could not open ram://74ca369f37ce476498decec7a76bcd5b: INVALID_ARGUMENT: ram://74ca369f37ce476498decec7a76bcd5b is a directory.\n",
      "/home/chocomenta/anaconda3/lib/python3.11/site-packages/scikeras/wrappers.py:915: UserWarning: ``build_fn`` will be renamed to ``model`` in a future release, at which point use of ``build_fn`` will raise an Error instead.\n",
      "  X, y = self._initialize(X, y)\n"
     ]
    },
    {
     "name": "stdout",
     "output_type": "stream",
     "text": [
      "231/231 [==============================] - 15s 55ms/step - loss: 0.3240 - accuracy: 0.7328\n",
      "Epoch 2/5\n",
      "231/231 [==============================] - 13s 56ms/step - loss: 0.2880 - accuracy: 0.7588\n",
      "Epoch 3/5\n",
      "231/231 [==============================] - 13s 56ms/step - loss: 0.2723 - accuracy: 0.7694\n",
      "Epoch 4/5\n",
      "231/231 [==============================] - 13s 55ms/step - loss: 0.2547 - accuracy: 0.7866\n",
      "Epoch 5/5\n",
      "231/231 [==============================] - 13s 55ms/step - loss: 0.2459 - accuracy: 0.7955\n",
      "26/26 [==============================] - 0s 7ms/step\n",
      "WARNING:tensorflow:Detecting that an object or model or tf.train.Checkpoint is being deleted with unrestored values. See the following logs for the specific values in question. To silence these warnings, use `status.expect_partial()`. See https://www.tensorflow.org/api_docs/python/tf/train/Checkpoint#restorefor details about the status object returned by the restore function.\n"
     ]
    },
    {
     "name": "stderr",
     "output_type": "stream",
     "text": [
      "WARNING:tensorflow:Detecting that an object or model or tf.train.Checkpoint is being deleted with unrestored values. See the following logs for the specific values in question. To silence these warnings, use `status.expect_partial()`. See https://www.tensorflow.org/api_docs/python/tf/train/Checkpoint#restorefor details about the status object returned by the restore function.\n"
     ]
    },
    {
     "name": "stdout",
     "output_type": "stream",
     "text": [
      "WARNING:tensorflow:Value in checkpoint could not be found in the restored object: (root).keras_api.metrics.0.total\n"
     ]
    },
    {
     "name": "stderr",
     "output_type": "stream",
     "text": [
      "WARNING:tensorflow:Value in checkpoint could not be found in the restored object: (root).keras_api.metrics.0.total\n"
     ]
    },
    {
     "name": "stdout",
     "output_type": "stream",
     "text": [
      "WARNING:tensorflow:Value in checkpoint could not be found in the restored object: (root).keras_api.metrics.0.count\n"
     ]
    },
    {
     "name": "stderr",
     "output_type": "stream",
     "text": [
      "WARNING:tensorflow:Value in checkpoint could not be found in the restored object: (root).keras_api.metrics.0.count\n"
     ]
    },
    {
     "name": "stdout",
     "output_type": "stream",
     "text": [
      "WARNING:tensorflow:Value in checkpoint could not be found in the restored object: (root).keras_api.metrics.1.total\n"
     ]
    },
    {
     "name": "stderr",
     "output_type": "stream",
     "text": [
      "WARNING:tensorflow:Value in checkpoint could not be found in the restored object: (root).keras_api.metrics.1.total\n"
     ]
    },
    {
     "name": "stdout",
     "output_type": "stream",
     "text": [
      "WARNING:tensorflow:Value in checkpoint could not be found in the restored object: (root).keras_api.metrics.1.count\n"
     ]
    },
    {
     "name": "stderr",
     "output_type": "stream",
     "text": [
      "WARNING:tensorflow:Value in checkpoint could not be found in the restored object: (root).keras_api.metrics.1.count\n"
     ]
    },
    {
     "name": "stdout",
     "output_type": "stream",
     "text": [
      "WARNING:tensorflow:Detecting that an object or model or tf.train.Checkpoint is being deleted with unrestored values. See the following logs for the specific values in question. To silence these warnings, use `status.expect_partial()`. See https://www.tensorflow.org/api_docs/python/tf/train/Checkpoint#restorefor details about the status object returned by the restore function.\n"
     ]
    },
    {
     "name": "stderr",
     "output_type": "stream",
     "text": [
      "WARNING:tensorflow:Detecting that an object or model or tf.train.Checkpoint is being deleted with unrestored values. See the following logs for the specific values in question. To silence these warnings, use `status.expect_partial()`. See https://www.tensorflow.org/api_docs/python/tf/train/Checkpoint#restorefor details about the status object returned by the restore function.\n"
     ]
    },
    {
     "name": "stdout",
     "output_type": "stream",
     "text": [
      "WARNING:tensorflow:Value in checkpoint could not be found in the restored object: (root).keras_api.metrics.0.total\n"
     ]
    },
    {
     "name": "stderr",
     "output_type": "stream",
     "text": [
      "WARNING:tensorflow:Value in checkpoint could not be found in the restored object: (root).keras_api.metrics.0.total\n"
     ]
    },
    {
     "name": "stdout",
     "output_type": "stream",
     "text": [
      "WARNING:tensorflow:Value in checkpoint could not be found in the restored object: (root).keras_api.metrics.0.count\n"
     ]
    },
    {
     "name": "stderr",
     "output_type": "stream",
     "text": [
      "WARNING:tensorflow:Value in checkpoint could not be found in the restored object: (root).keras_api.metrics.0.count\n"
     ]
    },
    {
     "name": "stdout",
     "output_type": "stream",
     "text": [
      "WARNING:tensorflow:Value in checkpoint could not be found in the restored object: (root).keras_api.metrics.1.total\n"
     ]
    },
    {
     "name": "stderr",
     "output_type": "stream",
     "text": [
      "WARNING:tensorflow:Value in checkpoint could not be found in the restored object: (root).keras_api.metrics.1.total\n"
     ]
    },
    {
     "name": "stdout",
     "output_type": "stream",
     "text": [
      "WARNING:tensorflow:Value in checkpoint could not be found in the restored object: (root).keras_api.metrics.1.count\n"
     ]
    },
    {
     "name": "stderr",
     "output_type": "stream",
     "text": [
      "WARNING:tensorflow:Value in checkpoint could not be found in the restored object: (root).keras_api.metrics.1.count\n"
     ]
    },
    {
     "name": "stdout",
     "output_type": "stream",
     "text": [
      "WARNING:tensorflow:Detecting that an object or model or tf.train.Checkpoint is being deleted with unrestored values. See the following logs for the specific values in question. To silence these warnings, use `status.expect_partial()`. See https://www.tensorflow.org/api_docs/python/tf/train/Checkpoint#restorefor details about the status object returned by the restore function.\n"
     ]
    },
    {
     "name": "stderr",
     "output_type": "stream",
     "text": [
      "WARNING:tensorflow:Detecting that an object or model or tf.train.Checkpoint is being deleted with unrestored values. See the following logs for the specific values in question. To silence these warnings, use `status.expect_partial()`. See https://www.tensorflow.org/api_docs/python/tf/train/Checkpoint#restorefor details about the status object returned by the restore function.\n"
     ]
    },
    {
     "name": "stdout",
     "output_type": "stream",
     "text": [
      "WARNING:tensorflow:Value in checkpoint could not be found in the restored object: (root).keras_api.metrics.0.total\n"
     ]
    },
    {
     "name": "stderr",
     "output_type": "stream",
     "text": [
      "WARNING:tensorflow:Value in checkpoint could not be found in the restored object: (root).keras_api.metrics.0.total\n"
     ]
    },
    {
     "name": "stdout",
     "output_type": "stream",
     "text": [
      "WARNING:tensorflow:Value in checkpoint could not be found in the restored object: (root).keras_api.metrics.0.count\n"
     ]
    },
    {
     "name": "stderr",
     "output_type": "stream",
     "text": [
      "WARNING:tensorflow:Value in checkpoint could not be found in the restored object: (root).keras_api.metrics.0.count\n"
     ]
    },
    {
     "name": "stdout",
     "output_type": "stream",
     "text": [
      "WARNING:tensorflow:Value in checkpoint could not be found in the restored object: (root).keras_api.metrics.1.total\n"
     ]
    },
    {
     "name": "stderr",
     "output_type": "stream",
     "text": [
      "WARNING:tensorflow:Value in checkpoint could not be found in the restored object: (root).keras_api.metrics.1.total\n"
     ]
    },
    {
     "name": "stdout",
     "output_type": "stream",
     "text": [
      "WARNING:tensorflow:Value in checkpoint could not be found in the restored object: (root).keras_api.metrics.1.count\n"
     ]
    },
    {
     "name": "stderr",
     "output_type": "stream",
     "text": [
      "WARNING:tensorflow:Value in checkpoint could not be found in the restored object: (root).keras_api.metrics.1.count\n"
     ]
    },
    {
     "name": "stdout",
     "output_type": "stream",
     "text": [
      "INFO:tensorflow:Assets written to: ram://2e439cfb6cd540caaef0889dc0a01366/assets\n"
     ]
    },
    {
     "name": "stderr",
     "output_type": "stream",
     "text": [
      "INFO:tensorflow:Assets written to: ram://2e439cfb6cd540caaef0889dc0a01366/assets\n"
     ]
    },
    {
     "name": "stdout",
     "output_type": "stream",
     "text": [
      "Epoch 1/5\n"
     ]
    },
    {
     "name": "stderr",
     "output_type": "stream",
     "text": [
      "2023-12-15 11:16:50.881757: W tensorflow/core/util/tensor_slice_reader.cc:98] Could not open ram://56867dc77e5f45529badf94995809261: INVALID_ARGUMENT: ram://56867dc77e5f45529badf94995809261 is a directory.\n",
      "/home/chocomenta/anaconda3/lib/python3.11/site-packages/scikeras/wrappers.py:915: UserWarning: ``build_fn`` will be renamed to ``model`` in a future release, at which point use of ``build_fn`` will raise an Error instead.\n",
      "  X, y = self._initialize(X, y)\n"
     ]
    },
    {
     "name": "stdout",
     "output_type": "stream",
     "text": [
      "231/231 [==============================] - 14s 54ms/step - loss: 0.3278 - accuracy: 0.7262\n",
      "Epoch 2/5\n",
      "231/231 [==============================] - 13s 55ms/step - loss: 0.2897 - accuracy: 0.7596\n",
      "Epoch 3/5\n",
      "231/231 [==============================] - 13s 56ms/step - loss: 0.2735 - accuracy: 0.7692\n",
      "Epoch 4/5\n",
      "231/231 [==============================] - 13s 56ms/step - loss: 0.2582 - accuracy: 0.7862\n",
      "Epoch 5/5\n",
      "231/231 [==============================] - 13s 55ms/step - loss: 0.2460 - accuracy: 0.7980\n",
      "26/26 [==============================] - 0s 7ms/step\n",
      "INFO:tensorflow:Assets written to: ram://6e4a03c1b184457e9ef37b10e35bcf9d/assets\n"
     ]
    },
    {
     "name": "stderr",
     "output_type": "stream",
     "text": [
      "INFO:tensorflow:Assets written to: ram://6e4a03c1b184457e9ef37b10e35bcf9d/assets\n"
     ]
    },
    {
     "name": "stdout",
     "output_type": "stream",
     "text": [
      "Epoch 1/5\n"
     ]
    },
    {
     "name": "stderr",
     "output_type": "stream",
     "text": [
      "2023-12-15 11:17:59.615707: W tensorflow/core/util/tensor_slice_reader.cc:98] Could not open ram://e27bfdeb549d41d488211dc83646b72e: INVALID_ARGUMENT: ram://e27bfdeb549d41d488211dc83646b72e is a directory.\n",
      "/home/chocomenta/anaconda3/lib/python3.11/site-packages/scikeras/wrappers.py:915: UserWarning: ``build_fn`` will be renamed to ``model`` in a future release, at which point use of ``build_fn`` will raise an Error instead.\n",
      "  X, y = self._initialize(X, y)\n"
     ]
    },
    {
     "name": "stdout",
     "output_type": "stream",
     "text": [
      "231/231 [==============================] - 14s 54ms/step - loss: 0.3283 - accuracy: 0.7295\n",
      "Epoch 2/5\n",
      "231/231 [==============================] - 14s 59ms/step - loss: 0.2940 - accuracy: 0.7508\n",
      "Epoch 3/5\n",
      "231/231 [==============================] - 14s 59ms/step - loss: 0.2750 - accuracy: 0.7709\n",
      "Epoch 4/5\n",
      "231/231 [==============================] - 17s 75ms/step - loss: 0.2591 - accuracy: 0.7846\n",
      "Epoch 5/5\n",
      "231/231 [==============================] - 13s 56ms/step - loss: 0.2452 - accuracy: 0.7963\n",
      "26/26 [==============================] - 0s 7ms/step\n",
      "INFO:tensorflow:Assets written to: ram://e90cb13099ad47faba788239685ac872/assets\n"
     ]
    },
    {
     "name": "stderr",
     "output_type": "stream",
     "text": [
      "INFO:tensorflow:Assets written to: ram://e90cb13099ad47faba788239685ac872/assets\n"
     ]
    },
    {
     "name": "stdout",
     "output_type": "stream",
     "text": [
      "WARNING:tensorflow:Detecting that an object or model or tf.train.Checkpoint is being deleted with unrestored values. See the following logs for the specific values in question. To silence these warnings, use `status.expect_partial()`. See https://www.tensorflow.org/api_docs/python/tf/train/Checkpoint#restorefor details about the status object returned by the restore function.\n"
     ]
    },
    {
     "name": "stderr",
     "output_type": "stream",
     "text": [
      "WARNING:tensorflow:Detecting that an object or model or tf.train.Checkpoint is being deleted with unrestored values. See the following logs for the specific values in question. To silence these warnings, use `status.expect_partial()`. See https://www.tensorflow.org/api_docs/python/tf/train/Checkpoint#restorefor details about the status object returned by the restore function.\n"
     ]
    },
    {
     "name": "stdout",
     "output_type": "stream",
     "text": [
      "WARNING:tensorflow:Value in checkpoint could not be found in the restored object: (root).keras_api.metrics.0.total\n"
     ]
    },
    {
     "name": "stderr",
     "output_type": "stream",
     "text": [
      "WARNING:tensorflow:Value in checkpoint could not be found in the restored object: (root).keras_api.metrics.0.total\n"
     ]
    },
    {
     "name": "stdout",
     "output_type": "stream",
     "text": [
      "WARNING:tensorflow:Value in checkpoint could not be found in the restored object: (root).keras_api.metrics.0.count\n"
     ]
    },
    {
     "name": "stderr",
     "output_type": "stream",
     "text": [
      "WARNING:tensorflow:Value in checkpoint could not be found in the restored object: (root).keras_api.metrics.0.count\n"
     ]
    },
    {
     "name": "stdout",
     "output_type": "stream",
     "text": [
      "WARNING:tensorflow:Value in checkpoint could not be found in the restored object: (root).keras_api.metrics.1.total\n"
     ]
    },
    {
     "name": "stderr",
     "output_type": "stream",
     "text": [
      "WARNING:tensorflow:Value in checkpoint could not be found in the restored object: (root).keras_api.metrics.1.total\n"
     ]
    },
    {
     "name": "stdout",
     "output_type": "stream",
     "text": [
      "WARNING:tensorflow:Value in checkpoint could not be found in the restored object: (root).keras_api.metrics.1.count\n"
     ]
    },
    {
     "name": "stderr",
     "output_type": "stream",
     "text": [
      "WARNING:tensorflow:Value in checkpoint could not be found in the restored object: (root).keras_api.metrics.1.count\n"
     ]
    },
    {
     "name": "stdout",
     "output_type": "stream",
     "text": [
      "WARNING:tensorflow:Detecting that an object or model or tf.train.Checkpoint is being deleted with unrestored values. See the following logs for the specific values in question. To silence these warnings, use `status.expect_partial()`. See https://www.tensorflow.org/api_docs/python/tf/train/Checkpoint#restorefor details about the status object returned by the restore function.\n"
     ]
    },
    {
     "name": "stderr",
     "output_type": "stream",
     "text": [
      "WARNING:tensorflow:Detecting that an object or model or tf.train.Checkpoint is being deleted with unrestored values. See the following logs for the specific values in question. To silence these warnings, use `status.expect_partial()`. See https://www.tensorflow.org/api_docs/python/tf/train/Checkpoint#restorefor details about the status object returned by the restore function.\n"
     ]
    },
    {
     "name": "stdout",
     "output_type": "stream",
     "text": [
      "WARNING:tensorflow:Value in checkpoint could not be found in the restored object: (root).keras_api.metrics.0.total\n"
     ]
    },
    {
     "name": "stderr",
     "output_type": "stream",
     "text": [
      "WARNING:tensorflow:Value in checkpoint could not be found in the restored object: (root).keras_api.metrics.0.total\n"
     ]
    },
    {
     "name": "stdout",
     "output_type": "stream",
     "text": [
      "WARNING:tensorflow:Value in checkpoint could not be found in the restored object: (root).keras_api.metrics.0.count\n"
     ]
    },
    {
     "name": "stderr",
     "output_type": "stream",
     "text": [
      "WARNING:tensorflow:Value in checkpoint could not be found in the restored object: (root).keras_api.metrics.0.count\n"
     ]
    },
    {
     "name": "stdout",
     "output_type": "stream",
     "text": [
      "WARNING:tensorflow:Value in checkpoint could not be found in the restored object: (root).keras_api.metrics.1.total\n"
     ]
    },
    {
     "name": "stderr",
     "output_type": "stream",
     "text": [
      "WARNING:tensorflow:Value in checkpoint could not be found in the restored object: (root).keras_api.metrics.1.total\n"
     ]
    },
    {
     "name": "stdout",
     "output_type": "stream",
     "text": [
      "WARNING:tensorflow:Value in checkpoint could not be found in the restored object: (root).keras_api.metrics.1.count\n"
     ]
    },
    {
     "name": "stderr",
     "output_type": "stream",
     "text": [
      "WARNING:tensorflow:Value in checkpoint could not be found in the restored object: (root).keras_api.metrics.1.count\n"
     ]
    },
    {
     "name": "stdout",
     "output_type": "stream",
     "text": [
      "Epoch 1/5\n"
     ]
    },
    {
     "name": "stderr",
     "output_type": "stream",
     "text": [
      "2023-12-15 11:19:15.058503: W tensorflow/core/util/tensor_slice_reader.cc:98] Could not open ram://c5a35c81303343e9bfe99b8fdc267706: INVALID_ARGUMENT: ram://c5a35c81303343e9bfe99b8fdc267706 is a directory.\n",
      "/home/chocomenta/anaconda3/lib/python3.11/site-packages/scikeras/wrappers.py:915: UserWarning: ``build_fn`` will be renamed to ``model`` in a future release, at which point use of ``build_fn`` will raise an Error instead.\n",
      "  X, y = self._initialize(X, y)\n"
     ]
    },
    {
     "name": "stdout",
     "output_type": "stream",
     "text": [
      "231/231 [==============================] - 15s 58ms/step - loss: 0.3437 - accuracy: 0.7141\n",
      "Epoch 2/5\n",
      "231/231 [==============================] - 13s 58ms/step - loss: 0.3026 - accuracy: 0.7401\n",
      "Epoch 3/5\n",
      "231/231 [==============================] - 13s 58ms/step - loss: 0.2869 - accuracy: 0.7611\n",
      "Epoch 4/5\n",
      "231/231 [==============================] - 13s 58ms/step - loss: 0.2701 - accuracy: 0.7733\n",
      "Epoch 5/5\n",
      "231/231 [==============================] - 14s 59ms/step - loss: 0.2620 - accuracy: 0.7843\n",
      "26/26 [==============================] - 0s 8ms/step\n",
      "INFO:tensorflow:Assets written to: ram://6ba965ff84a84fb3b15ce5f85e64450e/assets\n"
     ]
    },
    {
     "name": "stderr",
     "output_type": "stream",
     "text": [
      "INFO:tensorflow:Assets written to: ram://6ba965ff84a84fb3b15ce5f85e64450e/assets\n"
     ]
    },
    {
     "name": "stdout",
     "output_type": "stream",
     "text": [
      "Epoch 1/5\n"
     ]
    },
    {
     "name": "stderr",
     "output_type": "stream",
     "text": [
      "2023-12-15 11:20:27.384400: W tensorflow/core/util/tensor_slice_reader.cc:98] Could not open ram://48c2314151b34ac7ac2d7c8b04f2d401: INVALID_ARGUMENT: ram://48c2314151b34ac7ac2d7c8b04f2d401 is a directory.\n",
      "/home/chocomenta/anaconda3/lib/python3.11/site-packages/scikeras/wrappers.py:915: UserWarning: ``build_fn`` will be renamed to ``model`` in a future release, at which point use of ``build_fn`` will raise an Error instead.\n",
      "  X, y = self._initialize(X, y)\n"
     ]
    },
    {
     "name": "stdout",
     "output_type": "stream",
     "text": [
      "231/231 [==============================] - 15s 56ms/step - loss: 0.3449 - accuracy: 0.7108\n",
      "Epoch 2/5\n",
      "231/231 [==============================] - 13s 57ms/step - loss: 0.3084 - accuracy: 0.7354\n",
      "Epoch 3/5\n",
      "231/231 [==============================] - 13s 56ms/step - loss: 0.2877 - accuracy: 0.7580\n",
      "Epoch 4/5\n",
      "231/231 [==============================] - 13s 56ms/step - loss: 0.2733 - accuracy: 0.7711\n",
      "Epoch 5/5\n",
      "231/231 [==============================] - 13s 56ms/step - loss: 0.2633 - accuracy: 0.7757\n",
      "26/26 [==============================] - 0s 8ms/step\n",
      "INFO:tensorflow:Assets written to: ram://979c1eee24bc4a0d90e94c6365701a87/assets\n"
     ]
    },
    {
     "name": "stderr",
     "output_type": "stream",
     "text": [
      "INFO:tensorflow:Assets written to: ram://979c1eee24bc4a0d90e94c6365701a87/assets\n"
     ]
    },
    {
     "name": "stdout",
     "output_type": "stream",
     "text": [
      "Epoch 1/5\n"
     ]
    },
    {
     "name": "stderr",
     "output_type": "stream",
     "text": [
      "2023-12-15 11:21:37.578083: W tensorflow/core/util/tensor_slice_reader.cc:98] Could not open ram://313aa97ccb1b4df3b2269ea0b15de221: INVALID_ARGUMENT: ram://313aa97ccb1b4df3b2269ea0b15de221 is a directory.\n",
      "/home/chocomenta/anaconda3/lib/python3.11/site-packages/scikeras/wrappers.py:915: UserWarning: ``build_fn`` will be renamed to ``model`` in a future release, at which point use of ``build_fn`` will raise an Error instead.\n",
      "  X, y = self._initialize(X, y)\n"
     ]
    },
    {
     "name": "stdout",
     "output_type": "stream",
     "text": [
      "WARNING:tensorflow:Detecting that an object or model or tf.train.Checkpoint is being deleted with unrestored values. See the following logs for the specific values in question. To silence these warnings, use `status.expect_partial()`. See https://www.tensorflow.org/api_docs/python/tf/train/Checkpoint#restorefor details about the status object returned by the restore function.\n"
     ]
    },
    {
     "name": "stderr",
     "output_type": "stream",
     "text": [
      "WARNING:tensorflow:Detecting that an object or model or tf.train.Checkpoint is being deleted with unrestored values. See the following logs for the specific values in question. To silence these warnings, use `status.expect_partial()`. See https://www.tensorflow.org/api_docs/python/tf/train/Checkpoint#restorefor details about the status object returned by the restore function.\n"
     ]
    },
    {
     "name": "stdout",
     "output_type": "stream",
     "text": [
      "WARNING:tensorflow:Value in checkpoint could not be found in the restored object: (root).keras_api.metrics.0.total\n"
     ]
    },
    {
     "name": "stderr",
     "output_type": "stream",
     "text": [
      "WARNING:tensorflow:Value in checkpoint could not be found in the restored object: (root).keras_api.metrics.0.total\n"
     ]
    },
    {
     "name": "stdout",
     "output_type": "stream",
     "text": [
      "WARNING:tensorflow:Value in checkpoint could not be found in the restored object: (root).keras_api.metrics.0.count\n"
     ]
    },
    {
     "name": "stderr",
     "output_type": "stream",
     "text": [
      "WARNING:tensorflow:Value in checkpoint could not be found in the restored object: (root).keras_api.metrics.0.count\n"
     ]
    },
    {
     "name": "stdout",
     "output_type": "stream",
     "text": [
      "WARNING:tensorflow:Value in checkpoint could not be found in the restored object: (root).keras_api.metrics.1.total\n"
     ]
    },
    {
     "name": "stderr",
     "output_type": "stream",
     "text": [
      "WARNING:tensorflow:Value in checkpoint could not be found in the restored object: (root).keras_api.metrics.1.total\n"
     ]
    },
    {
     "name": "stdout",
     "output_type": "stream",
     "text": [
      "WARNING:tensorflow:Value in checkpoint could not be found in the restored object: (root).keras_api.metrics.1.count\n"
     ]
    },
    {
     "name": "stderr",
     "output_type": "stream",
     "text": [
      "WARNING:tensorflow:Value in checkpoint could not be found in the restored object: (root).keras_api.metrics.1.count\n"
     ]
    },
    {
     "name": "stdout",
     "output_type": "stream",
     "text": [
      "WARNING:tensorflow:Detecting that an object or model or tf.train.Checkpoint is being deleted with unrestored values. See the following logs for the specific values in question. To silence these warnings, use `status.expect_partial()`. See https://www.tensorflow.org/api_docs/python/tf/train/Checkpoint#restorefor details about the status object returned by the restore function.\n"
     ]
    },
    {
     "name": "stderr",
     "output_type": "stream",
     "text": [
      "WARNING:tensorflow:Detecting that an object or model or tf.train.Checkpoint is being deleted with unrestored values. See the following logs for the specific values in question. To silence these warnings, use `status.expect_partial()`. See https://www.tensorflow.org/api_docs/python/tf/train/Checkpoint#restorefor details about the status object returned by the restore function.\n"
     ]
    },
    {
     "name": "stdout",
     "output_type": "stream",
     "text": [
      "WARNING:tensorflow:Value in checkpoint could not be found in the restored object: (root).keras_api.metrics.0.total\n"
     ]
    },
    {
     "name": "stderr",
     "output_type": "stream",
     "text": [
      "WARNING:tensorflow:Value in checkpoint could not be found in the restored object: (root).keras_api.metrics.0.total\n"
     ]
    },
    {
     "name": "stdout",
     "output_type": "stream",
     "text": [
      "WARNING:tensorflow:Value in checkpoint could not be found in the restored object: (root).keras_api.metrics.0.count\n"
     ]
    },
    {
     "name": "stderr",
     "output_type": "stream",
     "text": [
      "WARNING:tensorflow:Value in checkpoint could not be found in the restored object: (root).keras_api.metrics.0.count\n"
     ]
    },
    {
     "name": "stdout",
     "output_type": "stream",
     "text": [
      "WARNING:tensorflow:Value in checkpoint could not be found in the restored object: (root).keras_api.metrics.1.total\n"
     ]
    },
    {
     "name": "stderr",
     "output_type": "stream",
     "text": [
      "WARNING:tensorflow:Value in checkpoint could not be found in the restored object: (root).keras_api.metrics.1.total\n"
     ]
    },
    {
     "name": "stdout",
     "output_type": "stream",
     "text": [
      "WARNING:tensorflow:Value in checkpoint could not be found in the restored object: (root).keras_api.metrics.1.count\n"
     ]
    },
    {
     "name": "stderr",
     "output_type": "stream",
     "text": [
      "WARNING:tensorflow:Value in checkpoint could not be found in the restored object: (root).keras_api.metrics.1.count\n"
     ]
    },
    {
     "name": "stdout",
     "output_type": "stream",
     "text": [
      "WARNING:tensorflow:Detecting that an object or model or tf.train.Checkpoint is being deleted with unrestored values. See the following logs for the specific values in question. To silence these warnings, use `status.expect_partial()`. See https://www.tensorflow.org/api_docs/python/tf/train/Checkpoint#restorefor details about the status object returned by the restore function.\n"
     ]
    },
    {
     "name": "stderr",
     "output_type": "stream",
     "text": [
      "WARNING:tensorflow:Detecting that an object or model or tf.train.Checkpoint is being deleted with unrestored values. See the following logs for the specific values in question. To silence these warnings, use `status.expect_partial()`. See https://www.tensorflow.org/api_docs/python/tf/train/Checkpoint#restorefor details about the status object returned by the restore function.\n"
     ]
    },
    {
     "name": "stdout",
     "output_type": "stream",
     "text": [
      "WARNING:tensorflow:Value in checkpoint could not be found in the restored object: (root).keras_api.metrics.0.total\n"
     ]
    },
    {
     "name": "stderr",
     "output_type": "stream",
     "text": [
      "WARNING:tensorflow:Value in checkpoint could not be found in the restored object: (root).keras_api.metrics.0.total\n"
     ]
    },
    {
     "name": "stdout",
     "output_type": "stream",
     "text": [
      "WARNING:tensorflow:Value in checkpoint could not be found in the restored object: (root).keras_api.metrics.0.count\n"
     ]
    },
    {
     "name": "stderr",
     "output_type": "stream",
     "text": [
      "WARNING:tensorflow:Value in checkpoint could not be found in the restored object: (root).keras_api.metrics.0.count\n"
     ]
    },
    {
     "name": "stdout",
     "output_type": "stream",
     "text": [
      "WARNING:tensorflow:Value in checkpoint could not be found in the restored object: (root).keras_api.metrics.1.total\n"
     ]
    },
    {
     "name": "stderr",
     "output_type": "stream",
     "text": [
      "WARNING:tensorflow:Value in checkpoint could not be found in the restored object: (root).keras_api.metrics.1.total\n"
     ]
    },
    {
     "name": "stdout",
     "output_type": "stream",
     "text": [
      "WARNING:tensorflow:Value in checkpoint could not be found in the restored object: (root).keras_api.metrics.1.count\n"
     ]
    },
    {
     "name": "stderr",
     "output_type": "stream",
     "text": [
      "WARNING:tensorflow:Value in checkpoint could not be found in the restored object: (root).keras_api.metrics.1.count\n"
     ]
    },
    {
     "name": "stdout",
     "output_type": "stream",
     "text": [
      "231/231 [==============================] - 16s 56ms/step - loss: 0.3435 - accuracy: 0.7137\n",
      "Epoch 2/5\n",
      "231/231 [==============================] - 13s 57ms/step - loss: 0.3083 - accuracy: 0.7423\n",
      "Epoch 3/5\n",
      "231/231 [==============================] - 13s 58ms/step - loss: 0.2936 - accuracy: 0.7495\n",
      "Epoch 4/5\n",
      "231/231 [==============================] - 13s 58ms/step - loss: 0.2775 - accuracy: 0.7663\n",
      "Epoch 5/5\n",
      "231/231 [==============================] - 13s 57ms/step - loss: 0.2591 - accuracy: 0.7852\n",
      "26/26 [==============================] - 0s 8ms/step\n",
      "[0.53658537 0.57073171 0.62073171 0.52804878 0.58292683 0.58170732\n",
      " 0.54390244 0.73780488 0.74634146 0.76707317]\n"
     ]
    },
    {
     "data": {
      "text/plain": [
       "0.6215853658536586"
      ]
     },
     "execution_count": 41,
     "metadata": {},
     "output_type": "execute_result"
    }
   ],
   "source": [
    "clf = KerasClassifier(build_fn=model_plain, epochs=5, batch_size=32, verbose=1)\n",
    "resultPos = cross_val_score(clf, x, y, scoring='accuracy', cv=10)\n",
    "print(resultPos)\n",
    "resultPos.mean()"
   ]
  },
  {
   "cell_type": "markdown",
   "metadata": {},
   "source": [
    "## BERTimbau"
   ]
  },
  {
   "cell_type": "code",
   "execution_count": 42,
   "metadata": {},
   "outputs": [],
   "source": [
    "import pandas as pd\n",
    "import numpy as np"
   ]
  },
  {
   "cell_type": "code",
   "execution_count": 43,
   "metadata": {},
   "outputs": [
    {
     "data": {
      "text/html": [
       "<div>\n",
       "<style scoped>\n",
       "    .dataframe tbody tr th:only-of-type {\n",
       "        vertical-align: middle;\n",
       "    }\n",
       "\n",
       "    .dataframe tbody tr th {\n",
       "        vertical-align: top;\n",
       "    }\n",
       "\n",
       "    .dataframe thead th {\n",
       "        text-align: right;\n",
       "    }\n",
       "</style>\n",
       "<table border=\"1\" class=\"dataframe\">\n",
       "  <thead>\n",
       "    <tr style=\"text-align: right;\">\n",
       "      <th></th>\n",
       "      <th>Unnamed: 0</th>\n",
       "      <th>req_text</th>\n",
       "      <th>age</th>\n",
       "      <th>age_encoded</th>\n",
       "      <th>word_tokens</th>\n",
       "      <th>lemma</th>\n",
       "    </tr>\n",
       "  </thead>\n",
       "  <tbody>\n",
       "    <tr>\n",
       "      <th>0</th>\n",
       "      <td>0</td>\n",
       "      <td>quantos empregados em cada um dos atuais níve...</td>\n",
       "      <td>a2</td>\n",
       "      <td>1</td>\n",
       "      <td>['quantos', 'empregados', 'cada', 'atuais', 'n...</td>\n",
       "      <td>quanto empregado cada atual nível salarial pca...</td>\n",
       "    </tr>\n",
       "    <tr>\n",
       "      <th>1</th>\n",
       "      <td>1</td>\n",
       "      <td>solicito cópia das atas do conselho de admini...</td>\n",
       "      <td>a2</td>\n",
       "      <td>1</td>\n",
       "      <td>['solicito', 'cópia', 'atas', 'conselho', 'adm...</td>\n",
       "      <td>solicito cópia ata conselho administração bnde...</td>\n",
       "    </tr>\n",
       "    <tr>\n",
       "      <th>2</th>\n",
       "      <td>2</td>\n",
       "      <td>solicito informar a norma lei decreto portari...</td>\n",
       "      <td>a2</td>\n",
       "      <td>1</td>\n",
       "      <td>['solicito', 'informar', 'norma', 'lei', 'decr...</td>\n",
       "      <td>solicito informar norma lei decreto portaria i...</td>\n",
       "    </tr>\n",
       "    <tr>\n",
       "      <th>3</th>\n",
       "      <td>3</td>\n",
       "      <td>solicito por gentileza a informação sobre a q...</td>\n",
       "      <td>a2</td>\n",
       "      <td>1</td>\n",
       "      <td>['solicito', 'gentileza', 'informação', 'sobre...</td>\n",
       "      <td>solicito gentileza informação sobre quantidade...</td>\n",
       "    </tr>\n",
       "    <tr>\n",
       "      <th>4</th>\n",
       "      <td>4</td>\n",
       "      <td>solicito por gentileza a informação sobre a q...</td>\n",
       "      <td>a2</td>\n",
       "      <td>1</td>\n",
       "      <td>['solicito', 'gentileza', 'informação', 'sobre...</td>\n",
       "      <td>solicito gentileza informação sobre quantidade...</td>\n",
       "    </tr>\n",
       "  </tbody>\n",
       "</table>\n",
       "</div>"
      ],
      "text/plain": [
       "   Unnamed: 0                                           req_text age  \\\n",
       "0           0   quantos empregados em cada um dos atuais níve...  a2   \n",
       "1           1   solicito cópia das atas do conselho de admini...  a2   \n",
       "2           2   solicito informar a norma lei decreto portari...  a2   \n",
       "3           3   solicito por gentileza a informação sobre a q...  a2   \n",
       "4           4   solicito por gentileza a informação sobre a q...  a2   \n",
       "\n",
       "   age_encoded                                        word_tokens  \\\n",
       "0            1  ['quantos', 'empregados', 'cada', 'atuais', 'n...   \n",
       "1            1  ['solicito', 'cópia', 'atas', 'conselho', 'adm...   \n",
       "2            1  ['solicito', 'informar', 'norma', 'lei', 'decr...   \n",
       "3            1  ['solicito', 'gentileza', 'informação', 'sobre...   \n",
       "4            1  ['solicito', 'gentileza', 'informação', 'sobre...   \n",
       "\n",
       "                                               lemma  \n",
       "0  quanto empregado cada atual nível salarial pca...  \n",
       "1  solicito cópia ata conselho administração bnde...  \n",
       "2  solicito informar norma lei decreto portaria i...  \n",
       "3  solicito gentileza informação sobre quantidade...  \n",
       "4  solicito gentileza informação sobre quantidade...  "
      ]
     },
     "execution_count": 43,
     "metadata": {},
     "output_type": "execute_result"
    }
   ],
   "source": [
    "df_plain = pd.read_csv('../data/enc_tok_nostopword_nopunct_lemm.csv')\n",
    "df_plain.head()"
   ]
  },
  {
   "cell_type": "code",
   "execution_count": 44,
   "metadata": {},
   "outputs": [],
   "source": [
    "import tensorflow as tf\n",
    "from transformers import BertTokenizer, TFBertModel\n",
    "from tensorflow.keras.preprocessing.text import Tokenizer\n",
    "from tensorflow.keras.preprocessing.sequence import pad_sequences\n",
    "from sklearn.model_selection import train_test_split\n",
    "from sklearn.preprocessing import LabelEncoder\n",
    "import numpy as np\n",
    "\n"
   ]
  },
  {
   "cell_type": "code",
   "execution_count": 45,
   "metadata": {},
   "outputs": [],
   "source": [
    "import  torch\n",
    "from  transformers  import  AutoModel\n",
    "\n",
    "model = AutoModel.from_pretrained('rufimelo/Legal-BERTimbau-large-TSDAE')"
   ]
  },
  {
   "cell_type": "code",
   "execution_count": 46,
   "metadata": {},
   "outputs": [],
   "source": [
    "from  transformers  import  AutoTokenizer, AutoModelForMaskedLM"
   ]
  },
  {
   "cell_type": "code",
   "execution_count": 47,
   "metadata": {},
   "outputs": [],
   "source": [
    "tokenizer = AutoTokenizer.from_pretrained(\"rufimelo/Legal-BERTimbau-large-TSDAE-v3\")"
   ]
  },
  {
   "cell_type": "code",
   "execution_count": 48,
   "metadata": {},
   "outputs": [],
   "source": [
    "def get_bert_embeddings(text):\n",
    "    input_ids = tokenizer.encode(text, return_tensors='pt', truncation=True, padding=True, max_length=512, add_special_tokens = True)\n",
    "    with  torch.no_grad():\n",
    "        outs = model(input_ids)\n",
    "        encoded = outs[0][0, 1:-1]\n",
    "    "
   ]
  },
  {
   "cell_type": "code",
   "execution_count": 49,
   "metadata": {},
   "outputs": [],
   "source": [
    "embeddings = []\n",
    "for text in df_plain['lemma']:\n",
    "    embeddings.append(get_bert_embeddings(text))"
   ]
  },
  {
   "cell_type": "code",
   "execution_count": 1,
   "metadata": {},
   "outputs": [
    {
     "ename": "NameError",
     "evalue": "name 'TFBertModel' is not defined",
     "output_type": "error",
     "traceback": [
      "\u001b[0;31m---------------------------------------------------------------------------\u001b[0m",
      "\u001b[0;31mNameError\u001b[0m                                 Traceback (most recent call last)",
      "Cell \u001b[0;32mIn[1], line 2\u001b[0m\n\u001b[1;32m      1\u001b[0m \u001b[38;5;66;03m# Obtenha embeddings BERTimbau\u001b[39;00m\n\u001b[0;32m----> 2\u001b[0m bert_model \u001b[38;5;241m=\u001b[39m TFBertModel\u001b[38;5;241m.\u001b[39mfrom_pretrained(\u001b[38;5;124m\"\u001b[39m\u001b[38;5;124mneuralmind/bert-base-portuguese-cased\u001b[39m\u001b[38;5;124m\"\u001b[39m)\n\u001b[1;32m      3\u001b[0m tokenized_inputs \u001b[38;5;241m=\u001b[39m tokenizer(df_plain[\u001b[38;5;124m'\u001b[39m\u001b[38;5;124mlemma\u001b[39m\u001b[38;5;124m'\u001b[39m]\u001b[38;5;241m.\u001b[39mtolist(), return_tensors\u001b[38;5;241m=\u001b[39m\u001b[38;5;124m\"\u001b[39m\u001b[38;5;124mtf\u001b[39m\u001b[38;5;124m\"\u001b[39m, padding\u001b[38;5;241m=\u001b[39m\u001b[38;5;28;01mTrue\u001b[39;00m, truncation\u001b[38;5;241m=\u001b[39m\u001b[38;5;28;01mTrue\u001b[39;00m, max_length\u001b[38;5;241m=\u001b[39m\u001b[38;5;241m512\u001b[39m)\n\u001b[1;32m      4\u001b[0m bert_outputs \u001b[38;5;241m=\u001b[39m bert_model(tokenized_inputs)\n",
      "\u001b[0;31mNameError\u001b[0m: name 'TFBertModel' is not defined"
     ]
    }
   ],
   "source": [
    "# Obtenha embeddings BERTimbau\n",
    "bert_model = TFBertModel.from_pretrained(\"neuralmind/bert-base-portuguese-cased\")\n",
    "tokenized_inputs = tokenizer(df_plain['lemma'].tolist(), return_tensors=\"tf\", padding=True, truncation=True, max_length=512)\n",
    "bert_outputs = bert_model(tokenized_inputs)\n",
    "embeddings = bert_outputs['last_hidden_state']"
   ]
  },
  {
   "cell_type": "code",
   "execution_count": null,
   "metadata": {},
   "outputs": [],
   "source": [
    "\n",
    "# Converta as classes para números usando LabelEncoder\n",
    "label_encoder = LabelEncoder()\n",
    "labels = label_encoder.fit_transform(df_plain['age'])\n",
    "\n"
   ]
  },
  {
   "cell_type": "code",
   "execution_count": null,
   "metadata": {},
   "outputs": [],
   "source": [
    "# Divida os dados em treino e teste\n",
    "X_train, X_test, y_train, y_test = train_test_split(embeddings.numpy(), labels, test_size=0.2, random_state=42)\n",
    "\n"
   ]
  },
  {
   "cell_type": "markdown",
   "metadata": {},
   "source": [
    "##"
   ]
  },
  {
   "cell_type": "code",
   "execution_count": null,
   "metadata": {},
   "outputs": [],
   "source": [
    "# Modele a LSTM\n",
    "model = tf.keras.Sequential([\n",
    "    tf.keras.layers.LSTM(64),\n",
    "    tf.keras.layers.Dense(32, activation='relu'),\n",
    "    tf.keras.layers.Dense(4, activation='softmax')\n",
    "])\n",
    "\n",
    "# Compile o modelo\n",
    "model.compile(optimizer='adam', loss='sparse_categorical_crossentropy', metrics=['accuracy'])\n",
    "\n"
   ]
  },
  {
   "cell_type": "code",
   "execution_count": null,
   "metadata": {},
   "outputs": [],
   "source": [
    "# Treine o modelo\n",
    "model.fit(X_train, y_train, epochs=10, validation_data=(X_test, y_test))\n",
    "\n",
    "# Avalie o modelo\n",
    "loss, accuracy = model.evaluate(X_test, y_test)\n",
    "print(f'Acurácia do modelo: {accuracy}')"
   ]
  }
 ],
 "metadata": {
  "kernelspec": {
   "display_name": "base",
   "language": "python",
   "name": "python3"
  },
  "language_info": {
   "codemirror_mode": {
    "name": "ipython",
    "version": 3
   },
   "file_extension": ".py",
   "mimetype": "text/x-python",
   "name": "python",
   "nbconvert_exporter": "python",
   "pygments_lexer": "ipython3",
   "version": "3.11.5"
  }
 },
 "nbformat": 4,
 "nbformat_minor": 2
}
