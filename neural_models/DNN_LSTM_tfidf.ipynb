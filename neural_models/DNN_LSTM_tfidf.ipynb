{
 "cells": [
  {
   "cell_type": "markdown",
   "metadata": {},
   "source": [
    "## LSTM com Tfidf"
   ]
  },
  {
   "cell_type": "code",
   "execution_count": 1,
   "metadata": {},
   "outputs": [],
   "source": [
    "import numpy as np\n",
    "import pandas as pd\n",
    "from scipy.sparse import load_npz"
   ]
  },
  {
   "cell_type": "code",
   "execution_count": 2,
   "metadata": {},
   "outputs": [],
   "source": [
    "X_train = load_npz('../vectors/tfidf_lemma/X_train_tfidf.npz')\n",
    "y_train = np.load('../vectors/tfidf_lemma/y_train.npy')\n",
    "\n",
    "X_test = load_npz('../vectors/tfidf_lemma/X_test_tfidf.npz')\n",
    "y_test = np.load('../vectors/tfidf_lemma/y_test.npy')"
   ]
  },
  {
   "cell_type": "code",
   "execution_count": 3,
   "metadata": {},
   "outputs": [
    {
     "data": {
      "text/plain": [
       "(6560, 5000)"
      ]
     },
     "execution_count": 3,
     "metadata": {},
     "output_type": "execute_result"
    }
   ],
   "source": [
    "X_train.shape"
   ]
  },
  {
   "cell_type": "markdown",
   "metadata": {},
   "source": [
    "### Model DNN"
   ]
  },
  {
   "cell_type": "code",
   "execution_count": 3,
   "metadata": {},
   "outputs": [
    {
     "name": "stderr",
     "output_type": "stream",
     "text": [
      "2023-12-17 13:31:44.954990: I tensorflow/tsl/cuda/cudart_stub.cc:28] Could not find cuda drivers on your machine, GPU will not be used.\n",
      "2023-12-17 13:31:45.005898: E tensorflow/compiler/xla/stream_executor/cuda/cuda_dnn.cc:9342] Unable to register cuDNN factory: Attempting to register factory for plugin cuDNN when one has already been registered\n",
      "2023-12-17 13:31:45.005955: E tensorflow/compiler/xla/stream_executor/cuda/cuda_fft.cc:609] Unable to register cuFFT factory: Attempting to register factory for plugin cuFFT when one has already been registered\n",
      "2023-12-17 13:31:45.005989: E tensorflow/compiler/xla/stream_executor/cuda/cuda_blas.cc:1518] Unable to register cuBLAS factory: Attempting to register factory for plugin cuBLAS when one has already been registered\n",
      "2023-12-17 13:31:45.013802: I tensorflow/tsl/cuda/cudart_stub.cc:28] Could not find cuda drivers on your machine, GPU will not be used.\n",
      "2023-12-17 13:31:45.014399: I tensorflow/core/platform/cpu_feature_guard.cc:182] This TensorFlow binary is optimized to use available CPU instructions in performance-critical operations.\n",
      "To enable the following instructions: AVX2 FMA, in other operations, rebuild TensorFlow with the appropriate compiler flags.\n",
      "2023-12-17 13:31:46.082446: W tensorflow/compiler/tf2tensorrt/utils/py_utils.cc:38] TF-TRT Warning: Could not find TensorRT\n"
     ]
    }
   ],
   "source": [
    "import tensorflow as tf\n",
    "from tensorflow.keras import Sequential\n",
    "from tensorflow.keras.layers import Dense, Flatten, Reshape\n",
    "from tensorflow.keras import layers, models\n"
   ]
  },
  {
   "cell_type": "code",
   "execution_count": 4,
   "metadata": {},
   "outputs": [],
   "source": [
    "from scipy.sparse import csr_matrix"
   ]
  },
  {
   "cell_type": "code",
   "execution_count": 5,
   "metadata": {},
   "outputs": [
    {
     "name": "stderr",
     "output_type": "stream",
     "text": [
      "2023-12-17 13:31:59.479798: W tensorflow/tsl/framework/cpu_allocator_impl.cc:83] Allocation of 262400000 exceeds 10% of free system memory.\n"
     ]
    }
   ],
   "source": [
    "dense_matrix = X_train.todense()\n",
    "X_train_tensor = tf.constant(dense_matrix)\n",
    "\n",
    "dm = X_test.todense()\n",
    "X_test_tensor = tf.constant(dm)"
   ]
  },
  {
   "cell_type": "code",
   "execution_count": 6,
   "metadata": {},
   "outputs": [],
   "source": [
    "y_train = pd.get_dummies(y_train)\n",
    "y_test = pd.get_dummies(y_test)"
   ]
  },
  {
   "cell_type": "code",
   "execution_count": 8,
   "metadata": {},
   "outputs": [
    {
     "name": "stdout",
     "output_type": "stream",
     "text": [
      "Model: \"sequential\"\n",
      "_________________________________________________________________\n",
      " Layer (type)                Output Shape              Param #   \n",
      "=================================================================\n",
      " dense (Dense)               (None, 512)               2560512   \n",
      "                                                                 \n",
      " dropout (Dropout)           (None, 512)               0         \n",
      "                                                                 \n",
      " dense_1 (Dense)             (None, 126)               64638     \n",
      "                                                                 \n",
      " dense_2 (Dense)             (None, 4)                 508       \n",
      "                                                                 \n",
      "=================================================================\n",
      "Total params: 2625658 (10.02 MB)\n",
      "Trainable params: 2625658 (10.02 MB)\n",
      "Non-trainable params: 0 (0.00 Byte)\n",
      "_________________________________________________________________\n"
     ]
    }
   ],
   "source": [
    "model = models.Sequential()\n",
    "\n",
    "model.add(layers.Dense(512, activation='relu', input_shape=(5000,)))\n",
    "model.add(layers.Dropout(0.8))\n",
    "model.add(layers.Dense(126, activation='relu'))\n",
    "model.add(layers.Dense(4, activation='softmax'))\n",
    "\n",
    "model.compile(optimizer='adam', loss='categorical_crossentropy', metrics=['accuracy'])\n",
    "\n",
    "\n",
    "model.summary()\n"
   ]
  },
  {
   "cell_type": "code",
   "execution_count": 9,
   "metadata": {},
   "outputs": [
    {
     "name": "stdout",
     "output_type": "stream",
     "text": [
      "Epoch 1/10\n",
      "205/205 [==============================] - 7s 30ms/step - loss: 1.2823 - accuracy: 0.3931 - val_loss: 1.1880 - val_accuracy: 0.4537\n",
      "Epoch 2/10\n",
      "205/205 [==============================] - 6s 30ms/step - loss: 1.0786 - accuracy: 0.5230 - val_loss: 1.1445 - val_accuracy: 0.4780\n",
      "Epoch 3/10\n",
      "205/205 [==============================] - 6s 29ms/step - loss: 0.8711 - accuracy: 0.6349 - val_loss: 1.1845 - val_accuracy: 0.4902\n",
      "Epoch 4/10\n",
      "205/205 [==============================] - 6s 30ms/step - loss: 0.6779 - accuracy: 0.7416 - val_loss: 1.2723 - val_accuracy: 0.4780\n",
      "Epoch 5/10\n",
      "205/205 [==============================] - 6s 30ms/step - loss: 0.5413 - accuracy: 0.7966 - val_loss: 1.3097 - val_accuracy: 0.4835\n",
      "Epoch 6/10\n",
      "205/205 [==============================] - 6s 29ms/step - loss: 0.3971 - accuracy: 0.8596 - val_loss: 1.4454 - val_accuracy: 0.4713\n",
      "Epoch 7/10\n",
      "205/205 [==============================] - 6s 30ms/step - loss: 0.3248 - accuracy: 0.8816 - val_loss: 1.5207 - val_accuracy: 0.4817\n",
      "Epoch 8/10\n",
      "205/205 [==============================] - 6s 30ms/step - loss: 0.2540 - accuracy: 0.9143 - val_loss: 1.6388 - val_accuracy: 0.4866\n",
      "Epoch 9/10\n",
      "205/205 [==============================] - 6s 30ms/step - loss: 0.2048 - accuracy: 0.9271 - val_loss: 1.7161 - val_accuracy: 0.4890\n",
      "Epoch 10/10\n",
      "205/205 [==============================] - 6s 30ms/step - loss: 0.1818 - accuracy: 0.9390 - val_loss: 1.8244 - val_accuracy: 0.4805\n"
     ]
    },
    {
     "data": {
      "text/plain": [
       "<keras.src.callbacks.History at 0x7f75765c3bd0>"
      ]
     },
     "execution_count": 9,
     "metadata": {},
     "output_type": "execute_result"
    }
   ],
   "source": [
    "model.fit(X_train_tensor, y_train, epochs=10, validation_data=(X_test_tensor, y_test))"
   ]
  },
  {
   "cell_type": "markdown",
   "metadata": {},
   "source": [
    "### Model LSTM"
   ]
  },
  {
   "cell_type": "code",
   "execution_count": 7,
   "metadata": {},
   "outputs": [],
   "source": [
    "\n",
    "from tensorflow.keras.callbacks import EarlyStopping\n",
    "from tensorflow.keras.layers import LSTM"
   ]
  },
  {
   "cell_type": "code",
   "execution_count": 8,
   "metadata": {},
   "outputs": [],
   "source": [
    "max_features = 700\n",
    "embed_dim = 32\n",
    "batch_size = 32\n",
    "early_stopping = EarlyStopping(monitor='val_loss', patience= 3)"
   ]
  },
  {
   "cell_type": "code",
   "execution_count": 9,
   "metadata": {},
   "outputs": [],
   "source": [
    "xlstm = []\n",
    "for text in X_train_tensor:\n",
    "    ar = np.array(text)\n",
    "    xlstm.append(ar)\n",
    "\n",
    "X_train_lstm = pd.DataFrame(xlstm)"
   ]
  },
  {
   "cell_type": "code",
   "execution_count": 10,
   "metadata": {},
   "outputs": [],
   "source": [
    "xtlstm = []\n",
    "for text in X_test_tensor:\n",
    "    ar = np.array(text)\n",
    "    xtlstm.append(ar)\n",
    "\n",
    "X_test_lstm = pd.DataFrame(xtlstm)"
   ]
  },
  {
   "cell_type": "code",
   "execution_count": 16,
   "metadata": {},
   "outputs": [],
   "source": [
    "model = Sequential([\n",
    "    layers.Embedding(max_features, embed_dim, input_length= X_train_lstm.shape[1]),\n",
    "    layers.Conv1D(filters=32, kernel_size=3, padding='same', activation= 'relu'),\n",
    "    layers.MaxPooling1D(pool_size=500),\n",
    "    layers.LSTM(64, dropout=0.4, recurrent_dropout=0.2),\n",
    "    layers.Dense(64, activation='relu'),\n",
    "    layers.Dense(4, activation='softmax')\n",
    "])\n",
    "\n",
    "model.compile(loss='binary_crossentropy', optimizer='adam', metrics=['accuracy'])"
   ]
  },
  {
   "cell_type": "code",
   "execution_count": 17,
   "metadata": {},
   "outputs": [
    {
     "name": "stdout",
     "output_type": "stream",
     "text": [
      "Model: \"sequential_3\"\n",
      "_________________________________________________________________\n",
      " Layer (type)                Output Shape              Param #   \n",
      "=================================================================\n",
      " embedding_3 (Embedding)     (None, 5000, 32)          22400     \n",
      "                                                                 \n",
      " conv1d_1 (Conv1D)           (None, 5000, 32)          3104      \n",
      "                                                                 \n",
      " max_pooling1d_1 (MaxPoolin  (None, 10, 32)            0         \n",
      " g1D)                                                            \n",
      "                                                                 \n",
      " lstm_3 (LSTM)               (None, 64)                24832     \n",
      "                                                                 \n",
      " dense_6 (Dense)             (None, 64)                4160      \n",
      "                                                                 \n",
      " dense_7 (Dense)             (None, 4)                 260       \n",
      "                                                                 \n",
      "=================================================================\n",
      "Total params: 54756 (213.89 KB)\n",
      "Trainable params: 54756 (213.89 KB)\n",
      "Non-trainable params: 0 (0.00 Byte)\n",
      "_________________________________________________________________\n"
     ]
    }
   ],
   "source": [
    "model.summary()"
   ]
  },
  {
   "cell_type": "code",
   "execution_count": 18,
   "metadata": {},
   "outputs": [
    {
     "name": "stdout",
     "output_type": "stream",
     "text": [
      "Epoch 1/4\n"
     ]
    },
    {
     "name": "stderr",
     "output_type": "stream",
     "text": [
      "2023-12-17 14:39:08.730648: W tensorflow/tsl/framework/cpu_allocator_impl.cc:83] Allocation of 262400000 exceeds 10% of free system memory.\n"
     ]
    },
    {
     "name": "stdout",
     "output_type": "stream",
     "text": [
      "205/205 [==============================] - 14s 59ms/step - loss: 0.5564 - accuracy: 0.3587 - val_loss: 0.5479 - val_accuracy: 0.3659\n",
      "Epoch 2/4\n",
      "205/205 [==============================] - 12s 58ms/step - loss: 0.5471 - accuracy: 0.3659 - val_loss: 0.5489 - val_accuracy: 0.3659\n",
      "Epoch 3/4\n",
      "205/205 [==============================] - 15s 74ms/step - loss: 0.5472 - accuracy: 0.3659 - val_loss: 0.5462 - val_accuracy: 0.3659\n",
      "Epoch 4/4\n",
      "205/205 [==============================] - 15s 74ms/step - loss: 0.5467 - accuracy: 0.3659 - val_loss: 0.5469 - val_accuracy: 0.3659\n"
     ]
    }
   ],
   "source": [
    "history = model.fit(X_train_lstm, y_train, epochs=4, validation_data=(X_test_lstm, y_test))"
   ]
  },
  {
   "cell_type": "code",
   "execution_count": 12,
   "metadata": {},
   "outputs": [
    {
     "name": "stdout",
     "output_type": "stream",
     "text": [
      "Model: \"sequential_1\"\n",
      "_________________________________________________________________\n",
      " Layer (type)                Output Shape              Param #   \n",
      "=================================================================\n",
      " embedding_1 (Embedding)     (None, 5000, 32)          22400     \n",
      "                                                                 \n",
      " lstm_1 (LSTM)               (None, 64)                24832     \n",
      "                                                                 \n",
      " dense_2 (Dense)             (None, 32)                2080      \n",
      "                                                                 \n",
      " dense_3 (Dense)             (None, 4)                 132       \n",
      "                                                                 \n",
      "=================================================================\n",
      "Total params: 49444 (193.14 KB)\n",
      "Trainable params: 49444 (193.14 KB)\n",
      "Non-trainable params: 0 (0.00 Byte)\n",
      "_________________________________________________________________\n"
     ]
    }
   ],
   "source": [
    "model2 = Sequential([\n",
    "    layers.Embedding(max_features, embed_dim, input_length= X_train_lstm.shape[1]),\n",
    "    #layers.Conv1D(filters=32, kernel_size=3, padding='same', activation= 'relu'),\n",
    "    #layers.MaxPooling1D(pool_size=2),\n",
    "    layers.LSTM(64, dropout=0.4, recurrent_dropout=0.2),\n",
    "    layers.Dense(32, activation='relu'),\n",
    "    layers.Dense(4, activation='softmax')\n",
    "])\n",
    "\n",
    "model2.compile(loss='binary_crossentropy', optimizer='adam', metrics=['accuracy'])\n",
    "\n",
    "model2.summary()"
   ]
  },
  {
   "cell_type": "code",
   "execution_count": 13,
   "metadata": {},
   "outputs": [
    {
     "name": "stdout",
     "output_type": "stream",
     "text": [
      "Epoch 1/5\n"
     ]
    },
    {
     "name": "stderr",
     "output_type": "stream",
     "text": [
      "2023-12-17 13:33:05.591611: W tensorflow/tsl/framework/cpu_allocator_impl.cc:83] Allocation of 262400000 exceeds 10% of free system memory.\n"
     ]
    },
    {
     "name": "stdout",
     "output_type": "stream",
     "text": [
      "205/205 [==============================] - 779s 4s/step - loss: 0.5575 - accuracy: 0.3582 - val_loss: 0.5472 - val_accuracy: 0.3659\n",
      "Epoch 2/5\n",
      "205/205 [==============================] - 790s 4s/step - loss: 0.5472 - accuracy: 0.3659 - val_loss: 0.5468 - val_accuracy: 0.3659\n",
      "Epoch 3/5\n",
      "205/205 [==============================] - 779s 4s/step - loss: 0.5472 - accuracy: 0.3659 - val_loss: 0.5463 - val_accuracy: 0.3659\n",
      "Epoch 4/5\n",
      "205/205 [==============================] - 762s 4s/step - loss: 0.5469 - accuracy: 0.3659 - val_loss: 0.5462 - val_accuracy: 0.3659\n",
      "Epoch 5/5\n",
      "205/205 [==============================] - 781s 4s/step - loss: 0.5465 - accuracy: 0.3659 - val_loss: 0.5472 - val_accuracy: 0.3659\n"
     ]
    }
   ],
   "source": [
    "history2 = model2.fit(X_train_lstm, y_train, epochs=5, validation_data=(X_test_lstm, y_test))"
   ]
  }
 ],
 "metadata": {
  "kernelspec": {
   "display_name": "base",
   "language": "python",
   "name": "python3"
  },
  "language_info": {
   "codemirror_mode": {
    "name": "ipython",
    "version": 3
   },
   "file_extension": ".py",
   "mimetype": "text/x-python",
   "name": "python",
   "nbconvert_exporter": "python",
   "pygments_lexer": "ipython3",
   "version": "3.11.5"
  }
 },
 "nbformat": 4,
 "nbformat_minor": 2
}
