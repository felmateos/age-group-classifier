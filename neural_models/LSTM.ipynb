{
 "cells": [
  {
   "cell_type": "markdown",
   "metadata": {},
   "source": [
    "## LTSM"
   ]
  },
  {
   "cell_type": "code",
   "execution_count": 1,
   "metadata": {},
   "outputs": [],
   "source": [
    "import pandas as pd\n",
    "import numpy as np"
   ]
  },
  {
   "cell_type": "code",
   "execution_count": 2,
   "metadata": {},
   "outputs": [
    {
     "data": {
      "text/html": [
       "<div>\n",
       "<style scoped>\n",
       "    .dataframe tbody tr th:only-of-type {\n",
       "        vertical-align: middle;\n",
       "    }\n",
       "\n",
       "    .dataframe tbody tr th {\n",
       "        vertical-align: top;\n",
       "    }\n",
       "\n",
       "    .dataframe thead th {\n",
       "        text-align: right;\n",
       "    }\n",
       "</style>\n",
       "<table border=\"1\" class=\"dataframe\">\n",
       "  <thead>\n",
       "    <tr style=\"text-align: right;\">\n",
       "      <th></th>\n",
       "      <th>age</th>\n",
       "      <th>age_encoded</th>\n",
       "      <th>word_tokens</th>\n",
       "      <th>lemma</th>\n",
       "      <th>0</th>\n",
       "      <th>1</th>\n",
       "      <th>2</th>\n",
       "      <th>3</th>\n",
       "      <th>4</th>\n",
       "      <th>5</th>\n",
       "      <th>...</th>\n",
       "      <th>758</th>\n",
       "      <th>759</th>\n",
       "      <th>760</th>\n",
       "      <th>761</th>\n",
       "      <th>762</th>\n",
       "      <th>763</th>\n",
       "      <th>764</th>\n",
       "      <th>765</th>\n",
       "      <th>766</th>\n",
       "      <th>767</th>\n",
       "    </tr>\n",
       "  </thead>\n",
       "  <tbody>\n",
       "    <tr>\n",
       "      <th>0</th>\n",
       "      <td>a2</td>\n",
       "      <td>1</td>\n",
       "      <td>['quantos', 'empregados', 'em', 'cada', 'um', ...</td>\n",
       "      <td>quanto empregado em cada um de o atual nível s...</td>\n",
       "      <td>0.564466</td>\n",
       "      <td>0.815525</td>\n",
       "      <td>0.107565</td>\n",
       "      <td>0.319572</td>\n",
       "      <td>0.101842</td>\n",
       "      <td>0.105100</td>\n",
       "      <td>...</td>\n",
       "      <td>0.275671</td>\n",
       "      <td>0.219380</td>\n",
       "      <td>0.934174</td>\n",
       "      <td>0.909270</td>\n",
       "      <td>0.090046</td>\n",
       "      <td>0.897559</td>\n",
       "      <td>0.590714</td>\n",
       "      <td>0.291341</td>\n",
       "      <td>0.416531</td>\n",
       "      <td>0.900556</td>\n",
       "    </tr>\n",
       "    <tr>\n",
       "      <th>1</th>\n",
       "      <td>a2</td>\n",
       "      <td>1</td>\n",
       "      <td>['solicito', 'cópia', 'das', 'atas', 'do', 'co...</td>\n",
       "      <td>solicito cópia de o ata de o conselho de admin...</td>\n",
       "      <td>0.520970</td>\n",
       "      <td>0.815053</td>\n",
       "      <td>0.120955</td>\n",
       "      <td>0.300525</td>\n",
       "      <td>0.079995</td>\n",
       "      <td>0.149684</td>\n",
       "      <td>...</td>\n",
       "      <td>0.282352</td>\n",
       "      <td>0.235483</td>\n",
       "      <td>0.916027</td>\n",
       "      <td>0.947861</td>\n",
       "      <td>0.102334</td>\n",
       "      <td>0.876205</td>\n",
       "      <td>0.603263</td>\n",
       "      <td>0.254797</td>\n",
       "      <td>0.394609</td>\n",
       "      <td>0.841805</td>\n",
       "    </tr>\n",
       "    <tr>\n",
       "      <th>2</th>\n",
       "      <td>a2</td>\n",
       "      <td>1</td>\n",
       "      <td>['solicito', 'informar', 'a', 'norma', 'lei', ...</td>\n",
       "      <td>solicito informar o norma lei decreto portaria...</td>\n",
       "      <td>0.535018</td>\n",
       "      <td>0.845178</td>\n",
       "      <td>0.106620</td>\n",
       "      <td>0.330766</td>\n",
       "      <td>0.061033</td>\n",
       "      <td>0.094648</td>\n",
       "      <td>...</td>\n",
       "      <td>0.288288</td>\n",
       "      <td>0.232071</td>\n",
       "      <td>0.927528</td>\n",
       "      <td>0.953746</td>\n",
       "      <td>0.102037</td>\n",
       "      <td>0.927873</td>\n",
       "      <td>0.533769</td>\n",
       "      <td>0.266102</td>\n",
       "      <td>0.429789</td>\n",
       "      <td>0.895740</td>\n",
       "    </tr>\n",
       "    <tr>\n",
       "      <th>3</th>\n",
       "      <td>a2</td>\n",
       "      <td>1</td>\n",
       "      <td>['solicito', 'por', 'gentileza', 'a', 'informa...</td>\n",
       "      <td>solicito por gentileza o informação sobre o qu...</td>\n",
       "      <td>0.548547</td>\n",
       "      <td>0.784378</td>\n",
       "      <td>0.057764</td>\n",
       "      <td>0.275971</td>\n",
       "      <td>0.123137</td>\n",
       "      <td>0.096042</td>\n",
       "      <td>...</td>\n",
       "      <td>0.306542</td>\n",
       "      <td>0.244469</td>\n",
       "      <td>0.954206</td>\n",
       "      <td>0.941051</td>\n",
       "      <td>0.075034</td>\n",
       "      <td>0.899374</td>\n",
       "      <td>0.585249</td>\n",
       "      <td>0.279545</td>\n",
       "      <td>0.380809</td>\n",
       "      <td>0.939743</td>\n",
       "    </tr>\n",
       "    <tr>\n",
       "      <th>4</th>\n",
       "      <td>a2</td>\n",
       "      <td>1</td>\n",
       "      <td>['solicito', 'por', 'gentileza', 'a', 'informa...</td>\n",
       "      <td>solicito por gentileza o informação sobre o qu...</td>\n",
       "      <td>0.559063</td>\n",
       "      <td>0.799921</td>\n",
       "      <td>0.060454</td>\n",
       "      <td>0.274691</td>\n",
       "      <td>0.135161</td>\n",
       "      <td>0.079634</td>\n",
       "      <td>...</td>\n",
       "      <td>0.304113</td>\n",
       "      <td>0.247853</td>\n",
       "      <td>0.955085</td>\n",
       "      <td>0.938762</td>\n",
       "      <td>0.081348</td>\n",
       "      <td>0.894296</td>\n",
       "      <td>0.595016</td>\n",
       "      <td>0.278718</td>\n",
       "      <td>0.383074</td>\n",
       "      <td>0.934677</td>\n",
       "    </tr>\n",
       "  </tbody>\n",
       "</table>\n",
       "<p>5 rows × 772 columns</p>\n",
       "</div>"
      ],
      "text/plain": [
       "  age  age_encoded                                        word_tokens  \\\n",
       "0  a2            1  ['quantos', 'empregados', 'em', 'cada', 'um', ...   \n",
       "1  a2            1  ['solicito', 'cópia', 'das', 'atas', 'do', 'co...   \n",
       "2  a2            1  ['solicito', 'informar', 'a', 'norma', 'lei', ...   \n",
       "3  a2            1  ['solicito', 'por', 'gentileza', 'a', 'informa...   \n",
       "4  a2            1  ['solicito', 'por', 'gentileza', 'a', 'informa...   \n",
       "\n",
       "                                               lemma         0         1  \\\n",
       "0  quanto empregado em cada um de o atual nível s...  0.564466  0.815525   \n",
       "1  solicito cópia de o ata de o conselho de admin...  0.520970  0.815053   \n",
       "2  solicito informar o norma lei decreto portaria...  0.535018  0.845178   \n",
       "3  solicito por gentileza o informação sobre o qu...  0.548547  0.784378   \n",
       "4  solicito por gentileza o informação sobre o qu...  0.559063  0.799921   \n",
       "\n",
       "          2         3         4         5  ...       758       759       760  \\\n",
       "0  0.107565  0.319572  0.101842  0.105100  ...  0.275671  0.219380  0.934174   \n",
       "1  0.120955  0.300525  0.079995  0.149684  ...  0.282352  0.235483  0.916027   \n",
       "2  0.106620  0.330766  0.061033  0.094648  ...  0.288288  0.232071  0.927528   \n",
       "3  0.057764  0.275971  0.123137  0.096042  ...  0.306542  0.244469  0.954206   \n",
       "4  0.060454  0.274691  0.135161  0.079634  ...  0.304113  0.247853  0.955085   \n",
       "\n",
       "        761       762       763       764       765       766       767  \n",
       "0  0.909270  0.090046  0.897559  0.590714  0.291341  0.416531  0.900556  \n",
       "1  0.947861  0.102334  0.876205  0.603263  0.254797  0.394609  0.841805  \n",
       "2  0.953746  0.102037  0.927873  0.533769  0.266102  0.429789  0.895740  \n",
       "3  0.941051  0.075034  0.899374  0.585249  0.279545  0.380809  0.939743  \n",
       "4  0.938762  0.081348  0.894296  0.595016  0.278718  0.383074  0.934677  \n",
       "\n",
       "[5 rows x 772 columns]"
      ]
     },
     "execution_count": 2,
     "metadata": {},
     "output_type": "execute_result"
    }
   ],
   "source": [
    "df = pd.read_csv('../embeddings/BERT_Embeddings_full.csv')\n",
    "df.head()"
   ]
  },
  {
   "cell_type": "code",
   "execution_count": 3,
   "metadata": {},
   "outputs": [
    {
     "data": {
      "text/plain": [
       "age\n",
       "a1    1200\n",
       "a2    2000\n",
       "a3    3000\n",
       "a4    2000\n",
       "Name: age_encoded, dtype: int64"
      ]
     },
     "execution_count": 3,
     "metadata": {},
     "output_type": "execute_result"
    }
   ],
   "source": [
    "df.groupby('age')['age_encoded'].count()"
   ]
  },
  {
   "cell_type": "code",
   "execution_count": 4,
   "metadata": {},
   "outputs": [],
   "source": [
    "df_label = pd.get_dummies(df['age'])\n",
    "df_text = df.drop(['word_tokens', 'lemma', 'age', 'age_encoded'], axis = 1)"
   ]
  },
  {
   "cell_type": "code",
   "execution_count": 5,
   "metadata": {},
   "outputs": [],
   "source": [
    "#df.groupby('age_encoded').describe()"
   ]
  },
  {
   "cell_type": "markdown",
   "metadata": {},
   "source": [
    "## Model"
   ]
  },
  {
   "cell_type": "code",
   "execution_count": 9,
   "metadata": {},
   "outputs": [],
   "source": [
    "import tensorflow as tf\n",
    "#from tensorflow import keras\n",
    "from tensorflow.keras import Sequential\n",
    "from tensorflow.keras import layers\n",
    "from tensorflow.keras.preprocessing.sequence import pad_sequences\n",
    "from keras.preprocessing.text import Tokenizer\n",
    "from tensorflow.keras.callbacks import EarlyStopping\n",
    "from tensorflow.keras.layers import LSTM, Dense\n",
    "from tensorflow.keras.optimizers import Adam"
   ]
  },
  {
   "cell_type": "code",
   "execution_count": 10,
   "metadata": {},
   "outputs": [],
   "source": [
    "max_features = 700\n",
    "embed_dim = 32"
   ]
  },
  {
   "cell_type": "code",
   "execution_count": 11,
   "metadata": {},
   "outputs": [],
   "source": [
    "batch_size = 32\n",
    "early_stopping = EarlyStopping(monitor='val_loss', patience= 3)"
   ]
  },
  {
   "cell_type": "code",
   "execution_count": 12,
   "metadata": {},
   "outputs": [],
   "source": [
    "def modelLSTMPos(df_shape):\n",
    "    \n",
    "    model = Sequential([\n",
    "        layers.Embedding(max_features, embed_dim, input_length= df_shape.shape[1]),\n",
    "        layers.Conv1D(filters=32, kernel_size=3, padding='same', activation= 'relu'),\n",
    "        layers.MaxPooling1D(pool_size=2),\n",
    "        layers.LSTM(64, dropout=0.4, recurrent_dropout=0.2),\n",
    "        layers.Dense(64, activation='relu'),\n",
    "        layers.Dense(4, activation='softmax')\n",
    "    ])\n",
    "\n",
    "    #optimizer = Adam(learning_rate=3e-4)\n",
    "    model.compile(loss='binary_crossentropy', optimizer='adam', metrics=['accuracy'])\n",
    "\n",
    "    return model"
   ]
  },
  {
   "cell_type": "code",
   "execution_count": 13,
   "metadata": {},
   "outputs": [],
   "source": [
    "model = modelLSTMPos(df)"
   ]
  },
  {
   "cell_type": "code",
   "execution_count": 14,
   "metadata": {},
   "outputs": [
    {
     "name": "stdout",
     "output_type": "stream",
     "text": [
      "Model: \"sequential\"\n",
      "_________________________________________________________________\n",
      " Layer (type)                Output Shape              Param #   \n",
      "=================================================================\n",
      " embedding (Embedding)       (None, 772, 32)           22400     \n",
      "                                                                 \n",
      " conv1d (Conv1D)             (None, 772, 32)           3104      \n",
      "                                                                 \n",
      " max_pooling1d (MaxPooling1  (None, 386, 32)           0         \n",
      " D)                                                              \n",
      "                                                                 \n",
      " lstm (LSTM)                 (None, 64)                24832     \n",
      "                                                                 \n",
      " dense (Dense)               (None, 64)                4160      \n",
      "                                                                 \n",
      " dense_1 (Dense)             (None, 4)                 260       \n",
      "                                                                 \n",
      "=================================================================\n",
      "Total params: 54756 (213.89 KB)\n",
      "Trainable params: 54756 (213.89 KB)\n",
      "Non-trainable params: 0 (0.00 Byte)\n",
      "_________________________________________________________________\n"
     ]
    }
   ],
   "source": [
    "model.summary()"
   ]
  },
  {
   "cell_type": "markdown",
   "metadata": {},
   "source": [
    "### BERT - Train, Test split"
   ]
  },
  {
   "cell_type": "code",
   "execution_count": 6,
   "metadata": {},
   "outputs": [
    {
     "name": "stderr",
     "output_type": "stream",
     "text": [
      "2023-12-14 01:40:39.563540: I tensorflow/tsl/cuda/cudart_stub.cc:28] Could not find cuda drivers on your machine, GPU will not be used.\n",
      "2023-12-14 01:40:39.749322: E tensorflow/compiler/xla/stream_executor/cuda/cuda_dnn.cc:9342] Unable to register cuDNN factory: Attempting to register factory for plugin cuDNN when one has already been registered\n",
      "2023-12-14 01:40:39.749347: E tensorflow/compiler/xla/stream_executor/cuda/cuda_fft.cc:609] Unable to register cuFFT factory: Attempting to register factory for plugin cuFFT when one has already been registered\n",
      "2023-12-14 01:40:39.750428: E tensorflow/compiler/xla/stream_executor/cuda/cuda_blas.cc:1518] Unable to register cuBLAS factory: Attempting to register factory for plugin cuBLAS when one has already been registered\n",
      "2023-12-14 01:40:39.865479: I tensorflow/tsl/cuda/cudart_stub.cc:28] Could not find cuda drivers on your machine, GPU will not be used.\n",
      "2023-12-14 01:40:39.866392: I tensorflow/core/platform/cpu_feature_guard.cc:182] This TensorFlow binary is optimized to use available CPU instructions in performance-critical operations.\n",
      "To enable the following instructions: AVX2 FMA, in other operations, rebuild TensorFlow with the appropriate compiler flags.\n",
      "2023-12-14 01:40:40.895799: W tensorflow/compiler/tf2tensorrt/utils/py_utils.cc:38] TF-TRT Warning: Could not find TensorRT\n",
      "WARNING:root:Limited tf.compat.v2.summary API due to missing TensorBoard installation.\n",
      "WARNING:root:Limited tf.compat.v2.summary API due to missing TensorBoard installation.\n",
      "WARNING:root:Limited tf.compat.v2.summary API due to missing TensorBoard installation.\n",
      "WARNING:root:Limited tf.summary API due to missing TensorBoard installation.\n",
      "WARNING:root:Limited tf.compat.v2.summary API due to missing TensorBoard installation.\n",
      "WARNING:root:Limited tf.compat.v2.summary API due to missing TensorBoard installation.\n",
      "WARNING:root:Limited tf.compat.v2.summary API due to missing TensorBoard installation.\n"
     ]
    }
   ],
   "source": [
    "from sklearn.model_selection import train_test_split\n",
    "from sklearn.model_selection import cross_val_score\n",
    "#from tensorflow.keras.wrappers.scikit_learn import KerasClassifier\n",
    "from scikeras.wrappers import KerasClassifier"
   ]
  },
  {
   "cell_type": "code",
   "execution_count": 7,
   "metadata": {},
   "outputs": [],
   "source": [
    "X_train, X_test, y_train, y_test = train_test_split(df_text, df_label, train_size=0.8, random_state=42 )\n",
    "X_train.shape\n"
   ]
  },
  {
   "cell_type": "code",
   "execution_count": 15,
   "metadata": {},
   "outputs": [],
   "source": [
    "model = modelLSTMPos(df_text)"
   ]
  },
  {
   "cell_type": "code",
   "execution_count": 16,
   "metadata": {},
   "outputs": [
    {
     "name": "stdout",
     "output_type": "stream",
     "text": [
      "Epoch 1/10\n",
      "205/205 [==============================] - 33s 153ms/step - loss: 0.5567 - accuracy: 0.3681 - val_loss: 0.5477 - val_accuracy: 0.3549\n",
      "Epoch 2/10\n",
      "205/205 [==============================] - 35s 169ms/step - loss: 0.5468 - accuracy: 0.3660 - val_loss: 0.5488 - val_accuracy: 0.3549\n",
      "Epoch 3/10\n",
      "205/205 [==============================] - 34s 167ms/step - loss: 0.5465 - accuracy: 0.3686 - val_loss: 0.5478 - val_accuracy: 0.3549\n",
      "Epoch 4/10\n",
      "205/205 [==============================] - 42s 203ms/step - loss: 0.5465 - accuracy: 0.3686 - val_loss: 0.5471 - val_accuracy: 0.3549\n",
      "Epoch 5/10\n",
      "205/205 [==============================] - 40s 194ms/step - loss: 0.5465 - accuracy: 0.3686 - val_loss: 0.5488 - val_accuracy: 0.3549\n",
      "Epoch 6/10\n",
      "205/205 [==============================] - 39s 189ms/step - loss: 0.5468 - accuracy: 0.3686 - val_loss: 0.5480 - val_accuracy: 0.3549\n",
      "Epoch 7/10\n",
      "205/205 [==============================] - 39s 189ms/step - loss: 0.5464 - accuracy: 0.3686 - val_loss: 0.5473 - val_accuracy: 0.3549\n",
      "Epoch 8/10\n",
      "205/205 [==============================] - 35s 171ms/step - loss: 0.5467 - accuracy: 0.3686 - val_loss: 0.5481 - val_accuracy: 0.3549\n",
      "Epoch 9/10\n",
      "205/205 [==============================] - 35s 170ms/step - loss: 0.5464 - accuracy: 0.3686 - val_loss: 0.5475 - val_accuracy: 0.3549\n",
      "Epoch 10/10\n",
      "205/205 [==============================] - 35s 170ms/step - loss: 0.5465 - accuracy: 0.3686 - val_loss: 0.5470 - val_accuracy: 0.3549\n"
     ]
    }
   ],
   "source": [
    "history = model.fit(X_train, y_train, epochs=10, validation_data=(X_test, y_test))"
   ]
  },
  {
   "cell_type": "markdown",
   "metadata": {},
   "source": [
    "### BERT - K-fold"
   ]
  },
  {
   "cell_type": "code",
   "execution_count": 17,
   "metadata": {},
   "outputs": [],
   "source": [
    "#from sklearn.model_selection import KFold"
   ]
  },
  {
   "cell_type": "code",
   "execution_count": 18,
   "metadata": {},
   "outputs": [],
   "source": [
    "# clf = KerasClassifier(build_fn=modelLSTMPos(df_text), epochs=10, batch_size=32, verbose=1)\n",
    "# resultPos = cross_val_score(clf, X_train, y_train, scoring='accuracy', cv=10)\n",
    "# print(resultPos)\n",
    "# resultPos.mean()"
   ]
  },
  {
   "cell_type": "markdown",
   "metadata": {},
   "source": [
    "### Plain text - Train, test"
   ]
  },
  {
   "cell_type": "code",
   "execution_count": 19,
   "metadata": {},
   "outputs": [
    {
     "data": {
      "text/html": [
       "<div>\n",
       "<style scoped>\n",
       "    .dataframe tbody tr th:only-of-type {\n",
       "        vertical-align: middle;\n",
       "    }\n",
       "\n",
       "    .dataframe tbody tr th {\n",
       "        vertical-align: top;\n",
       "    }\n",
       "\n",
       "    .dataframe thead th {\n",
       "        text-align: right;\n",
       "    }\n",
       "</style>\n",
       "<table border=\"1\" class=\"dataframe\">\n",
       "  <thead>\n",
       "    <tr style=\"text-align: right;\">\n",
       "      <th></th>\n",
       "      <th>Unnamed: 0</th>\n",
       "      <th>req_text</th>\n",
       "      <th>age</th>\n",
       "      <th>age_encoded</th>\n",
       "      <th>word_tokens</th>\n",
       "      <th>lemma</th>\n",
       "    </tr>\n",
       "  </thead>\n",
       "  <tbody>\n",
       "    <tr>\n",
       "      <th>0</th>\n",
       "      <td>0</td>\n",
       "      <td>quantos empregados em cada um dos atuais níve...</td>\n",
       "      <td>a2</td>\n",
       "      <td>1</td>\n",
       "      <td>['quantos', 'empregados', 'cada', 'atuais', 'n...</td>\n",
       "      <td>quanto empregado cada atual nível salarial pca...</td>\n",
       "    </tr>\n",
       "    <tr>\n",
       "      <th>1</th>\n",
       "      <td>1</td>\n",
       "      <td>solicito cópia das atas do conselho de admini...</td>\n",
       "      <td>a2</td>\n",
       "      <td>1</td>\n",
       "      <td>['solicito', 'cópia', 'atas', 'conselho', 'adm...</td>\n",
       "      <td>solicito cópia ata conselho administração bnde...</td>\n",
       "    </tr>\n",
       "    <tr>\n",
       "      <th>2</th>\n",
       "      <td>2</td>\n",
       "      <td>solicito informar a norma lei decreto portari...</td>\n",
       "      <td>a2</td>\n",
       "      <td>1</td>\n",
       "      <td>['solicito', 'informar', 'norma', 'lei', 'decr...</td>\n",
       "      <td>solicito informar norma lei decreto portaria i...</td>\n",
       "    </tr>\n",
       "    <tr>\n",
       "      <th>3</th>\n",
       "      <td>3</td>\n",
       "      <td>solicito por gentileza a informação sobre a q...</td>\n",
       "      <td>a2</td>\n",
       "      <td>1</td>\n",
       "      <td>['solicito', 'gentileza', 'informação', 'sobre...</td>\n",
       "      <td>solicito gentileza informação sobre quantidade...</td>\n",
       "    </tr>\n",
       "    <tr>\n",
       "      <th>4</th>\n",
       "      <td>4</td>\n",
       "      <td>solicito por gentileza a informação sobre a q...</td>\n",
       "      <td>a2</td>\n",
       "      <td>1</td>\n",
       "      <td>['solicito', 'gentileza', 'informação', 'sobre...</td>\n",
       "      <td>solicito gentileza informação sobre quantidade...</td>\n",
       "    </tr>\n",
       "  </tbody>\n",
       "</table>\n",
       "</div>"
      ],
      "text/plain": [
       "   Unnamed: 0                                           req_text age  \\\n",
       "0           0   quantos empregados em cada um dos atuais níve...  a2   \n",
       "1           1   solicito cópia das atas do conselho de admini...  a2   \n",
       "2           2   solicito informar a norma lei decreto portari...  a2   \n",
       "3           3   solicito por gentileza a informação sobre a q...  a2   \n",
       "4           4   solicito por gentileza a informação sobre a q...  a2   \n",
       "\n",
       "   age_encoded                                        word_tokens  \\\n",
       "0            1  ['quantos', 'empregados', 'cada', 'atuais', 'n...   \n",
       "1            1  ['solicito', 'cópia', 'atas', 'conselho', 'adm...   \n",
       "2            1  ['solicito', 'informar', 'norma', 'lei', 'decr...   \n",
       "3            1  ['solicito', 'gentileza', 'informação', 'sobre...   \n",
       "4            1  ['solicito', 'gentileza', 'informação', 'sobre...   \n",
       "\n",
       "                                               lemma  \n",
       "0  quanto empregado cada atual nível salarial pca...  \n",
       "1  solicito cópia ata conselho administração bnde...  \n",
       "2  solicito informar norma lei decreto portaria i...  \n",
       "3  solicito gentileza informação sobre quantidade...  \n",
       "4  solicito gentileza informação sobre quantidade...  "
      ]
     },
     "execution_count": 19,
     "metadata": {},
     "output_type": "execute_result"
    }
   ],
   "source": [
    "\n",
    "df_plain = pd.read_csv('../data/enc_tok_nostopword_nopunct_lemm.csv')\n",
    "df_plain.head()"
   ]
  },
  {
   "cell_type": "code",
   "execution_count": 20,
   "metadata": {},
   "outputs": [],
   "source": [
    "tokenizer = Tokenizer(num_words= max_features, split= ' ')\n",
    "tokenizer.fit_on_texts(df_plain['lemma'].values)\n",
    "x = tokenizer.texts_to_sequences(df_plain['lemma'].values)\n",
    "x = pad_sequences(x)"
   ]
  },
  {
   "cell_type": "code",
   "execution_count": 21,
   "metadata": {},
   "outputs": [],
   "source": [
    "y = pd.get_dummies(df_plain['age'])"
   ]
  },
  {
   "cell_type": "code",
   "execution_count": 22,
   "metadata": {},
   "outputs": [],
   "source": [
    "X_treino, X_teste, y_treino, y_teste = train_test_split(x, y, train_size=0.8, random_state=42 )\n"
   ]
  },
  {
   "cell_type": "code",
   "execution_count": 23,
   "metadata": {},
   "outputs": [],
   "source": [
    "model_plain = modelLSTMPos(x)"
   ]
  },
  {
   "cell_type": "code",
   "execution_count": 24,
   "metadata": {},
   "outputs": [
    {
     "name": "stdout",
     "output_type": "stream",
     "text": [
      "Epoch 1/20\n",
      "205/205 [==============================] - 10s 40ms/step - loss: 0.5557 - accuracy: 0.3578 - val_loss: 0.5401 - val_accuracy: 0.3549\n",
      "Epoch 2/20\n",
      "205/205 [==============================] - 8s 38ms/step - loss: 0.5125 - accuracy: 0.4183 - val_loss: 0.5007 - val_accuracy: 0.4378\n",
      "Epoch 3/20\n",
      "205/205 [==============================] - 8s 38ms/step - loss: 0.4824 - accuracy: 0.4747 - val_loss: 0.5011 - val_accuracy: 0.4506\n",
      "Epoch 4/20\n",
      "205/205 [==============================] - 8s 37ms/step - loss: 0.4646 - accuracy: 0.5046 - val_loss: 0.4954 - val_accuracy: 0.4561\n",
      "Epoch 5/20\n",
      "205/205 [==============================] - 8s 38ms/step - loss: 0.4480 - accuracy: 0.5355 - val_loss: 0.4957 - val_accuracy: 0.4604\n",
      "Epoch 6/20\n",
      "205/205 [==============================] - 8s 38ms/step - loss: 0.4339 - accuracy: 0.5582 - val_loss: 0.5052 - val_accuracy: 0.4585\n",
      "Epoch 7/20\n",
      "205/205 [==============================] - 8s 38ms/step - loss: 0.4165 - accuracy: 0.5849 - val_loss: 0.5207 - val_accuracy: 0.4543\n",
      "Epoch 8/20\n",
      "205/205 [==============================] - 8s 38ms/step - loss: 0.4045 - accuracy: 0.5994 - val_loss: 0.5270 - val_accuracy: 0.4585\n",
      "Epoch 9/20\n",
      "205/205 [==============================] - 8s 38ms/step - loss: 0.3833 - accuracy: 0.6309 - val_loss: 0.5402 - val_accuracy: 0.4476\n",
      "Epoch 10/20\n",
      "205/205 [==============================] - 8s 38ms/step - loss: 0.3727 - accuracy: 0.6439 - val_loss: 0.5431 - val_accuracy: 0.4695\n",
      "Epoch 11/20\n",
      "205/205 [==============================] - 8s 38ms/step - loss: 0.3530 - accuracy: 0.6649 - val_loss: 0.5613 - val_accuracy: 0.4494\n",
      "Epoch 12/20\n",
      "205/205 [==============================] - 8s 38ms/step - loss: 0.3371 - accuracy: 0.6880 - val_loss: 0.5694 - val_accuracy: 0.4555\n",
      "Epoch 13/20\n",
      "205/205 [==============================] - 8s 38ms/step - loss: 0.3185 - accuracy: 0.7163 - val_loss: 0.6021 - val_accuracy: 0.4537\n",
      "Epoch 14/20\n",
      "205/205 [==============================] - 8s 39ms/step - loss: 0.3061 - accuracy: 0.7258 - val_loss: 0.6091 - val_accuracy: 0.4506\n",
      "Epoch 15/20\n",
      "205/205 [==============================] - 8s 39ms/step - loss: 0.2934 - accuracy: 0.7396 - val_loss: 0.6249 - val_accuracy: 0.4445\n",
      "Epoch 16/20\n",
      "205/205 [==============================] - 8s 39ms/step - loss: 0.2774 - accuracy: 0.7576 - val_loss: 0.6622 - val_accuracy: 0.4463\n",
      "Epoch 17/20\n",
      "205/205 [==============================] - 8s 38ms/step - loss: 0.2680 - accuracy: 0.7631 - val_loss: 0.6869 - val_accuracy: 0.4415\n",
      "Epoch 18/20\n",
      "205/205 [==============================] - 8s 39ms/step - loss: 0.2513 - accuracy: 0.7921 - val_loss: 0.7285 - val_accuracy: 0.4329\n",
      "Epoch 19/20\n",
      "205/205 [==============================] - 8s 39ms/step - loss: 0.2454 - accuracy: 0.7907 - val_loss: 0.7520 - val_accuracy: 0.4366\n",
      "Epoch 20/20\n",
      "205/205 [==============================] - 8s 39ms/step - loss: 0.2341 - accuracy: 0.8058 - val_loss: 0.7947 - val_accuracy: 0.4427\n"
     ]
    }
   ],
   "source": [
    "history = model_plain.fit(X_treino, y_treino, epochs=20, validation_data=(X_teste, y_teste))"
   ]
  },
  {
   "cell_type": "markdown",
   "metadata": {},
   "source": [
    "##"
   ]
  }
 ],
 "metadata": {
  "kernelspec": {
   "display_name": "base",
   "language": "python",
   "name": "python3"
  },
  "language_info": {
   "codemirror_mode": {
    "name": "ipython",
    "version": 3
   },
   "file_extension": ".py",
   "mimetype": "text/x-python",
   "name": "python",
   "nbconvert_exporter": "python",
   "pygments_lexer": "ipython3",
   "version": "3.11.5"
  }
 },
 "nbformat": 4,
 "nbformat_minor": 2
}
