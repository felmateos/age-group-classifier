{
 "cells": [
  {
   "cell_type": "markdown",
   "metadata": {},
   "source": [
    "## BERT + NN"
   ]
  },
  {
   "cell_type": "code",
   "execution_count": 53,
   "metadata": {},
   "outputs": [],
   "source": [
    "import pandas as pd\n",
    "import numpy as np"
   ]
  },
  {
   "cell_type": "code",
   "execution_count": 54,
   "metadata": {},
   "outputs": [
    {
     "data": {
      "text/html": [
       "<div>\n",
       "<style scoped>\n",
       "    .dataframe tbody tr th:only-of-type {\n",
       "        vertical-align: middle;\n",
       "    }\n",
       "\n",
       "    .dataframe tbody tr th {\n",
       "        vertical-align: top;\n",
       "    }\n",
       "\n",
       "    .dataframe thead th {\n",
       "        text-align: right;\n",
       "    }\n",
       "</style>\n",
       "<table border=\"1\" class=\"dataframe\">\n",
       "  <thead>\n",
       "    <tr style=\"text-align: right;\">\n",
       "      <th></th>\n",
       "      <th>lemma</th>\n",
       "      <th>age_encoded</th>\n",
       "    </tr>\n",
       "  </thead>\n",
       "  <tbody>\n",
       "    <tr>\n",
       "      <th>0</th>\n",
       "      <td>quanto empregado cada atual nível salarial pca...</td>\n",
       "      <td>1</td>\n",
       "    </tr>\n",
       "    <tr>\n",
       "      <th>1</th>\n",
       "      <td>solicito cópia ata conselho administração bnde...</td>\n",
       "      <td>1</td>\n",
       "    </tr>\n",
       "    <tr>\n",
       "      <th>2</th>\n",
       "      <td>solicito informar norma lei decreto portaria i...</td>\n",
       "      <td>1</td>\n",
       "    </tr>\n",
       "    <tr>\n",
       "      <th>3</th>\n",
       "      <td>solicito gentileza informação sobre quantidade...</td>\n",
       "      <td>1</td>\n",
       "    </tr>\n",
       "    <tr>\n",
       "      <th>4</th>\n",
       "      <td>solicito gentileza informação sobre quantidade...</td>\n",
       "      <td>1</td>\n",
       "    </tr>\n",
       "  </tbody>\n",
       "</table>\n",
       "</div>"
      ],
      "text/plain": [
       "                                               lemma  age_encoded\n",
       "0  quanto empregado cada atual nível salarial pca...            1\n",
       "1  solicito cópia ata conselho administração bnde...            1\n",
       "2  solicito informar norma lei decreto portaria i...            1\n",
       "3  solicito gentileza informação sobre quantidade...            1\n",
       "4  solicito gentileza informação sobre quantidade...            1"
      ]
     },
     "execution_count": 54,
     "metadata": {},
     "output_type": "execute_result"
    }
   ],
   "source": [
    "df = pd.read_csv('../data/enc_tok_nostopword_nopunct_lemm.csv')\n",
    "df = df[['lemma', 'age_encoded']]\n",
    "df.head()"
   ]
  },
  {
   "cell_type": "markdown",
   "metadata": {},
   "source": [
    "### Model"
   ]
  },
  {
   "cell_type": "code",
   "execution_count": 55,
   "metadata": {},
   "outputs": [],
   "source": [
    "df2 = pd.read_csv('../embeddings/BERT_Embeddings_full.csv')"
   ]
  },
  {
   "cell_type": "code",
   "execution_count": 56,
   "metadata": {},
   "outputs": [],
   "source": [
    "y = pd.get_dummies(df2['age_encoded'])\n",
    "x  = df2.drop(['age', 'word_tokens', 'lemma'], axis=1)"
   ]
  },
  {
   "cell_type": "code",
   "execution_count": 57,
   "metadata": {},
   "outputs": [],
   "source": [
    "from sklearn.model_selection import train_test_split\n",
    "from sklearn.model_selection import cross_val_score\n",
    "#from tensorflow.keras.wrappers.scikit_learn import KerasClassifier\n",
    "from scikeras.wrappers import KerasClassifier"
   ]
  },
  {
   "cell_type": "code",
   "execution_count": 58,
   "metadata": {},
   "outputs": [
    {
     "data": {
      "text/plain": [
       "(5740, 769)"
      ]
     },
     "execution_count": 58,
     "metadata": {},
     "output_type": "execute_result"
    }
   ],
   "source": [
    "X_train, X_test, y_train, y_test = train_test_split(x, y, train_size=0.7, random_state=42 )\n",
    "X_train.shape\n"
   ]
  },
  {
   "cell_type": "code",
   "execution_count": 59,
   "metadata": {},
   "outputs": [],
   "source": [
    "import tensorflow as tf\n",
    "from tensorflow.keras import layers, models"
   ]
  },
  {
   "cell_type": "code",
   "execution_count": 63,
   "metadata": {},
   "outputs": [
    {
     "name": "stdout",
     "output_type": "stream",
     "text": [
      "Model: \"sequential_2\"\n",
      "_________________________________________________________________\n",
      " Layer (type)                Output Shape              Param #   \n",
      "=================================================================\n",
      " dense_6 (Dense)             (None, 128)               98560     \n",
      "                                                                 \n",
      " dense_7 (Dense)             (None, 64)                8256      \n",
      "                                                                 \n",
      " dropout_2 (Dropout)         (None, 64)                0         \n",
      "                                                                 \n",
      " dense_8 (Dense)             (None, 4)                 260       \n",
      "                                                                 \n",
      "=================================================================\n",
      "Total params: 107076 (418.27 KB)\n",
      "Trainable params: 107076 (418.27 KB)\n",
      "Non-trainable params: 0 (0.00 Byte)\n",
      "_________________________________________________________________\n"
     ]
    }
   ],
   "source": [
    "input_shape = (769,)\n",
    "\n",
    "\n",
    "model = models.Sequential()\n",
    "\n",
    "model.add(layers.Dense(128, activation='relu', input_shape=input_shape))\n",
    "model.add(layers.Dense(64, activation='relu'))\n",
    "model.add(layers.Dropout(0.6))\n",
    "\n",
    "\n",
    "model.add(layers.Dense(4, activation='softmax'))\n",
    "\n",
    "model.compile(optimizer='adam', loss='categorical_crossentropy', metrics=['accuracy'])\n",
    "\n",
    "\n",
    "model.summary()\n"
   ]
  },
  {
   "cell_type": "code",
   "execution_count": 64,
   "metadata": {},
   "outputs": [
    {
     "name": "stdout",
     "output_type": "stream",
     "text": [
      "Epoch 1/10\n",
      "180/180 [==============================] - 1s 3ms/step - loss: 1.2882 - accuracy: 0.3634\n",
      "Epoch 2/10\n",
      "180/180 [==============================] - 1s 3ms/step - loss: 0.9117 - accuracy: 0.6063\n",
      "Epoch 3/10\n",
      "180/180 [==============================] - 0s 3ms/step - loss: 0.5274 - accuracy: 0.8340\n",
      "Epoch 4/10\n",
      "180/180 [==============================] - 0s 3ms/step - loss: 0.2779 - accuracy: 0.9321\n",
      "Epoch 5/10\n",
      "180/180 [==============================] - 1s 3ms/step - loss: 0.1797 - accuracy: 0.9542\n",
      "Epoch 6/10\n",
      "180/180 [==============================] - 1s 3ms/step - loss: 0.1431 - accuracy: 0.9620\n",
      "Epoch 7/10\n",
      "180/180 [==============================] - 1s 3ms/step - loss: 0.1200 - accuracy: 0.9648\n",
      "Epoch 8/10\n",
      "180/180 [==============================] - 1s 3ms/step - loss: 0.1447 - accuracy: 0.9526\n",
      "Epoch 9/10\n",
      "180/180 [==============================] - 0s 3ms/step - loss: 0.0788 - accuracy: 0.9787\n",
      "Epoch 10/10\n",
      "180/180 [==============================] - 0s 3ms/step - loss: 0.0806 - accuracy: 0.9765\n"
     ]
    },
    {
     "data": {
      "text/plain": [
       "<keras.src.callbacks.History at 0x7ff79aa1dc50>"
      ]
     },
     "execution_count": 64,
     "metadata": {},
     "output_type": "execute_result"
    }
   ],
   "source": [
    "model.fit(X_train, y_train, epochs=10)"
   ]
  },
  {
   "cell_type": "code",
   "execution_count": 65,
   "metadata": {},
   "outputs": [
    {
     "name": "stdout",
     "output_type": "stream",
     "text": [
      "Epoch 1/10\n",
      "180/180 [==============================] - 1s 5ms/step - loss: 0.0750 - accuracy: 0.9767 - val_loss: 0.0016 - val_accuracy: 1.0000\n",
      "Epoch 2/10\n",
      "180/180 [==============================] - 1s 4ms/step - loss: 0.0690 - accuracy: 0.9794 - val_loss: 0.0053 - val_accuracy: 1.0000\n",
      "Epoch 3/10\n",
      "180/180 [==============================] - 1s 4ms/step - loss: 0.0719 - accuracy: 0.9767 - val_loss: 8.9769e-04 - val_accuracy: 1.0000\n",
      "Epoch 4/10\n",
      "180/180 [==============================] - 1s 4ms/step - loss: 0.0656 - accuracy: 0.9796 - val_loss: 9.6526e-04 - val_accuracy: 1.0000\n",
      "Epoch 5/10\n",
      "180/180 [==============================] - 1s 4ms/step - loss: 0.0627 - accuracy: 0.9828 - val_loss: 0.0012 - val_accuracy: 1.0000\n",
      "Epoch 6/10\n",
      "180/180 [==============================] - 1s 4ms/step - loss: 0.0654 - accuracy: 0.9779 - val_loss: 0.0015 - val_accuracy: 1.0000\n",
      "Epoch 7/10\n",
      "180/180 [==============================] - 1s 4ms/step - loss: 0.0625 - accuracy: 0.9787 - val_loss: 4.3706e-04 - val_accuracy: 1.0000\n",
      "Epoch 8/10\n",
      "180/180 [==============================] - 1s 3ms/step - loss: 0.0664 - accuracy: 0.9772 - val_loss: 6.5794e-04 - val_accuracy: 1.0000\n",
      "Epoch 9/10\n",
      "180/180 [==============================] - 1s 4ms/step - loss: 0.1940 - accuracy: 0.9331 - val_loss: 0.0021 - val_accuracy: 1.0000\n",
      "Epoch 10/10\n",
      "180/180 [==============================] - 1s 4ms/step - loss: 0.0533 - accuracy: 0.9831 - val_loss: 7.6814e-04 - val_accuracy: 1.0000\n"
     ]
    }
   ],
   "source": [
    "history = model.fit(X_train, y_train, epochs=10, validation_data=(X_test, y_test))"
   ]
  }
 ],
 "metadata": {
  "kernelspec": {
   "display_name": "base",
   "language": "python",
   "name": "python3"
  },
  "language_info": {
   "codemirror_mode": {
    "name": "ipython",
    "version": 3
   },
   "file_extension": ".py",
   "mimetype": "text/x-python",
   "name": "python",
   "nbconvert_exporter": "python",
   "pygments_lexer": "ipython3",
   "version": "3.11.5"
  }
 },
 "nbformat": 4,
 "nbformat_minor": 2
}
