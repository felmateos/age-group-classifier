{
 "cells": [
  {
   "cell_type": "markdown",
   "metadata": {},
   "source": [
    "## huggingface formality classifier"
   ]
  },
  {
   "cell_type": "markdown",
   "metadata": {},
   "source": [
    "### treino em um dataset de 4 linguas pt-br, eng, frances, italiano\n",
    "## [source](https://huggingface.co/s-nlp/mdeberta-base-formality-ranker)"
   ]
  },
  {
   "cell_type": "markdown",
   "metadata": {},
   "source": [
    "### Dataset"
   ]
  },
  {
   "cell_type": "code",
   "execution_count": 2,
   "metadata": {},
   "outputs": [],
   "source": [
    "import pandas as pd"
   ]
  },
  {
   "cell_type": "code",
   "execution_count": 4,
   "metadata": {},
   "outputs": [],
   "source": [
    "df_import = pd.read_csv('../data/enc_tok_nostopword_nopunct_lemm.csv')\n"
   ]
  },
  {
   "cell_type": "code",
   "execution_count": 5,
   "metadata": {},
   "outputs": [
    {
     "data": {
      "text/html": [
       "<div>\n",
       "<style scoped>\n",
       "    .dataframe tbody tr th:only-of-type {\n",
       "        vertical-align: middle;\n",
       "    }\n",
       "\n",
       "    .dataframe tbody tr th {\n",
       "        vertical-align: top;\n",
       "    }\n",
       "\n",
       "    .dataframe thead th {\n",
       "        text-align: right;\n",
       "    }\n",
       "</style>\n",
       "<table border=\"1\" class=\"dataframe\">\n",
       "  <thead>\n",
       "    <tr style=\"text-align: right;\">\n",
       "      <th></th>\n",
       "      <th>Unnamed: 0</th>\n",
       "      <th>req_text</th>\n",
       "      <th>age</th>\n",
       "      <th>age_encoded</th>\n",
       "      <th>word_tokens</th>\n",
       "      <th>lemma</th>\n",
       "    </tr>\n",
       "  </thead>\n",
       "  <tbody>\n",
       "    <tr>\n",
       "      <th>0</th>\n",
       "      <td>0</td>\n",
       "      <td>quantos empregados em cada um dos atuais níve...</td>\n",
       "      <td>a2</td>\n",
       "      <td>1</td>\n",
       "      <td>['quantos', 'empregados', 'cada', 'atuais', 'n...</td>\n",
       "      <td>quanto empregado cada atual nível salarial pca...</td>\n",
       "    </tr>\n",
       "    <tr>\n",
       "      <th>1</th>\n",
       "      <td>1</td>\n",
       "      <td>solicito cópia das atas do conselho de admini...</td>\n",
       "      <td>a2</td>\n",
       "      <td>1</td>\n",
       "      <td>['solicito', 'cópia', 'atas', 'conselho', 'adm...</td>\n",
       "      <td>solicito cópia ata conselho administração bnde...</td>\n",
       "    </tr>\n",
       "    <tr>\n",
       "      <th>2</th>\n",
       "      <td>2</td>\n",
       "      <td>solicito informar a norma lei decreto portari...</td>\n",
       "      <td>a2</td>\n",
       "      <td>1</td>\n",
       "      <td>['solicito', 'informar', 'norma', 'lei', 'decr...</td>\n",
       "      <td>solicito informar norma lei decreto portaria i...</td>\n",
       "    </tr>\n",
       "    <tr>\n",
       "      <th>3</th>\n",
       "      <td>3</td>\n",
       "      <td>solicito por gentileza a informação sobre a q...</td>\n",
       "      <td>a2</td>\n",
       "      <td>1</td>\n",
       "      <td>['solicito', 'gentileza', 'informação', 'sobre...</td>\n",
       "      <td>solicito gentileza informação sobre quantidade...</td>\n",
       "    </tr>\n",
       "    <tr>\n",
       "      <th>4</th>\n",
       "      <td>4</td>\n",
       "      <td>solicito por gentileza a informação sobre a q...</td>\n",
       "      <td>a2</td>\n",
       "      <td>1</td>\n",
       "      <td>['solicito', 'gentileza', 'informação', 'sobre...</td>\n",
       "      <td>solicito gentileza informação sobre quantidade...</td>\n",
       "    </tr>\n",
       "    <tr>\n",
       "      <th>...</th>\n",
       "      <td>...</td>\n",
       "      <td>...</td>\n",
       "      <td>...</td>\n",
       "      <td>...</td>\n",
       "      <td>...</td>\n",
       "      <td>...</td>\n",
       "    </tr>\n",
       "    <tr>\n",
       "      <th>8195</th>\n",
       "      <td>8195</td>\n",
       "      <td>desejo saber se meu nome consta na relação de ...</td>\n",
       "      <td>a4</td>\n",
       "      <td>3</td>\n",
       "      <td>['desejo', 'saber', 'nome', 'consta', 'relação...</td>\n",
       "      <td>desejo saber nome constar relação restituição ...</td>\n",
       "    </tr>\n",
       "    <tr>\n",
       "      <th>8196</th>\n",
       "      <td>8196</td>\n",
       "      <td>desejo saber se posso utilizar o nome fantasia...</td>\n",
       "      <td>a4</td>\n",
       "      <td>3</td>\n",
       "      <td>['desejo', 'saber', 'posso', 'utilizar', 'nome...</td>\n",
       "      <td>desejo saber poder utilizar nome fantasia sant...</td>\n",
       "    </tr>\n",
       "    <tr>\n",
       "      <th>8197</th>\n",
       "      <td>8197</td>\n",
       "      <td>desejo saber se tem e quantas vagas desocupada...</td>\n",
       "      <td>a4</td>\n",
       "      <td>3</td>\n",
       "      <td>['desejo', 'saber', 'quantas', 'vagas', 'desoc...</td>\n",
       "      <td>desejo saber quanta vaga desocupar ufrb cargo ...</td>\n",
       "    </tr>\n",
       "    <tr>\n",
       "      <th>8198</th>\n",
       "      <td>8198</td>\n",
       "      <td>desejo saber se tenho alguma pendência na rece...</td>\n",
       "      <td>a4</td>\n",
       "      <td>3</td>\n",
       "      <td>['desejo', 'saber', 'alguma', 'pendência', 're...</td>\n",
       "      <td>desejo saber algum pendência receitar federal ...</td>\n",
       "    </tr>\n",
       "    <tr>\n",
       "      <th>8199</th>\n",
       "      <td>8199</td>\n",
       "      <td>desejo saber se tenho contas em bancosque ja f...</td>\n",
       "      <td>a4</td>\n",
       "      <td>3</td>\n",
       "      <td>['desejo', 'saber', 'contas', 'bancosque', 'ja...</td>\n",
       "      <td>desejo saber conta bancosque ja fechar</td>\n",
       "    </tr>\n",
       "  </tbody>\n",
       "</table>\n",
       "<p>8200 rows × 6 columns</p>\n",
       "</div>"
      ],
      "text/plain": [
       "      Unnamed: 0                                           req_text age  \\\n",
       "0              0   quantos empregados em cada um dos atuais níve...  a2   \n",
       "1              1   solicito cópia das atas do conselho de admini...  a2   \n",
       "2              2   solicito informar a norma lei decreto portari...  a2   \n",
       "3              3   solicito por gentileza a informação sobre a q...  a2   \n",
       "4              4   solicito por gentileza a informação sobre a q...  a2   \n",
       "...          ...                                                ...  ..   \n",
       "8195        8195  desejo saber se meu nome consta na relação de ...  a4   \n",
       "8196        8196  desejo saber se posso utilizar o nome fantasia...  a4   \n",
       "8197        8197  desejo saber se tem e quantas vagas desocupada...  a4   \n",
       "8198        8198  desejo saber se tenho alguma pendência na rece...  a4   \n",
       "8199        8199  desejo saber se tenho contas em bancosque ja f...  a4   \n",
       "\n",
       "      age_encoded                                        word_tokens  \\\n",
       "0               1  ['quantos', 'empregados', 'cada', 'atuais', 'n...   \n",
       "1               1  ['solicito', 'cópia', 'atas', 'conselho', 'adm...   \n",
       "2               1  ['solicito', 'informar', 'norma', 'lei', 'decr...   \n",
       "3               1  ['solicito', 'gentileza', 'informação', 'sobre...   \n",
       "4               1  ['solicito', 'gentileza', 'informação', 'sobre...   \n",
       "...           ...                                                ...   \n",
       "8195            3  ['desejo', 'saber', 'nome', 'consta', 'relação...   \n",
       "8196            3  ['desejo', 'saber', 'posso', 'utilizar', 'nome...   \n",
       "8197            3  ['desejo', 'saber', 'quantas', 'vagas', 'desoc...   \n",
       "8198            3  ['desejo', 'saber', 'alguma', 'pendência', 're...   \n",
       "8199            3  ['desejo', 'saber', 'contas', 'bancosque', 'ja...   \n",
       "\n",
       "                                                  lemma  \n",
       "0     quanto empregado cada atual nível salarial pca...  \n",
       "1     solicito cópia ata conselho administração bnde...  \n",
       "2     solicito informar norma lei decreto portaria i...  \n",
       "3     solicito gentileza informação sobre quantidade...  \n",
       "4     solicito gentileza informação sobre quantidade...  \n",
       "...                                                 ...  \n",
       "8195  desejo saber nome constar relação restituição ...  \n",
       "8196  desejo saber poder utilizar nome fantasia sant...  \n",
       "8197  desejo saber quanta vaga desocupar ufrb cargo ...  \n",
       "8198  desejo saber algum pendência receitar federal ...  \n",
       "8199             desejo saber conta bancosque ja fechar  \n",
       "\n",
       "[8200 rows x 6 columns]"
      ]
     },
     "execution_count": 5,
     "metadata": {},
     "output_type": "execute_result"
    }
   ],
   "source": [
    "df_import['age_encoded']"
   ]
  },
  {
   "cell_type": "code",
   "execution_count": 4,
   "metadata": {},
   "outputs": [
    {
     "data": {
      "text/html": [
       "<div>\n",
       "<style scoped>\n",
       "    .dataframe tbody tr th:only-of-type {\n",
       "        vertical-align: middle;\n",
       "    }\n",
       "\n",
       "    .dataframe tbody tr th {\n",
       "        vertical-align: top;\n",
       "    }\n",
       "\n",
       "    .dataframe thead th {\n",
       "        text-align: right;\n",
       "    }\n",
       "</style>\n",
       "<table border=\"1\" class=\"dataframe\">\n",
       "  <thead>\n",
       "    <tr style=\"text-align: right;\">\n",
       "      <th></th>\n",
       "      <th>lemma</th>\n",
       "      <th>age</th>\n",
       "    </tr>\n",
       "  </thead>\n",
       "  <tbody>\n",
       "    <tr>\n",
       "      <th>0</th>\n",
       "      <td>quanto empregado cada atual nível salarial pca...</td>\n",
       "      <td>a2</td>\n",
       "    </tr>\n",
       "    <tr>\n",
       "      <th>1</th>\n",
       "      <td>solicito cópia ata conselho administração bnde...</td>\n",
       "      <td>a2</td>\n",
       "    </tr>\n",
       "    <tr>\n",
       "      <th>2</th>\n",
       "      <td>solicito informar norma lei decreto portaria i...</td>\n",
       "      <td>a2</td>\n",
       "    </tr>\n",
       "    <tr>\n",
       "      <th>3</th>\n",
       "      <td>solicito gentileza informação sobre quantidade...</td>\n",
       "      <td>a2</td>\n",
       "    </tr>\n",
       "    <tr>\n",
       "      <th>4</th>\n",
       "      <td>solicito gentileza informação sobre quantidade...</td>\n",
       "      <td>a2</td>\n",
       "    </tr>\n",
       "  </tbody>\n",
       "</table>\n",
       "</div>"
      ],
      "text/plain": [
       "                                               lemma age\n",
       "0  quanto empregado cada atual nível salarial pca...  a2\n",
       "1  solicito cópia ata conselho administração bnde...  a2\n",
       "2  solicito informar norma lei decreto portaria i...  a2\n",
       "3  solicito gentileza informação sobre quantidade...  a2\n",
       "4  solicito gentileza informação sobre quantidade...  a2"
      ]
     },
     "execution_count": 4,
     "metadata": {},
     "output_type": "execute_result"
    }
   ],
   "source": [
    "df = df_import[['lemma', 'age']] \n",
    "df.head()"
   ]
  },
  {
   "cell_type": "markdown",
   "metadata": {},
   "source": [
    "### Model"
   ]
  },
  {
   "cell_type": "code",
   "execution_count": 5,
   "metadata": {},
   "outputs": [
    {
     "name": "stderr",
     "output_type": "stream",
     "text": [
      "2023-12-17 17:29:14.599196: I tensorflow/tsl/cuda/cudart_stub.cc:28] Could not find cuda drivers on your machine, GPU will not be used.\n",
      "2023-12-17 17:29:14.821474: E tensorflow/compiler/xla/stream_executor/cuda/cuda_dnn.cc:9342] Unable to register cuDNN factory: Attempting to register factory for plugin cuDNN when one has already been registered\n",
      "2023-12-17 17:29:14.821503: E tensorflow/compiler/xla/stream_executor/cuda/cuda_fft.cc:609] Unable to register cuFFT factory: Attempting to register factory for plugin cuFFT when one has already been registered\n",
      "2023-12-17 17:29:14.822558: E tensorflow/compiler/xla/stream_executor/cuda/cuda_blas.cc:1518] Unable to register cuBLAS factory: Attempting to register factory for plugin cuBLAS when one has already been registered\n",
      "2023-12-17 17:29:14.923466: I tensorflow/core/platform/cpu_feature_guard.cc:182] This TensorFlow binary is optimized to use available CPU instructions in performance-critical operations.\n",
      "To enable the following instructions: AVX2 FMA, in other operations, rebuild TensorFlow with the appropriate compiler flags.\n",
      "2023-12-17 17:29:16.445293: W tensorflow/compiler/tf2tensorrt/utils/py_utils.cc:38] TF-TRT Warning: Could not find TensorRT\n"
     ]
    }
   ],
   "source": [
    "from transformers import pipeline"
   ]
  },
  {
   "cell_type": "code",
   "execution_count": 6,
   "metadata": {},
   "outputs": [],
   "source": [
    "pipe = pipeline(\"text-classification\", model=\"s-nlp/mdeberta-base-formality-ranker\")"
   ]
  },
  {
   "cell_type": "code",
   "execution_count": 7,
   "metadata": {},
   "outputs": [],
   "source": [
    "a = pipe(\"Hello, my dog is cute\")"
   ]
  },
  {
   "cell_type": "code",
   "execution_count": 8,
   "metadata": {},
   "outputs": [],
   "source": [
    "import numpy as np"
   ]
  },
  {
   "cell_type": "code",
   "execution_count": 9,
   "metadata": {},
   "outputs": [
    {
     "data": {
      "text/plain": [
       "[0.9961701035499573,\n",
       " 0.9980286955833435,\n",
       " 0.9968787431716919,\n",
       " 0.9978804588317871,\n",
       " 0.9976353645324707,\n",
       " 0.9978596568107605,\n",
       " 0.9976390600204468,\n",
       " 0.9979360103607178,\n",
       " 0.9974664449691772,\n",
       " 0.997734785079956]"
      ]
     },
     "execution_count": 9,
     "metadata": {},
     "output_type": "execute_result"
    }
   ],
   "source": [
    "emb = []\n",
    "for text in df['lemma']:\n",
    "    aux = pipe(text)\n",
    "    emb.append(aux[0]['score'])\n",
    "\n",
    "emb[:10]"
   ]
  },
  {
   "cell_type": "code",
   "execution_count": 10,
   "metadata": {},
   "outputs": [
    {
     "name": "stderr",
     "output_type": "stream",
     "text": [
      "/tmp/ipykernel_22491/480598403.py:1: SettingWithCopyWarning: \n",
      "A value is trying to be set on a copy of a slice from a DataFrame.\n",
      "Try using .loc[row_indexer,col_indexer] = value instead\n",
      "\n",
      "See the caveats in the documentation: https://pandas.pydata.org/pandas-docs/stable/user_guide/indexing.html#returning-a-view-versus-a-copy\n",
      "  df['formal_pt'] = emb\n"
     ]
    },
    {
     "data": {
      "text/html": [
       "<div>\n",
       "<style scoped>\n",
       "    .dataframe tbody tr th:only-of-type {\n",
       "        vertical-align: middle;\n",
       "    }\n",
       "\n",
       "    .dataframe tbody tr th {\n",
       "        vertical-align: top;\n",
       "    }\n",
       "\n",
       "    .dataframe thead th {\n",
       "        text-align: right;\n",
       "    }\n",
       "</style>\n",
       "<table border=\"1\" class=\"dataframe\">\n",
       "  <thead>\n",
       "    <tr style=\"text-align: right;\">\n",
       "      <th></th>\n",
       "      <th>lemma</th>\n",
       "      <th>age</th>\n",
       "      <th>formal_pt</th>\n",
       "    </tr>\n",
       "  </thead>\n",
       "  <tbody>\n",
       "    <tr>\n",
       "      <th>0</th>\n",
       "      <td>quanto empregado cada atual nível salarial pca...</td>\n",
       "      <td>a2</td>\n",
       "      <td>0.996170</td>\n",
       "    </tr>\n",
       "    <tr>\n",
       "      <th>1</th>\n",
       "      <td>solicito cópia ata conselho administração bnde...</td>\n",
       "      <td>a2</td>\n",
       "      <td>0.998029</td>\n",
       "    </tr>\n",
       "    <tr>\n",
       "      <th>2</th>\n",
       "      <td>solicito informar norma lei decreto portaria i...</td>\n",
       "      <td>a2</td>\n",
       "      <td>0.996879</td>\n",
       "    </tr>\n",
       "    <tr>\n",
       "      <th>3</th>\n",
       "      <td>solicito gentileza informação sobre quantidade...</td>\n",
       "      <td>a2</td>\n",
       "      <td>0.997880</td>\n",
       "    </tr>\n",
       "    <tr>\n",
       "      <th>4</th>\n",
       "      <td>solicito gentileza informação sobre quantidade...</td>\n",
       "      <td>a2</td>\n",
       "      <td>0.997635</td>\n",
       "    </tr>\n",
       "    <tr>\n",
       "      <th>...</th>\n",
       "      <td>...</td>\n",
       "      <td>...</td>\n",
       "      <td>...</td>\n",
       "    </tr>\n",
       "    <tr>\n",
       "      <th>8195</th>\n",
       "      <td>desejo saber nome constar relação restituição ...</td>\n",
       "      <td>a4</td>\n",
       "      <td>0.990378</td>\n",
       "    </tr>\n",
       "    <tr>\n",
       "      <th>8196</th>\n",
       "      <td>desejo saber poder utilizar nome fantasia sant...</td>\n",
       "      <td>a4</td>\n",
       "      <td>0.996539</td>\n",
       "    </tr>\n",
       "    <tr>\n",
       "      <th>8197</th>\n",
       "      <td>desejo saber quanta vaga desocupar ufrb cargo ...</td>\n",
       "      <td>a4</td>\n",
       "      <td>0.994341</td>\n",
       "    </tr>\n",
       "    <tr>\n",
       "      <th>8198</th>\n",
       "      <td>desejo saber algum pendência receitar federal ...</td>\n",
       "      <td>a4</td>\n",
       "      <td>0.991784</td>\n",
       "    </tr>\n",
       "    <tr>\n",
       "      <th>8199</th>\n",
       "      <td>desejo saber conta bancosque ja fechar</td>\n",
       "      <td>a4</td>\n",
       "      <td>0.983688</td>\n",
       "    </tr>\n",
       "  </tbody>\n",
       "</table>\n",
       "<p>8200 rows × 3 columns</p>\n",
       "</div>"
      ],
      "text/plain": [
       "                                                  lemma age  formal_pt\n",
       "0     quanto empregado cada atual nível salarial pca...  a2   0.996170\n",
       "1     solicito cópia ata conselho administração bnde...  a2   0.998029\n",
       "2     solicito informar norma lei decreto portaria i...  a2   0.996879\n",
       "3     solicito gentileza informação sobre quantidade...  a2   0.997880\n",
       "4     solicito gentileza informação sobre quantidade...  a2   0.997635\n",
       "...                                                 ...  ..        ...\n",
       "8195  desejo saber nome constar relação restituição ...  a4   0.990378\n",
       "8196  desejo saber poder utilizar nome fantasia sant...  a4   0.996539\n",
       "8197  desejo saber quanta vaga desocupar ufrb cargo ...  a4   0.994341\n",
       "8198  desejo saber algum pendência receitar federal ...  a4   0.991784\n",
       "8199             desejo saber conta bancosque ja fechar  a4   0.983688\n",
       "\n",
       "[8200 rows x 3 columns]"
      ]
     },
     "execution_count": 10,
     "metadata": {},
     "output_type": "execute_result"
    }
   ],
   "source": [
    "df['formal_pt'] = emb\n",
    "df"
   ]
  },
  {
   "cell_type": "code",
   "execution_count": 11,
   "metadata": {},
   "outputs": [],
   "source": [
    "df.to_csv('../data/hugface_formality.csv')"
   ]
  },
  {
   "cell_type": "code",
   "execution_count": 3,
   "metadata": {},
   "outputs": [
    {
     "data": {
      "text/html": [
       "<div>\n",
       "<style scoped>\n",
       "    .dataframe tbody tr th:only-of-type {\n",
       "        vertical-align: middle;\n",
       "    }\n",
       "\n",
       "    .dataframe tbody tr th {\n",
       "        vertical-align: top;\n",
       "    }\n",
       "\n",
       "    .dataframe thead th {\n",
       "        text-align: right;\n",
       "    }\n",
       "</style>\n",
       "<table border=\"1\" class=\"dataframe\">\n",
       "  <thead>\n",
       "    <tr style=\"text-align: right;\">\n",
       "      <th></th>\n",
       "      <th>Unnamed: 0</th>\n",
       "      <th>lemma</th>\n",
       "      <th>age</th>\n",
       "      <th>formal_pt</th>\n",
       "    </tr>\n",
       "  </thead>\n",
       "  <tbody>\n",
       "    <tr>\n",
       "      <th>0</th>\n",
       "      <td>0</td>\n",
       "      <td>quanto empregado cada atual nível salarial pca...</td>\n",
       "      <td>a2</td>\n",
       "      <td>0.996170</td>\n",
       "    </tr>\n",
       "    <tr>\n",
       "      <th>1</th>\n",
       "      <td>1</td>\n",
       "      <td>solicito cópia ata conselho administração bnde...</td>\n",
       "      <td>a2</td>\n",
       "      <td>0.998029</td>\n",
       "    </tr>\n",
       "    <tr>\n",
       "      <th>2</th>\n",
       "      <td>2</td>\n",
       "      <td>solicito informar norma lei decreto portaria i...</td>\n",
       "      <td>a2</td>\n",
       "      <td>0.996879</td>\n",
       "    </tr>\n",
       "    <tr>\n",
       "      <th>3</th>\n",
       "      <td>3</td>\n",
       "      <td>solicito gentileza informação sobre quantidade...</td>\n",
       "      <td>a2</td>\n",
       "      <td>0.997880</td>\n",
       "    </tr>\n",
       "    <tr>\n",
       "      <th>4</th>\n",
       "      <td>4</td>\n",
       "      <td>solicito gentileza informação sobre quantidade...</td>\n",
       "      <td>a2</td>\n",
       "      <td>0.997635</td>\n",
       "    </tr>\n",
       "    <tr>\n",
       "      <th>...</th>\n",
       "      <td>...</td>\n",
       "      <td>...</td>\n",
       "      <td>...</td>\n",
       "      <td>...</td>\n",
       "    </tr>\n",
       "    <tr>\n",
       "      <th>8195</th>\n",
       "      <td>8195</td>\n",
       "      <td>desejo saber nome constar relação restituição ...</td>\n",
       "      <td>a4</td>\n",
       "      <td>0.990378</td>\n",
       "    </tr>\n",
       "    <tr>\n",
       "      <th>8196</th>\n",
       "      <td>8196</td>\n",
       "      <td>desejo saber poder utilizar nome fantasia sant...</td>\n",
       "      <td>a4</td>\n",
       "      <td>0.996539</td>\n",
       "    </tr>\n",
       "    <tr>\n",
       "      <th>8197</th>\n",
       "      <td>8197</td>\n",
       "      <td>desejo saber quanta vaga desocupar ufrb cargo ...</td>\n",
       "      <td>a4</td>\n",
       "      <td>0.994341</td>\n",
       "    </tr>\n",
       "    <tr>\n",
       "      <th>8198</th>\n",
       "      <td>8198</td>\n",
       "      <td>desejo saber algum pendência receitar federal ...</td>\n",
       "      <td>a4</td>\n",
       "      <td>0.991784</td>\n",
       "    </tr>\n",
       "    <tr>\n",
       "      <th>8199</th>\n",
       "      <td>8199</td>\n",
       "      <td>desejo saber conta bancosque ja fechar</td>\n",
       "      <td>a4</td>\n",
       "      <td>0.983688</td>\n",
       "    </tr>\n",
       "  </tbody>\n",
       "</table>\n",
       "<p>8200 rows × 4 columns</p>\n",
       "</div>"
      ],
      "text/plain": [
       "      Unnamed: 0                                              lemma age  \\\n",
       "0              0  quanto empregado cada atual nível salarial pca...  a2   \n",
       "1              1  solicito cópia ata conselho administração bnde...  a2   \n",
       "2              2  solicito informar norma lei decreto portaria i...  a2   \n",
       "3              3  solicito gentileza informação sobre quantidade...  a2   \n",
       "4              4  solicito gentileza informação sobre quantidade...  a2   \n",
       "...          ...                                                ...  ..   \n",
       "8195        8195  desejo saber nome constar relação restituição ...  a4   \n",
       "8196        8196  desejo saber poder utilizar nome fantasia sant...  a4   \n",
       "8197        8197  desejo saber quanta vaga desocupar ufrb cargo ...  a4   \n",
       "8198        8198  desejo saber algum pendência receitar federal ...  a4   \n",
       "8199        8199             desejo saber conta bancosque ja fechar  a4   \n",
       "\n",
       "      formal_pt  \n",
       "0      0.996170  \n",
       "1      0.998029  \n",
       "2      0.996879  \n",
       "3      0.997880  \n",
       "4      0.997635  \n",
       "...         ...  \n",
       "8195   0.990378  \n",
       "8196   0.996539  \n",
       "8197   0.994341  \n",
       "8198   0.991784  \n",
       "8199   0.983688  \n",
       "\n",
       "[8200 rows x 4 columns]"
      ]
     },
     "execution_count": 3,
     "metadata": {},
     "output_type": "execute_result"
    }
   ],
   "source": [
    "df = pd.read_csv('../data/hugface_formality.csv')\n",
    "df"
   ]
  },
  {
   "cell_type": "code",
   "execution_count": 11,
   "metadata": {},
   "outputs": [],
   "source": [
    "from sklearn.model_selection import train_test_split"
   ]
  },
  {
   "cell_type": "code",
   "execution_count": 6,
   "metadata": {},
   "outputs": [],
   "source": [
    "X = df['formal_pt']\n",
    "y = df_import['age_encoded']"
   ]
  },
  {
   "cell_type": "code",
   "execution_count": 14,
   "metadata": {},
   "outputs": [],
   "source": [
    "import pandas as pd\n",
    "import numpy as np\n",
    "from scipy.sparse import load_npz\n",
    "\n",
    "from sklearn import naive_bayes\n",
    "from sklearn.svm import SVC\n",
    "from sklearn.ensemble import RandomForestClassifier\n",
    "\n",
    "from sklearn.model_selection import cross_val_score\n",
    "from sklearn.metrics import accuracy_score\n",
    "\n",
    "import optuna\n",
    "\n",
    "from sklearn.metrics import confusion_matrix\n",
    "import matplotlib.pyplot as plt\n",
    "import seaborn as sns"
   ]
  },
  {
   "cell_type": "code",
   "execution_count": 15,
   "metadata": {},
   "outputs": [],
   "source": [
    "X_train, X_test, y_train, y_test = train_test_split(X, y, train_size=0.8, random_state=42)"
   ]
  },
  {
   "cell_type": "code",
   "execution_count": 21,
   "metadata": {},
   "outputs": [],
   "source": [
    "X_train = np.array(X_train.array).reshape(-1,1)\n",
    "X_test = np.array(X_test.array).reshape(-1,1)"
   ]
  },
  {
   "cell_type": "code",
   "execution_count": 22,
   "metadata": {},
   "outputs": [
    {
     "name": "stdout",
     "output_type": "stream",
     "text": [
      "[0.37042683 0.36737805 0.37042683 0.36890244 0.36737805 0.37195122\n",
      " 0.37042683 0.36432927 0.36585366 0.36737805]\n"
     ]
    },
    {
     "data": {
      "text/plain": [
       "0.3684451219512195"
      ]
     },
     "execution_count": 22,
     "metadata": {},
     "output_type": "execute_result"
    }
   ],
   "source": [
    "from sklearn.svm import SVC\n",
    "\n",
    "SVM_std = SVC()\n",
    "\n",
    "scores = cross_val_score(SVM_std, X_train, y_train, cv=10)\n",
    "\n",
    "print(scores)\n",
    "scores.mean()"
   ]
  }
 ],
 "metadata": {
  "kernelspec": {
   "display_name": "base",
   "language": "python",
   "name": "python3"
  },
  "language_info": {
   "codemirror_mode": {
    "name": "ipython",
    "version": 3
   },
   "file_extension": ".py",
   "mimetype": "text/x-python",
   "name": "python",
   "nbconvert_exporter": "python",
   "pygments_lexer": "ipython3",
   "version": "3.11.5"
  }
 },
 "nbformat": 4,
 "nbformat_minor": 2
}
